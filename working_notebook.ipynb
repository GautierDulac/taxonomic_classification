{
 "cells": [
  {
   "cell_type": "markdown",
   "metadata": {
    "toc": true
   },
   "source": [
    "<h1>Table of Contents<span class=\"tocSkip\"></span></h1>\n",
    "<div class=\"toc\"><ul class=\"toc-item\"><li><span><a href=\"#Packages\" data-toc-modified-id=\"Packages-1\"><span class=\"toc-item-num\">1&nbsp;&nbsp;</span>Packages</a></span></li><li><span><a href=\"#Merging-main-files\" data-toc-modified-id=\"Merging-main-files-2\"><span class=\"toc-item-num\">2&nbsp;&nbsp;</span>Merging main files</a></span></li><li><span><a href=\"#Loading-primers\" data-toc-modified-id=\"Loading-primers-3\"><span class=\"toc-item-num\">3&nbsp;&nbsp;</span>Loading primers</a></span></li></ul></div>"
   ]
  },
  {
   "cell_type": "markdown",
   "metadata": {},
   "source": [
    "## Packages"
   ]
  },
  {
   "cell_type": "code",
   "execution_count": 3,
   "metadata": {
    "pycharm": {
     "is_executing": false
    }
   },
   "outputs": [
    {
     "name": "stdout",
     "output_type": "stream",
     "text": [
      "The autoreload extension is already loaded. To reload it, use:\n",
      "  %reload_ext autoreload\n"
     ]
    }
   ],
   "source": [
    "%load_ext autoreload\n",
    "%autoreload 2\n",
    "\n",
    "from utils.loading import read_saved_file\n",
    "import pandas as pd"
   ]
  },
  {
   "cell_type": "markdown",
   "metadata": {},
   "source": [
    "## Merging main files"
   ]
  },
  {
   "cell_type": "code",
   "execution_count": 2,
   "metadata": {},
   "outputs": [],
   "source": [
    "sequence_df = read_saved_file(type_to_read='Sequence')\n",
    "taxonomy_df = read_saved_file(type_to_read='Taxonomy')"
   ]
  },
  {
   "cell_type": "code",
   "execution_count": 28,
   "metadata": {},
   "outputs": [],
   "source": [
    "joined_df = sequence_df.merge(taxonomy_df.drop('file_num', axis=1), on = ['reference'], how='left')"
   ]
  },
  {
   "cell_type": "code",
   "execution_count": 35,
   "metadata": {},
   "outputs": [],
   "source": [
    "working_df = joined_df.dropna(axis=0, subset=['kingdom'])"
   ]
  },
  {
   "cell_type": "code",
   "execution_count": 39,
   "metadata": {},
   "outputs": [
    {
     "data": {
      "text/plain": [
       "PROTEOBACTERIA    23510\n",
       "FIRMICUTES        22212\n",
       "BACTEROIDETES      8356\n",
       "ACTINOBACTERIA     5315\n",
       "CHLOROFLEXI        2530\n",
       "                  ...  \n",
       "NANOARCHAEOTA         4\n",
       "DICTYOGLOMI           3\n",
       "CD12                  3\n",
       "GOUTA4                3\n",
       "WS6                   2\n",
       "Name: phylum, Length: 68, dtype: int64"
      ]
     },
     "execution_count": 39,
     "metadata": {},
     "output_type": "execute_result"
    }
   ],
   "source": [
    "working_df.phylum.value_counts()"
   ]
  },
  {
   "cell_type": "markdown",
   "metadata": {},
   "source": [
    "## Loading primers"
   ]
  },
  {
   "cell_type": "code",
   "execution_count": 12,
   "metadata": {},
   "outputs": [],
   "source": [
    "def load_primers(start_or_end: str = '') -> pd.DataFrame:\n",
    "    \n",
    "    seq_file = open('../data/{}_primers.fasta'.format(start_or_end))\n",
    "    line_to_read = True\n",
    "    list_of_reads = []\n",
    "    while line_to_read:\n",
    "        hvr = seq_file.readline()[1:-1]\n",
    "        seq = seq_file.readline()[:-2]\n",
    "        if hvr == '':\n",
    "            line_to_read = False\n",
    "        else:\n",
    "            list_of_reads.append([hvr, seq, start_or_end])\n",
    "    seq_file.close()\n",
    "    return pd.DataFrame(list_of_reads, columns=['hvr', 'sequence', 'start_or_end'])"
   ]
  },
  {
   "cell_type": "code",
   "execution_count": 16,
   "metadata": {},
   "outputs": [],
   "source": [
    "start_primers = load_primers('start')\n",
    "end_primers = load_primers('end')"
   ]
  },
  {
   "cell_type": "code",
   "execution_count": 17,
   "metadata": {},
   "outputs": [
    {
     "data": {
      "text/html": [
       "<div>\n",
       "<style scoped>\n",
       "    .dataframe tbody tr th:only-of-type {\n",
       "        vertical-align: middle;\n",
       "    }\n",
       "\n",
       "    .dataframe tbody tr th {\n",
       "        vertical-align: top;\n",
       "    }\n",
       "\n",
       "    .dataframe thead th {\n",
       "        text-align: right;\n",
       "    }\n",
       "</style>\n",
       "<table border=\"1\" class=\"dataframe\">\n",
       "  <thead>\n",
       "    <tr style=\"text-align: right;\">\n",
       "      <th></th>\n",
       "      <th>hvr</th>\n",
       "      <th>sequence</th>\n",
       "      <th>start_or_end</th>\n",
       "    </tr>\n",
       "  </thead>\n",
       "  <tbody>\n",
       "    <tr>\n",
       "      <td>0</td>\n",
       "      <td>V2</td>\n",
       "      <td>AGYGGCGNACGGGTGAGTA</td>\n",
       "      <td>start</td>\n",
       "    </tr>\n",
       "    <tr>\n",
       "      <td>1</td>\n",
       "      <td>V3</td>\n",
       "      <td>CCTACGGGAGGCAGCA</td>\n",
       "      <td>start</td>\n",
       "    </tr>\n",
       "    <tr>\n",
       "      <td>2</td>\n",
       "      <td>V4</td>\n",
       "      <td>AYTGGGYDTAAAGN</td>\n",
       "      <td>start</td>\n",
       "    </tr>\n",
       "    <tr>\n",
       "      <td>3</td>\n",
       "      <td>V5</td>\n",
       "      <td>AGGATTAGATACCC</td>\n",
       "      <td>start</td>\n",
       "    </tr>\n",
       "    <tr>\n",
       "      <td>4</td>\n",
       "      <td>V6</td>\n",
       "      <td>TCGATGCAACGCGAAGA</td>\n",
       "      <td>start</td>\n",
       "    </tr>\n",
       "    <tr>\n",
       "      <td>5</td>\n",
       "      <td>V7</td>\n",
       "      <td>GYAACGAGCGCAACC</td>\n",
       "      <td>start</td>\n",
       "    </tr>\n",
       "    <tr>\n",
       "      <td>6</td>\n",
       "      <td>V8</td>\n",
       "      <td>ATGGCTGTCGTCAGC</td>\n",
       "      <td>start</td>\n",
       "    </tr>\n",
       "    <tr>\n",
       "      <td>7</td>\n",
       "      <td>V23</td>\n",
       "      <td>AGYGGCGNACGGGTGAGTA</td>\n",
       "      <td>start</td>\n",
       "    </tr>\n",
       "    <tr>\n",
       "      <td>8</td>\n",
       "      <td>V34</td>\n",
       "      <td>CCTACGGGRSGCAGCA</td>\n",
       "      <td>start</td>\n",
       "    </tr>\n",
       "    <tr>\n",
       "      <td>9</td>\n",
       "      <td>V35</td>\n",
       "      <td>CCTACGGGAGGCAGCA</td>\n",
       "      <td>start</td>\n",
       "    </tr>\n",
       "    <tr>\n",
       "      <td>10</td>\n",
       "      <td>V45</td>\n",
       "      <td>AYTGGGYDTAAAGN</td>\n",
       "      <td>start</td>\n",
       "    </tr>\n",
       "    <tr>\n",
       "      <td>11</td>\n",
       "      <td>V56</td>\n",
       "      <td>GGATTAGATACCCTGGTAGTC</td>\n",
       "      <td>start</td>\n",
       "    </tr>\n",
       "    <tr>\n",
       "      <td>12</td>\n",
       "      <td>V67</td>\n",
       "      <td>CAACGCGAAGAACCTTAC</td>\n",
       "      <td>start</td>\n",
       "    </tr>\n",
       "    <tr>\n",
       "      <td>13</td>\n",
       "      <td>V78</td>\n",
       "      <td>AGGTGCTGCATGGCT</td>\n",
       "      <td>start</td>\n",
       "    </tr>\n",
       "  </tbody>\n",
       "</table>\n",
       "</div>"
      ],
      "text/plain": [
       "    hvr               sequence start_or_end\n",
       "0    V2    AGYGGCGNACGGGTGAGTA        start\n",
       "1    V3       CCTACGGGAGGCAGCA        start\n",
       "2    V4         AYTGGGYDTAAAGN        start\n",
       "3    V5         AGGATTAGATACCC        start\n",
       "4    V6      TCGATGCAACGCGAAGA        start\n",
       "5    V7        GYAACGAGCGCAACC        start\n",
       "6    V8        ATGGCTGTCGTCAGC        start\n",
       "7   V23    AGYGGCGNACGGGTGAGTA        start\n",
       "8   V34       CCTACGGGRSGCAGCA        start\n",
       "9   V35       CCTACGGGAGGCAGCA        start\n",
       "10  V45         AYTGGGYDTAAAGN        start\n",
       "11  V56  GGATTAGATACCCTGGTAGTC        start\n",
       "12  V67     CAACGCGAAGAACCTTAC        start\n",
       "13  V78        AGGTGCTGCATGGCT        start"
      ]
     },
     "execution_count": 17,
     "metadata": {},
     "output_type": "execute_result"
    }
   ],
   "source": [
    "start_primers"
   ]
  }
 ],
 "metadata": {
  "kernelspec": {
   "display_name": "Python 3",
   "language": "python",
   "name": "python3"
  },
  "language_info": {
   "codemirror_mode": {
    "name": "ipython",
    "version": 3
   },
   "file_extension": ".py",
   "mimetype": "text/x-python",
   "name": "python",
   "nbconvert_exporter": "python",
   "pygments_lexer": "ipython3",
   "version": "3.7.4"
  },
  "pycharm": {
   "stem_cell": {
    "cell_type": "raw",
    "metadata": {
     "collapsed": false
    },
    "source": []
   }
  },
  "toc": {
   "base_numbering": 1,
   "nav_menu": {},
   "number_sections": true,
   "sideBar": true,
   "skip_h1_title": true,
   "title_cell": "Table of Contents",
   "title_sidebar": "Contents",
   "toc_cell": true,
   "toc_position": {},
   "toc_section_display": true,
   "toc_window_display": false
  }
 },
 "nbformat": 4,
 "nbformat_minor": 2
}
