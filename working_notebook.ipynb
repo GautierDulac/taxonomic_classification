{
 "cells": [
  {
   "cell_type": "markdown",
   "metadata": {
    "toc": true
   },
   "source": [
    "<h1>Table of Contents<span class=\"tocSkip\"></span></h1>\n",
    "<div class=\"toc\"><ul class=\"toc-item\"><li><span><a href=\"#Packages\" data-toc-modified-id=\"Packages-1\"><span class=\"toc-item-num\">1&nbsp;&nbsp;</span>Packages</a></span></li><li><span><a href=\"#Test-a-first-naive-bayesian-model\" data-toc-modified-id=\"Test-a-first-naive-bayesian-model-2\"><span class=\"toc-item-num\">2&nbsp;&nbsp;</span>Test a first naive bayesian model</a></span></li><li><span><a href=\"#RF\" data-toc-modified-id=\"RF-3\"><span class=\"toc-item-num\">3&nbsp;&nbsp;</span>RF</a></span></li><li><span><a href=\"#XGBOOST\" data-toc-modified-id=\"XGBOOST-4\"><span class=\"toc-item-num\">4&nbsp;&nbsp;</span>XGBOOST</a></span></li><li><span><a href=\"#XGBOOST-FORCE\" data-toc-modified-id=\"XGBOOST-FORCE-5\"><span class=\"toc-item-num\">5&nbsp;&nbsp;</span>XGBOOST FORCE</a></span></li></ul></div>"
   ]
  },
  {
   "cell_type": "markdown",
   "metadata": {},
   "source": [
    "## Packages"
   ]
  },
  {
   "cell_type": "code",
   "execution_count": null,
   "metadata": {
    "pycharm": {
     "is_executing": false
    }
   },
   "outputs": [],
   "source": [
    "%load_ext autoreload\n",
    "%autoreload 2"
   ]
  },
  {
   "cell_type": "code",
   "execution_count": null,
   "metadata": {},
   "outputs": [],
   "source": [
    "import warnings\n",
    "warnings.simplefilter('ignore')\n",
    "from utils.utils import time_difference_good_format\n",
    "import pandas as pd\n",
    "import time\n",
    "import os\n",
    "import psutil"
   ]
  },
  {
   "cell_type": "markdown",
   "metadata": {},
   "source": [
    "## Test a first naive bayesian model"
   ]
  },
  {
   "cell_type": "code",
   "execution_count": null,
   "metadata": {},
   "outputs": [],
   "source": [
    "from models.naive_bayes_k import naive_bayes_k"
   ]
  },
  {
   "cell_type": "code",
   "execution_count": null,
   "metadata": {
    "scrolled": true
   },
   "outputs": [],
   "source": [
    "k_list = []\n",
    "begin_time = time.time()\n",
    "for k in range(1,6):\n",
    "    all_results = []\n",
    "    for taxonomy_level in range(7):\n",
    "        for selected_primer in ['V1','V2', 'V3', 'V4', 'V5', 'V6', 'V7', 'V8', 'V9', 'V12', 'V23', 'V34', 'V45', 'V56', 'V67', 'V78', 'V89', 'sequence']:\n",
    "            print('Now training: Naive Bayes {} with taxonomy level {} and hvr {} - lasted: {}'.format(k, taxonomy_level, selected_primer, time_difference_good_format(begin_time, time.time())), end='\\r')\n",
    "            test_size, main_class_prop, accuracy = naive_bayes_k(k=k,sequence_origin='', \n",
    "                                                                 primers_origin='DairyDB', \n",
    "                                                                 taxonomy_level=taxonomy_level,\n",
    "                                                                 selected_primer=selected_primer)\n",
    "            all_results.append([selected_primer, taxonomy_level, test_size, main_class_prop, accuracy])\n",
    "    k_list.append(all_results)\n",
    "    k_df = pd.DataFrame(k_list[k-1], columns=['HyperVariable Region','Taxonomy Rank to be classified','Test Size', 'Main Class prop', 'Naive Bayes - NB({})'.format(k)])\n",
    "    k_df.to_csv('results/models/Naive Bayes - NB({}) - DB and GG - DB - accuracies.csv'.format(k), index=False)"
   ]
  },
  {
   "cell_type": "code",
   "execution_count": null,
   "metadata": {},
   "outputs": [],
   "source": [
    "df_list = []\n",
    "for k in range(len(k_list)):\n",
    "    df_list.append(pd.DataFrame(k_list[k], columns=['HyperVariable Region','Taxonomy Rank to be classified','Test Size', 'Main Class prop', 'Naive Bayes - NB({})'.format(k+1)]))\n",
    "\n",
    "final_df = pd.merge(df_list[0], df_list[1], on=['HyperVariable Region','Taxonomy Rank to be classified','Test Size', 'Main Class prop'], how='left')\n",
    "final_df = pd.merge(final_df, df_list[2], on=['HyperVariable Region','Taxonomy Rank to be classified','Test Size', 'Main Class prop'], how='left')\n",
    "final_df = pd.merge(final_df, df_list[3], on=['HyperVariable Region','Taxonomy Rank to be classified','Test Size', 'Main Class prop'], how='left')\n",
    "final_df = pd.merge(final_df, df_list[4], on=['HyperVariable Region','Taxonomy Rank to be classified','Test Size', 'Main Class prop'], how='left')\n",
    "\n",
    "final_df.to_csv('results/models/Naive Bayes - ALL NB - DB and GG - DB.csv'.format(k), index=False)"
   ]
  },
  {
   "cell_type": "markdown",
   "metadata": {},
   "source": [
    "## RF"
   ]
  },
  {
   "cell_type": "code",
   "execution_count": null,
   "metadata": {},
   "outputs": [],
   "source": [
    "from models.random_forest import random_forest_k_default"
   ]
  },
  {
   "cell_type": "code",
   "execution_count": null,
   "metadata": {},
   "outputs": [],
   "source": [
    "test_size, main_class_prop, accuracy = random_forest_k_default(k=4,sequence_origin='', \n",
    "                                                               primers_origin='DairyDB', \n",
    "                                                               taxonomy_level=3,\n",
    "                                                               selected_primer='V4')"
   ]
  },
  {
   "cell_type": "code",
   "execution_count": null,
   "metadata": {},
   "outputs": [],
   "source": [
    "accuracy"
   ]
  },
  {
   "cell_type": "code",
   "execution_count": null,
   "metadata": {
    "scrolled": true
   },
   "outputs": [],
   "source": [
    "k_list = []\n",
    "begin_time = time.time()\n",
    "for k in range(4,6):\n",
    "    all_results = []\n",
    "    for taxonomy_level in range(7):\n",
    "        for selected_primer in ['V1','V2', 'V3', 'V4', 'V5', 'V6', 'V7', 'V8', 'V9', 'V12', 'V23', 'V34', 'V45', 'V56', 'V67', 'V78', 'V89']:\n",
    "            test_size, main_class_prop, accuracy = random_forest_k_default(k=k,sequence_origin='', \n",
    "                                                                                   primers_origin='DairyDB', \n",
    "                                                                                   taxonomy_level=taxonomy_level,\n",
    "                                                                                   selected_primer=selected_primer)\n",
    "            all_results.append([selected_primer, taxonomy_level, test_size, main_class_prop, accuracy])\n",
    "    k_list.append(all_results)\n",
    "    k_df = pd.DataFrame(k_list[k-4], columns=['HyperVariable Region','Taxonomy Rank to be classified','Test Size', 'Main Class prop', 'Random Forest - RF({})'.format(k)])\n",
    "    k_df.to_csv('results/models/Random Forest - RF({}) - DB and GG - DB - accuracies.csv'.format(k), index=False)"
   ]
  },
  {
   "cell_type": "code",
   "execution_count": null,
   "metadata": {},
   "outputs": [],
   "source": [
    "df_list = []\n",
    "for k in range(len(k_list)):\n",
    "    df_list.append(pd.DataFrame(k_list[k], columns=['HyperVariable Region','Taxonomy Rank to be classified','Test Size', 'Main Class prop', 'Random Forest - RF({})'.format(k+4)]))\n",
    "\n",
    "final_df = pd.merge(df_list[0], df_list[1], on=['HyperVariable Region','Taxonomy Rank to be classified','Test Size', 'Main Class prop'], how='left')\n",
    "#final_df = pd.merge(final_df, df_list[2], on=['HyperVariable Region','Taxonomy Rank to be classified','Test Size', 'Main Class prop'], how='left')\n",
    "#final_df = pd.merge(final_df, df_list[3], on=['HyperVariable Region','Taxonomy Rank to be classified','Test Size', 'Main Class prop'], how='left')\n",
    "#final_df = pd.merge(final_df, df_list[4], on=['HyperVariable Region','Taxonomy Rank to be classified','Test Size', 'Main Class prop'], how='left')\n",
    "\n",
    "final_df.to_csv('results/models/Random Forest - RF 4 & 5 - DB and GG - DB.csv'.format(k), index=False)"
   ]
  },
  {
   "cell_type": "markdown",
   "metadata": {},
   "source": [
    "## XGBOOST"
   ]
  },
  {
   "cell_type": "code",
   "execution_count": null,
   "metadata": {},
   "outputs": [],
   "source": [
    "k_list = []\n",
    "begin_time = time.time()\n",
    "for k in range(5,0, -1):\n",
    "    all_results = []\n",
    "    for taxonomy_level in range(7):\n",
    "        for selected_primer in ['V1','V2', 'V3', 'V4', 'V5', 'V6', 'V7', 'V8', 'V9', 'V12', 'V23', 'V34', 'V45', 'V56', 'V67', 'V78', 'V89', 'sequence']:\n",
    "            print('Now training: XGBoost {} with taxonomy level {} and hvr {} - lasted: {}'.format(k, taxonomy_level, selected_primer, time_difference_good_format(begin_time, time.time())), end='\\n')\n",
    "            process = psutil.Process(os.getpid())\n",
    "            print('Memory Usage before function: {:0.2f} Mb'.format(process.memory_info().rss / float(2 ** 20)), end='\\n')\n",
    "            test_size, main_class_prop, accuracy = xgboost_k_default(k=k,sequence_origin='DairyDB', \n",
    "                                                                     primers_origin='DairyDB', \n",
    "                                                                     taxonomy_level=taxonomy_level,\n",
    "                                                                     selected_primer=selected_primer)\n",
    "            process = psutil.Process(os.getpid())\n",
    "            print('Memory Usage after function: {:0.2f} Mb'.format(process.memory_info().rss / float(2 ** 20)), end='\\n')\n",
    "            all_results.append([selected_primer, taxonomy_level, test_size, main_class_prop, accuracy])\n",
    "    k_list.append(all_results)\n",
    "    k_df = pd.DataFrame(k_list[5-k], columns=['HyperVariable Region','Taxonomy Rank to be classified','Test Size', 'Main Class prop', 'XGBoost - XGB({})'.format(k+1)])\n",
    "    k_df.to_csv('results/models/XGBoost - XGB({}) - DB - DB - accuracies.csv'.format(k), index=False)"
   ]
  },
  {
   "cell_type": "code",
   "execution_count": null,
   "metadata": {},
   "outputs": [],
   "source": [
    "df_list = []\n",
    "for k in range(len(k_list)):\n",
    "    df_list.append(pd.DataFrame(k_list[k], columns=['HyperVariable Region','Taxonomy Rank to be classified','Test Size', 'Main Class prop', 'XGBoost - XGB({})'.format(5-k)]))\n",
    "\n",
    "final_df = pd.merge(df_list[0], df_list[1], on=['HyperVariable Region','Taxonomy Rank to be classified','Test Size', 'Main Class prop'], how='left')\n",
    "final_df = pd.merge(final_df, df_list[2], on=['HyperVariable Region','Taxonomy Rank to be classified','Test Size', 'Main Class prop'], how='left')\n",
    "final_df = pd.merge(final_df, df_list[3], on=['HyperVariable Region','Taxonomy Rank to be classified','Test Size', 'Main Class prop'], how='left')\n",
    "final_df = pd.merge(final_df, df_list[4], on=['HyperVariable Region','Taxonomy Rank to be classified','Test Size', 'Main Class prop'], how='left')\n",
    "\n",
    "final_df.to_csv('results/models/XGBoost - ALL XGB - DB - DB.csv', index=False)"
   ]
  },
  {
   "cell_type": "markdown",
   "metadata": {},
   "source": [
    "## XGBOOST FORCE"
   ]
  },
  {
   "cell_type": "code",
   "execution_count": null,
   "metadata": {
    "scrolled": true
   },
   "outputs": [
    {
     "name": "stdout",
     "output_type": "stream",
     "text": [
      "Now training: XGBoost 5 with taxonomy level 3 and hvr V67 - lasted: 0 second\n",
      "Memory Usage: 749.69 Mb\n",
      "Now training: XGBoost 5 with taxonomy level 3 and hvr V78 - lasted: 31 minutes and 5 seconds\n",
      "Memory Usage: 1328.81 Mb\n",
      "Now training: XGBoost 5 with taxonomy level 3 and hvr V89 - lasted: 59 minutes and 53 seconds\n",
      "Memory Usage: 1903.74 Mb\n",
      "Now training: XGBoost 5 with taxonomy level 3 and hvr sequence - lasted: 1 hour, 6 minutes and 57 seconds\n"
     ]
    }
   ],
   "source": [
    "import warnings\n",
    "warnings.simplefilter('ignore')\n",
    "from utils.utils import time_difference_good_format, save_update, restartkernel\n",
    "import pandas as pd\n",
    "import time\n",
    "import os\n",
    "from models.xgboost import xgboost_k_default\n",
    "import time\n",
    "import psutil\n",
    "begin_time = time.time()\n",
    "k=5\n",
    "taxonomy_level=3\n",
    "for selected_primer in ['sequence']:\n",
    "    print('Now training: XGBoost {} with taxonomy level {} and hvr {} - lasted: {}'.format(\n",
    "        k, \n",
    "        taxonomy_level, \n",
    "        selected_primer, time_difference_good_format(begin_time, time.time())), end='\\n')\n",
    "    test_size, main_class_prop, accuracy = xgboost_k_default(k=k,sequence_origin='DairyDB', \n",
    "                                                             primers_origin='DairyDB', \n",
    "                                                             taxonomy_level=taxonomy_level,\n",
    "                                                             selected_primer=selected_primer)\n",
    "    save_update('results/models/XGBoost - XGB({}) - DB - DB - accuracies.csv'.format(k), k, selected_primer, taxonomy_level, test_size, main_class_prop, accuracy)\n",
    "    process = psutil.Process(os.getpid())\n",
    "    print('Memory Usage: {:0.2f} Mb'.format(process.memory_info().rss / float(2 ** 20)), end='\\n')\n",
    "    \n",
    "taxonomy_level=4\n",
    "for selected_primer in ['V1','V2', 'V3', 'V4', 'V5', 'V6', 'V7', 'V8', 'V9', 'V12', 'V23', 'V34', 'V45', 'V56', 'V67', 'V78', 'V89', 'sequence']:\n",
    "    print('Now training: XGBoost {} with taxonomy level {} and hvr {} - lasted: {}'.format(\n",
    "        k, \n",
    "        taxonomy_level, \n",
    "        selected_primer, time_difference_good_format(begin_time, time.time())), end='\\n')\n",
    "    test_size, main_class_prop, accuracy = xgboost_k_default(k=k,sequence_origin='DairyDB', \n",
    "                                                             primers_origin='DairyDB', \n",
    "                                                             taxonomy_level=taxonomy_level,\n",
    "                                                             selected_primer=selected_primer)\n",
    "    save_update('results/models/XGBoost - XGB({}) - DB - DB - accuracies.csv'.format(k), k, selected_primer, taxonomy_level, test_size, main_class_prop, accuracy)\n",
    "    process = psutil.Process(os.getpid())\n",
    "    print('Memory Usage: {:0.2f} Mb'.format(process.memory_info().rss / float(2 ** 20)), end='\\n')"
   ]
  },
  {
   "cell_type": "code",
   "execution_count": null,
   "metadata": {},
   "outputs": [],
   "source": [
    "from utils.utils import restartkernel\n",
    "restartkernel()"
   ]
  }
 ],
 "metadata": {
  "kernelspec": {
   "display_name": "Python 3",
   "language": "python",
   "name": "python3"
  },
  "language_info": {
   "codemirror_mode": {
    "name": "ipython",
    "version": 3
   },
   "file_extension": ".py",
   "mimetype": "text/x-python",
   "name": "python",
   "nbconvert_exporter": "python",
   "pygments_lexer": "ipython3",
   "version": "3.7.4"
  },
  "pycharm": {
   "stem_cell": {
    "cell_type": "raw",
    "metadata": {
     "collapsed": false
    },
    "source": []
   }
  },
  "toc": {
   "base_numbering": 1,
   "nav_menu": {},
   "number_sections": true,
   "sideBar": true,
   "skip_h1_title": true,
   "title_cell": "Table of Contents",
   "title_sidebar": "Contents",
   "toc_cell": true,
   "toc_position": {},
   "toc_section_display": true,
   "toc_window_display": false
  }
 },
 "nbformat": 4,
 "nbformat_minor": 2
}
