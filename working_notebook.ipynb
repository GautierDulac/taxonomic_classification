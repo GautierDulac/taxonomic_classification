{
 "cells": [
  {
   "cell_type": "markdown",
   "metadata": {
    "toc": true
   },
   "source": [
    "<h1>Table of Contents<span class=\"tocSkip\"></span></h1>\n",
    "<div class=\"toc\"><ul class=\"toc-item\"><li><span><a href=\"#Packages\" data-toc-modified-id=\"Packages-1\"><span class=\"toc-item-num\">1&nbsp;&nbsp;</span>Packages</a></span></li><li><span><a href=\"#Test-a-first-naive-bayesian-model\" data-toc-modified-id=\"Test-a-first-naive-bayesian-model-2\"><span class=\"toc-item-num\">2&nbsp;&nbsp;</span>Test a first naive bayesian model</a></span></li><li><span><a href=\"#RF\" data-toc-modified-id=\"RF-3\"><span class=\"toc-item-num\">3&nbsp;&nbsp;</span>RF</a></span></li><li><span><a href=\"#XGBOOST\" data-toc-modified-id=\"XGBOOST-4\"><span class=\"toc-item-num\">4&nbsp;&nbsp;</span>XGBOOST</a></span></li><li><span><a href=\"#XGBOOST-FORCE\" data-toc-modified-id=\"XGBOOST-FORCE-5\"><span class=\"toc-item-num\">5&nbsp;&nbsp;</span>XGBOOST FORCE</a></span><ul class=\"toc-item\"><li><span><a href=\"#Get-specific-trees\" data-toc-modified-id=\"Get-specific-trees-5.1\"><span class=\"toc-item-num\">5.1&nbsp;&nbsp;</span>Get specific trees</a></span></li></ul></li></ul></div>"
   ]
  },
  {
   "cell_type": "markdown",
   "metadata": {},
   "source": [
    "## Packages"
   ]
  },
  {
   "cell_type": "code",
   "execution_count": null,
   "metadata": {
    "pycharm": {
     "is_executing": false
    }
   },
   "outputs": [],
   "source": [
    "%load_ext autoreload\n",
    "%autoreload 2"
   ]
  },
  {
   "cell_type": "code",
   "execution_count": null,
   "metadata": {},
   "outputs": [],
   "source": [
    "import warnings\n",
    "warnings.simplefilter('ignore')\n",
    "from utils.utils import time_difference_good_format\n",
    "import pandas as pd\n",
    "import time\n",
    "import os\n",
    "import psutil"
   ]
  },
  {
   "cell_type": "markdown",
   "metadata": {},
   "source": [
    "## Test a first naive bayesian model"
   ]
  },
  {
   "cell_type": "code",
   "execution_count": null,
   "metadata": {},
   "outputs": [],
   "source": [
    "from models.naive_bayes_k import naive_bayes_k"
   ]
  },
  {
   "cell_type": "code",
   "execution_count": null,
   "metadata": {},
   "outputs": [],
   "source": [
    "k_list = []\n",
    "begin_time = time.time()\n",
    "for k in range(1,6):\n",
    "    all_results = []\n",
    "    for taxonomy_level in range(7):\n",
    "        for selected_primer in ['V1','V2', 'V3', 'V4', 'V5', 'V6', 'V7', 'V8', 'V9', 'V12', 'V23', 'V34', 'V45', 'V56', 'V67', 'V78', 'V89', 'sequence']:\n",
    "            print('Now training: Naive Bayes {} with taxonomy level {} and hvr {} - lasted: {}'.format(k, taxonomy_level, selected_primer, time_difference_good_format(begin_time, time.time())), end='\\r')\n",
    "            test_size, main_class_prop, accuracy = naive_bayes_k(k=k,sequence_origin='DairyDB', \n",
    "                                                                 primers_origin='DairyDB', \n",
    "                                                                 taxonomy_level=taxonomy_level,\n",
    "                                                                 selected_primer=selected_primer)\n",
    "            all_results.append([selected_primer, taxonomy_level, test_size, main_class_prop, accuracy])\n",
    "    k_list.append(all_results)\n",
    "    k_df = pd.DataFrame(k_list[k-1], columns=['HyperVariable Region','Taxonomy Rank to be classified','Test Size', 'Main Class prop', 'Naive Bayes - NB({})'.format(k)])\n",
    "    k_df.to_csv('results/models/Naive Bayes - NB({}) - DB - DB - accuracies.csv'.format(k), index=False)"
   ]
  },
  {
   "cell_type": "code",
   "execution_count": null,
   "metadata": {},
   "outputs": [],
   "source": [
    "df_list = []\n",
    "for k in range(len(k_list)):\n",
    "    df_list.append(pd.DataFrame(k_list[k], columns=['HyperVariable Region','Taxonomy Rank to be classified','Test Size', 'Main Class prop', 'Naive Bayes - NB({})'.format(k+1)]))\n",
    "\n",
    "final_df = pd.merge(df_list[0], df_list[1], on=['HyperVariable Region','Taxonomy Rank to be classified','Test Size', 'Main Class prop'], how='left')\n",
    "final_df = pd.merge(final_df, df_list[2], on=['HyperVariable Region','Taxonomy Rank to be classified','Test Size', 'Main Class prop'], how='left')\n",
    "final_df = pd.merge(final_df, df_list[3], on=['HyperVariable Region','Taxonomy Rank to be classified','Test Size', 'Main Class prop'], how='left')\n",
    "final_df = pd.merge(final_df, df_list[4], on=['HyperVariable Region','Taxonomy Rank to be classified','Test Size', 'Main Class prop'], how='left')\n",
    "\n",
    "final_df.to_csv('results/models/Naive Bayes - ALL NB - DB - DB.csv'.format(k), index=False)"
   ]
  },
  {
   "cell_type": "code",
   "execution_count": null,
   "metadata": {},
   "outputs": [],
   "source": [
    "k_list = []\n",
    "begin_time = time.time()\n",
    "for k in range(1,6):\n",
    "    all_results = []\n",
    "    for taxonomy_level in range(7):\n",
    "        for selected_primer in ['V2', 'V3', 'V4', 'V5', 'V6', 'V7', 'V8']:\n",
    "            print('Now training: Naive Bayes {} with taxonomy level {} and hvr {} - lasted: {}'.format(k, taxonomy_level, selected_primer, time_difference_good_format(begin_time, time.time())), end='\\r')\n",
    "            test_size, main_class_prop, accuracy = naive_bayes_k(k=k,sequence_origin='DairyDB', \n",
    "                                                                 primers_origin='Chaudhary', \n",
    "                                                                 taxonomy_level=taxonomy_level,\n",
    "                                                                 selected_primer=selected_primer)\n",
    "            all_results.append([selected_primer, taxonomy_level, test_size, main_class_prop, accuracy])\n",
    "    k_list.append(all_results)\n",
    "    k_df = pd.DataFrame(k_list[k-1], columns=['HyperVariable Region','Taxonomy Rank to be classified','Test Size', 'Main Class prop', 'Naive Bayes - NB({})'.format(k)])\n",
    "    k_df.to_csv('results/models/Naive Bayes - NB({}) - DB - CH - accuracies.csv'.format(k), index=False)"
   ]
  },
  {
   "cell_type": "code",
   "execution_count": null,
   "metadata": {},
   "outputs": [],
   "source": [
    "df_list = []\n",
    "for k in range(len(k_list)):\n",
    "    df_list.append(pd.DataFrame(k_list[k], columns=['HyperVariable Region','Taxonomy Rank to be classified','Test Size', 'Main Class prop', 'Naive Bayes - NB({})'.format(k+1)]))\n",
    "\n",
    "final_df = pd.merge(df_list[0], df_list[1], on=['HyperVariable Region','Taxonomy Rank to be classified','Test Size', 'Main Class prop'], how='left')\n",
    "final_df = pd.merge(final_df, df_list[2], on=['HyperVariable Region','Taxonomy Rank to be classified','Test Size', 'Main Class prop'], how='left')\n",
    "final_df = pd.merge(final_df, df_list[3], on=['HyperVariable Region','Taxonomy Rank to be classified','Test Size', 'Main Class prop'], how='left')\n",
    "final_df = pd.merge(final_df, df_list[4], on=['HyperVariable Region','Taxonomy Rank to be classified','Test Size', 'Main Class prop'], how='left')\n",
    "\n",
    "final_df.to_csv('results/models/Naive Bayes - ALL NB - DB - CH.csv'.format(k), index=False)"
   ]
  },
  {
   "cell_type": "code",
   "execution_count": null,
   "metadata": {},
   "outputs": [],
   "source": [
    "taxonomy_level = 5\n",
    "selected_primer = 'V4'"
   ]
  },
  {
   "cell_type": "code",
   "execution_count": null,
   "metadata": {},
   "outputs": [],
   "source": [
    "k_list = []\n",
    "begin_time = time.time()\n",
    "all_results = []\n",
    "for k in range(1,6):\n",
    "    print('Now training: Naive Bayes {} with taxonomy level {} and hvr {} - lasted: {}'.format(k, taxonomy_level, selected_primer, time_difference_good_format(begin_time, time.time())), end='\\r')\n",
    "    test_size, main_class_prop, accuracy = naive_bayes_k(k=k,sequence_origin='DairyDB', \n",
    "                                                         primers_origin='DairyDB', \n",
    "                                                         taxonomy_level=taxonomy_level,\n",
    "                                                         selected_primer=selected_primer)\n",
    "    all_results.append([selected_primer, taxonomy_level, test_size, main_class_prop, k, accuracy])\n",
    "all_results_df = pd.DataFrame(all_results, columns=['HyperVariable Region','Taxonomy Rank to be classified','Test Size', 'Main Class prop', 'k', 'Accuracy'])\n",
    "all_results_df.to_csv('results/models/Naive Bayes - NB - V4 - Genus - DB - DB - accuracies.csv', index=False)"
   ]
  },
  {
   "cell_type": "markdown",
   "metadata": {},
   "source": [
    "## RF"
   ]
  },
  {
   "cell_type": "code",
   "execution_count": null,
   "metadata": {},
   "outputs": [],
   "source": [
    "from models.random_forest import random_forest_k_default"
   ]
  },
  {
   "cell_type": "code",
   "execution_count": null,
   "metadata": {},
   "outputs": [],
   "source": [
    "test_size, main_class_prop, accuracy = random_forest_k_default(k=5,sequence_origin='DairyDB', \n",
    "                                                               primers_origin='Chaudhary', \n",
    "                                                               taxonomy_level=5,\n",
    "                                                               selected_primer='V4', \n",
    "                                                               max_depth=25,\n",
    "                                                               n_estimators=300)"
   ]
  },
  {
   "cell_type": "code",
   "execution_count": null,
   "metadata": {},
   "outputs": [],
   "source": [
    "test_size, main_class_prop, accuracy = random_forest_k_default(k=4,sequence_origin='DairyDB', \n",
    "                                                               primers_origin='Chaudhary', \n",
    "                                                               taxonomy_level=5,\n",
    "                                                               selected_primer='V4', \n",
    "                                                               max_depth=25,\n",
    "                                                               n_estimators=300)"
   ]
  },
  {
   "cell_type": "markdown",
   "metadata": {},
   "source": [
    "k_list = []\n",
    "begin_time = time.time()\n",
    "for k in range(4,6):\n",
    "    all_results = []\n",
    "    for taxonomy_level in range(7):\n",
    "        for selected_primer in ['V1','V2', 'V3', 'V4', 'V5', 'V6', 'V7', 'V8', 'V9', 'V12', 'V23', 'V34', 'V45', 'V56', 'V67', 'V78', 'V89']:\n",
    "            test_size, main_class_prop, accuracy = random_forest_k_default(k=k,sequence_origin='', \n",
    "                                                                                   primers_origin='DairyDB', \n",
    "                                                                                   taxonomy_level=taxonomy_level,\n",
    "                                                                                   selected_primer=selected_primer)\n",
    "            all_results.append([selected_primer, taxonomy_level, test_size, main_class_prop, accuracy])\n",
    "    k_list.append(all_results)\n",
    "    k_df = pd.DataFrame(k_list[k-4], columns=['HyperVariable Region','Taxonomy Rank to be classified','Test Size', 'Main Class prop', 'Random Forest - RF({})'.format(k)])\n",
    "    k_df.to_csv('results/models/Random Forest - RF({}) - DB and GG - DB - accuracies.csv'.format(k), index=False)"
   ]
  },
  {
   "cell_type": "markdown",
   "metadata": {},
   "source": [
    "df_list = []\n",
    "for k in range(len(k_list)):\n",
    "    df_list.append(pd.DataFrame(k_list[k], columns=['HyperVariable Region','Taxonomy Rank to be classified','Test Size', 'Main Class prop', 'Random Forest - RF({})'.format(k+4)]))\n",
    "\n",
    "final_df = pd.merge(df_list[0], df_list[1], on=['HyperVariable Region','Taxonomy Rank to be classified','Test Size', 'Main Class prop'], how='left')\n",
    "#final_df = pd.merge(final_df, df_list[2], on=['HyperVariable Region','Taxonomy Rank to be classified','Test Size', 'Main Class prop'], how='left')\n",
    "#final_df = pd.merge(final_df, df_list[3], on=['HyperVariable Region','Taxonomy Rank to be classified','Test Size', 'Main Class prop'], how='left')\n",
    "#final_df = pd.merge(final_df, df_list[4], on=['HyperVariable Region','Taxonomy Rank to be classified','Test Size', 'Main Class prop'], how='left')\n",
    "\n",
    "final_df.to_csv('results/models/Random Forest - RF 4 & 5 - DB and GG - DB.csv'.format(k), index=False)"
   ]
  },
  {
   "cell_type": "markdown",
   "metadata": {},
   "source": [
    "taxonomy_level = 5\n",
    "selected_primer = 'V4'"
   ]
  },
  {
   "cell_type": "markdown",
   "metadata": {},
   "source": [
    "from models.random_forest import random_forest_k_grid_search_cv"
   ]
  },
  {
   "cell_type": "code",
   "execution_count": null,
   "metadata": {},
   "outputs": [],
   "source": [
    "#Number of trees in random forest\n",
    "n_estimators = [50, 75 , 100, 125, 150]  \n",
    "# Number of features to consider at every split\n",
    "max_features = ['auto']  \n",
    "# Maximum number of levels in tree\n",
    "max_depth = [None]  \n",
    "# Minimum number of samples required to split a node\n",
    "min_samples_split = [2]  \n",
    "# Minimum number of samples required at each leaf node\n",
    "min_samples_leaf = [1]  \n",
    "# Method of selecting samples for training each tree\n",
    "bootstrap = [False]  \n",
    "# Create the random grid\n",
    "param_grid = {\n",
    "    'n_estimators' : n_estimators,\n",
    "    'max_features' : max_features,\n",
    "    'max_depth' : max_depth,\n",
    "    'min_samples_split' : min_samples_split,\n",
    "    'bootstrap' : bootstrap\n",
    "}"
   ]
  },
  {
   "cell_type": "markdown",
   "metadata": {},
   "source": [
    "test_size, main_class_prop, accuracy = random_forest_k_grid_search_cv(k=4,\n",
    "                                                                      param_grid=param_grid, \n",
    "                                                                      sequence_origin='DairyDB', \n",
    "                                                                      primers_origin='DairyDB', \n",
    "                                                                      taxonomy_level=taxonomy_level,\n",
    "                                                                      selected_primer=selected_primer)\n",
    "\n",
    "test_size, main_class_prop, accuracy = random_forest_k_grid_search_cv(k=5,\n",
    "                                                                      param_grid=param_grid, \n",
    "                                                                      sequence_origin='DairyDB', \n",
    "                                                                      primers_origin='DairyDB', \n",
    "                                                                      taxonomy_level=taxonomy_level,\n",
    "                                                                      selected_primer=selected_primer)"
   ]
  },
  {
   "cell_type": "markdown",
   "metadata": {},
   "source": [
    "## XGBOOST"
   ]
  },
  {
   "cell_type": "markdown",
   "metadata": {},
   "source": [
    "k_list = []\n",
    "begin_time = time.time()\n",
    "for k in range(5,0, -1):\n",
    "    all_results = []\n",
    "    for taxonomy_level in range(7):\n",
    "        for selected_primer in ['V1','V2', 'V3', 'V4', 'V5', 'V6', 'V7', 'V8', 'V9', 'V12', 'V23', 'V34', 'V45', 'V56', 'V67', 'V78', 'V89', 'sequence']:\n",
    "            print('Now training: XGBoost {} with taxonomy level {} and hvr {} - lasted: {}'.format(k, taxonomy_level, selected_primer, time_difference_good_format(begin_time, time.time())), end='\\n')\n",
    "            process = psutil.Process(os.getpid())\n",
    "            print('Memory Usage before function: {:0.2f} Mb'.format(process.memory_info().rss / float(2 ** 20)), end='\\n')\n",
    "            test_size, main_class_prop, accuracy = xgboost_k_default(k=k,sequence_origin='DairyDB', \n",
    "                                                                     primers_origin='DairyDB', \n",
    "                                                                     taxonomy_level=taxonomy_level,\n",
    "                                                                     selected_primer=selected_primer)\n",
    "            process = psutil.Process(os.getpid())\n",
    "            print('Memory Usage after function: {:0.2f} Mb'.format(process.memory_info().rss / float(2 ** 20)), end='\\n')\n",
    "            all_results.append([selected_primer, taxonomy_level, test_size, main_class_prop, accuracy])\n",
    "    k_list.append(all_results)\n",
    "    k_df = pd.DataFrame(k_list[5-k], columns=['HyperVariable Region','Taxonomy Rank to be classified','Test Size', 'Main Class prop', 'XGBoost - XGB({})'.format(k+1)])\n",
    "    k_df.to_csv('results/models/XGBoost - XGB({}) - DB - DB - accuracies.csv'.format(k), index=False)"
   ]
  },
  {
   "cell_type": "markdown",
   "metadata": {},
   "source": [
    "df_list = []\n",
    "for k in range(len(k_list)):\n",
    "    df_list.append(pd.DataFrame(k_list[k], columns=['HyperVariable Region','Taxonomy Rank to be classified','Test Size', 'Main Class prop', 'XGBoost - XGB({})'.format(5-k)]))\n",
    "\n",
    "final_df = pd.merge(df_list[0], df_list[1], on=['HyperVariable Region','Taxonomy Rank to be classified','Test Size', 'Main Class prop'], how='left')\n",
    "final_df = pd.merge(final_df, df_list[2], on=['HyperVariable Region','Taxonomy Rank to be classified','Test Size', 'Main Class prop'], how='left')\n",
    "final_df = pd.merge(final_df, df_list[3], on=['HyperVariable Region','Taxonomy Rank to be classified','Test Size', 'Main Class prop'], how='left')\n",
    "final_df = pd.merge(final_df, df_list[4], on=['HyperVariable Region','Taxonomy Rank to be classified','Test Size', 'Main Class prop'], how='left')\n",
    "\n",
    "final_df.to_csv('results/models/XGBoost - ALL XGB - DB - DB.csv', index=False)"
   ]
  },
  {
   "cell_type": "markdown",
   "metadata": {},
   "source": [
    "## XGBOOST FORCE"
   ]
  },
  {
   "cell_type": "code",
   "execution_count": 1,
   "metadata": {},
   "outputs": [],
   "source": [
    "# Number of trees in random forest\n",
    "n_estimators = [50, 100, 150, 200, 250]  \n",
    "# Number of features to consider at every split\n",
    "max_features = ['auto']  \n",
    "# Maximum number of levels in tree\n",
    "max_depth = [3, 5, 8, 15]  \n",
    "# Minimum number of samples required to split a node\n",
    "min_samples_split = [2]  \n",
    "# Minimum number of samples required at each leaf node\n",
    "min_samples_leaf = [1]  \n",
    "# Method of selecting samples for training each tree\n",
    "bootstrap = [False]  \n",
    "# Create the random grid\n",
    "param_grid = {\n",
    "    'n_estimators' : n_estimators,\n",
    "    'max_features' : max_features,\n",
    "    'max_depth' : max_depth,\n",
    "}"
   ]
  },
  {
   "cell_type": "code",
   "execution_count": null,
   "metadata": {
    "scrolled": true
   },
   "outputs": [
    {
     "name": "stdout",
     "output_type": "stream",
     "text": [
      "Now training: XGBoost 4 with taxonomy level 5 and hvr V4 - lasted: 0 second\n",
      "Fitting 3 folds for each of 20 candidates, totalling 60 fits\n"
     ]
    },
    {
     "name": "stderr",
     "output_type": "stream",
     "text": [
      "[Parallel(n_jobs=8)]: Using backend LokyBackend with 8 concurrent workers.\n",
      "[Parallel(n_jobs=8)]: Done  25 tasks      | elapsed: 207.6min\n"
     ]
    }
   ],
   "source": [
    "import warnings\n",
    "warnings.simplefilter('ignore')\n",
    "from utils.utils import time_difference_good_format, save_update, restartkernel\n",
    "import pandas as pd\n",
    "import time\n",
    "import os\n",
    "from models.xgboost import xgboost_k_grid_search_cv\n",
    "import time\n",
    "begin_time = time.time()\n",
    "\n",
    "taxonomy_level=5\n",
    "selected_primer = 'V4'\n",
    "\n",
    "k=4\n",
    "print('Now training: XGBoost {} with taxonomy level {} and hvr {} - lasted: {}'.format(\n",
    "    k, \n",
    "    taxonomy_level, \n",
    "    selected_primer, time_difference_good_format(begin_time, time.time())), end='\\n')\n",
    "test_size, main_class_prop, accuracy = xgboost_k_grid_search_cv(k=k,\n",
    "                                                                param_grid=param_grid, \n",
    "                                                                sequence_origin='DairyDB', \n",
    "                                                                primers_origin='Chaudhary', \n",
    "                                                                taxonomy_level=taxonomy_level,\n",
    "                                                                selected_primer=selected_primer)\n",
    "save_update('results/models/XGBoost - XGB({}) - V4 - Genus - accuracies.csv'.format(k), k, selected_primer, taxonomy_level, test_size, main_class_prop, accuracy)\n",
    "    \n",
    "k=5\n",
    "print('Now training: XGBoost {} with taxonomy level {} and hvr {} - lasted: {}'.format(\n",
    "    k, \n",
    "    taxonomy_level, \n",
    "    selected_primer, time_difference_good_format(begin_time, time.time())), end='\\n')\n",
    "test_size, main_class_prop, accuracy = xgboost_k_grid_search_cv(k=k,\n",
    "                                                                param_grid=param_grid, \n",
    "                                                                sequence_origin='DairyDB', \n",
    "                                                                primers_origin='Chaudhary', \n",
    "                                                                taxonomy_level=taxonomy_level,\n",
    "                                                                selected_primer=selected_primer)\n",
    "save_update('results/models/XGBoost - XGB({}) - V4 - Genus - accuracies.csv'.format(k), k, selected_primer, taxonomy_level, test_size, main_class_prop, accuracy)"
   ]
  },
  {
   "cell_type": "markdown",
   "metadata": {},
   "source": [
    "### Get specific trees"
   ]
  },
  {
   "cell_type": "markdown",
   "metadata": {},
   "source": [
    "import warnings\n",
    "warnings.simplefilter('ignore')\n",
    "from utils.utils import time_difference_good_format, save_update, restartkernel\n",
    "import pandas as pd\n",
    "import time\n",
    "import os\n",
    "from models.xgboost import xgboost_k_default\n",
    "import time\n",
    "import psutil"
   ]
  },
  {
   "cell_type": "markdown",
   "metadata": {},
   "source": [
    "k=5\n",
    "taxonomy_level=5\n",
    "selected_primer='V4'\n",
    "test_size, main_class_prop, accuracy = xgboost_k_default(k=k,sequence_origin='DairyDB', \n",
    "                                                             primers_origin='DairyDB', \n",
    "                                                             taxonomy_level=taxonomy_level,\n",
    "                                                             selected_primer=selected_primer)\n",
    "save_update('results/models/XGBoost - XGB({}) - DB - DB - accuracies.csv'.format(k), k, selected_primer, taxonomy_level, test_size, main_class_prop, accuracy)\n"
   ]
  }
 ],
 "metadata": {
  "kernelspec": {
   "display_name": "Python 3",
   "language": "python",
   "name": "python3"
  },
  "language_info": {
   "codemirror_mode": {
    "name": "ipython",
    "version": 3
   },
   "file_extension": ".py",
   "mimetype": "text/x-python",
   "name": "python",
   "nbconvert_exporter": "python",
   "pygments_lexer": "ipython3",
   "version": "3.7.6"
  },
  "pycharm": {
   "stem_cell": {
    "cell_type": "raw",
    "metadata": {
     "collapsed": false
    },
    "source": []
   }
  },
  "toc": {
   "base_numbering": 1,
   "nav_menu": {},
   "number_sections": true,
   "sideBar": true,
   "skip_h1_title": true,
   "title_cell": "Table of Contents",
   "title_sidebar": "Contents",
   "toc_cell": true,
   "toc_position": {},
   "toc_section_display": true,
   "toc_window_display": false
  }
 },
 "nbformat": 4,
 "nbformat_minor": 4
}
