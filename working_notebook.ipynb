{
 "cells": [
  {
   "cell_type": "markdown",
   "metadata": {
    "toc": true
   },
   "source": [
    "<h1>Table of Contents<span class=\"tocSkip\"></span></h1>\n",
    "<div class=\"toc\"><ul class=\"toc-item\"><li><span><a href=\"#Packages\" data-toc-modified-id=\"Packages-1\"><span class=\"toc-item-num\">1&nbsp;&nbsp;</span>Packages</a></span></li><li><span><a href=\"#DairyDB\" data-toc-modified-id=\"DairyDB-2\"><span class=\"toc-item-num\">2&nbsp;&nbsp;</span>DairyDB</a></span></li><li><span><a href=\"#Test-a-first-naive-bayesian-model\" data-toc-modified-id=\"Test-a-first-naive-bayesian-model-3\"><span class=\"toc-item-num\">3&nbsp;&nbsp;</span>Test a first naive bayesian model</a></span></li></ul></div>"
   ]
  },
  {
   "cell_type": "markdown",
   "metadata": {},
   "source": [
    "## Packages"
   ]
  },
  {
   "cell_type": "code",
   "execution_count": 4,
   "metadata": {
    "pycharm": {
     "is_executing": false
    }
   },
   "outputs": [
    {
     "name": "stdout",
     "output_type": "stream",
     "text": [
      "The autoreload extension is already loaded. To reload it, use:\n",
      "  %reload_ext autoreload\n"
     ]
    }
   ],
   "source": [
    "%load_ext autoreload\n",
    "%autoreload 2\n",
    "\n",
    "import pandas as pd\n",
    "import re\n"
   ]
  },
  {
   "cell_type": "markdown",
   "metadata": {},
   "source": [
    "## DairyDB"
   ]
  },
  {
   "cell_type": "code",
   "execution_count": 124,
   "metadata": {},
   "outputs": [],
   "source": [
    "from processing.hvr_extraction import get_all_hvr\n",
    "from loading.main_sequence_loading import main_loading\n",
    "from processing.hvr_statistics import main_stats"
   ]
  },
  {
   "cell_type": "code",
   "execution_count": 131,
   "metadata": {},
   "outputs": [],
   "source": [
    "df_GG = main_loading('GreenGenes')"
   ]
  },
  {
   "cell_type": "code",
   "execution_count": 127,
   "metadata": {},
   "outputs": [],
   "source": [
    "df_DB_DB = main_loading('DairyDB')"
   ]
  },
  {
   "cell_type": "code",
   "execution_count": 137,
   "metadata": {},
   "outputs": [
    {
     "name": "stdout",
     "output_type": "stream",
     "text": [
      "Achieved extraction: 100%\r"
     ]
    }
   ],
   "source": [
    "hvr_df_GG_DB = get_all_hvr(df_GG, primers_origin='DairyDB', save_name='hvr_GG_sequences_DB_primers')"
   ]
  },
  {
   "cell_type": "code",
   "execution_count": 129,
   "metadata": {},
   "outputs": [
    {
     "name": "stdout",
     "output_type": "stream",
     "text": [
      "Achieved extraction: 100%\r"
     ]
    }
   ],
   "source": [
    "hvr_df_DB_DB = get_all_hvr(df_DB_DB, primers_origin='DairyDB', save_name='hvr_DB_sequences_DB_primers')"
   ]
  },
  {
   "cell_type": "code",
   "execution_count": 138,
   "metadata": {},
   "outputs": [
    {
     "name": "stdout",
     "output_type": "stream",
     "text": [
      "Achieved extraction: 69%\r"
     ]
    },
    {
     "ename": "MemoryError",
     "evalue": "",
     "output_type": "error",
     "traceback": [
      "\u001b[1;31m---------------------------------------------------------------------------\u001b[0m",
      "\u001b[1;31mMemoryError\u001b[0m                               Traceback (most recent call last)",
      "\u001b[1;32m<ipython-input-138-20ddd5e744f8>\u001b[0m in \u001b[0;36m<module>\u001b[1;34m\u001b[0m\n\u001b[1;32m----> 1\u001b[1;33m \u001b[0mhvr_df_GG_CH\u001b[0m \u001b[1;33m=\u001b[0m \u001b[0mget_all_hvr\u001b[0m\u001b[1;33m(\u001b[0m\u001b[0mdf_GG\u001b[0m\u001b[1;33m,\u001b[0m \u001b[0mprimers_origin\u001b[0m\u001b[1;33m=\u001b[0m\u001b[1;34m'Chaudhary'\u001b[0m\u001b[1;33m,\u001b[0m \u001b[0msave_name\u001b[0m\u001b[1;33m=\u001b[0m\u001b[1;34m'hvr_GG_sequences_CH_primers'\u001b[0m\u001b[1;33m)\u001b[0m\u001b[1;33m\u001b[0m\u001b[1;33m\u001b[0m\u001b[0m\n\u001b[0m",
      "\u001b[1;32mD:\\0 - Boulot\\5 - X4\\16. Research Paper\\taxonomic_classification\\processing\\hvr_extraction.py\u001b[0m in \u001b[0;36mget_all_hvr\u001b[1;34m(sequence_df, primers_origin, save_name)\u001b[0m\n\u001b[0;32m     39\u001b[0m             \u001b[1;32melse\u001b[0m\u001b[1;33m:\u001b[0m\u001b[1;33m\u001b[0m\u001b[1;33m\u001b[0m\u001b[0m\n\u001b[0;32m     40\u001b[0m                 \u001b[0mcurrent_hvr_dict\u001b[0m\u001b[1;33m[\u001b[0m\u001b[0mkey\u001b[0m\u001b[1;33m]\u001b[0m \u001b[1;33m=\u001b[0m \u001b[0mcurrent_seq\u001b[0m\u001b[1;33m[\u001b[0m\u001b[0mvalue\u001b[0m\u001b[1;33m[\u001b[0m\u001b[1;36m0\u001b[0m\u001b[1;33m]\u001b[0m\u001b[1;33m[\u001b[0m\u001b[1;36m0\u001b[0m\u001b[1;33m]\u001b[0m\u001b[1;33m:\u001b[0m\u001b[0mvalue\u001b[0m\u001b[1;33m[\u001b[0m\u001b[1;36m0\u001b[0m\u001b[1;33m]\u001b[0m\u001b[1;33m[\u001b[0m\u001b[1;36m1\u001b[0m\u001b[1;33m]\u001b[0m\u001b[1;33m]\u001b[0m\u001b[1;33m\u001b[0m\u001b[1;33m\u001b[0m\u001b[0m\n\u001b[1;32m---> 41\u001b[1;33m         \u001b[0mhvr_df\u001b[0m \u001b[1;33m=\u001b[0m \u001b[0mpd\u001b[0m\u001b[1;33m.\u001b[0m\u001b[0mconcat\u001b[0m\u001b[1;33m(\u001b[0m\u001b[1;33m[\u001b[0m\u001b[0mhvr_df\u001b[0m\u001b[1;33m,\u001b[0m \u001b[0mpd\u001b[0m\u001b[1;33m.\u001b[0m\u001b[0mDataFrame\u001b[0m\u001b[1;33m.\u001b[0m\u001b[0mfrom_dict\u001b[0m\u001b[1;33m(\u001b[0m\u001b[0mcurrent_hvr_dict\u001b[0m\u001b[1;33m)\u001b[0m\u001b[1;33m]\u001b[0m\u001b[1;33m)\u001b[0m\u001b[1;33m\u001b[0m\u001b[1;33m\u001b[0m\u001b[0m\n\u001b[0m\u001b[0;32m     42\u001b[0m     \u001b[1;32mif\u001b[0m \u001b[0msave_name\u001b[0m \u001b[1;32mis\u001b[0m \u001b[1;32mnot\u001b[0m \u001b[1;32mNone\u001b[0m\u001b[1;33m:\u001b[0m\u001b[1;33m\u001b[0m\u001b[1;33m\u001b[0m\u001b[0m\n\u001b[0;32m     43\u001b[0m         \u001b[0mhvr_df\u001b[0m\u001b[1;33m.\u001b[0m\u001b[0mto_csv\u001b[0m\u001b[1;33m(\u001b[0m\u001b[0mfolder_paths\u001b[0m\u001b[1;33m[\u001b[0m\u001b[1;34m'data'\u001b[0m\u001b[1;33m]\u001b[0m \u001b[1;33m+\u001b[0m \u001b[0msave_name\u001b[0m \u001b[1;33m+\u001b[0m \u001b[1;34m'.csv'\u001b[0m\u001b[1;33m,\u001b[0m \u001b[0mindex\u001b[0m\u001b[1;33m=\u001b[0m\u001b[1;32mFalse\u001b[0m\u001b[1;33m)\u001b[0m\u001b[1;33m\u001b[0m\u001b[1;33m\u001b[0m\u001b[0m\n",
      "\u001b[1;32m~\\Anaconda3\\lib\\site-packages\\pandas\\core\\reshape\\concat.py\u001b[0m in \u001b[0;36mconcat\u001b[1;34m(objs, axis, join, join_axes, ignore_index, keys, levels, names, verify_integrity, sort, copy)\u001b[0m\n\u001b[0;32m    256\u001b[0m     )\n\u001b[0;32m    257\u001b[0m \u001b[1;33m\u001b[0m\u001b[0m\n\u001b[1;32m--> 258\u001b[1;33m     \u001b[1;32mreturn\u001b[0m \u001b[0mop\u001b[0m\u001b[1;33m.\u001b[0m\u001b[0mget_result\u001b[0m\u001b[1;33m(\u001b[0m\u001b[1;33m)\u001b[0m\u001b[1;33m\u001b[0m\u001b[1;33m\u001b[0m\u001b[0m\n\u001b[0m\u001b[0;32m    259\u001b[0m \u001b[1;33m\u001b[0m\u001b[0m\n\u001b[0;32m    260\u001b[0m \u001b[1;33m\u001b[0m\u001b[0m\n",
      "\u001b[1;32m~\\Anaconda3\\lib\\site-packages\\pandas\\core\\reshape\\concat.py\u001b[0m in \u001b[0;36mget_result\u001b[1;34m(self)\u001b[0m\n\u001b[0;32m    471\u001b[0m \u001b[1;33m\u001b[0m\u001b[0m\n\u001b[0;32m    472\u001b[0m             new_data = concatenate_block_managers(\n\u001b[1;32m--> 473\u001b[1;33m                 \u001b[0mmgrs_indexers\u001b[0m\u001b[1;33m,\u001b[0m \u001b[0mself\u001b[0m\u001b[1;33m.\u001b[0m\u001b[0mnew_axes\u001b[0m\u001b[1;33m,\u001b[0m \u001b[0mconcat_axis\u001b[0m\u001b[1;33m=\u001b[0m\u001b[0mself\u001b[0m\u001b[1;33m.\u001b[0m\u001b[0maxis\u001b[0m\u001b[1;33m,\u001b[0m \u001b[0mcopy\u001b[0m\u001b[1;33m=\u001b[0m\u001b[0mself\u001b[0m\u001b[1;33m.\u001b[0m\u001b[0mcopy\u001b[0m\u001b[1;33m\u001b[0m\u001b[1;33m\u001b[0m\u001b[0m\n\u001b[0m\u001b[0;32m    474\u001b[0m             )\n\u001b[0;32m    475\u001b[0m             \u001b[1;32mif\u001b[0m \u001b[1;32mnot\u001b[0m \u001b[0mself\u001b[0m\u001b[1;33m.\u001b[0m\u001b[0mcopy\u001b[0m\u001b[1;33m:\u001b[0m\u001b[1;33m\u001b[0m\u001b[1;33m\u001b[0m\u001b[0m\n",
      "\u001b[1;32m~\\Anaconda3\\lib\\site-packages\\pandas\\core\\internals\\managers.py\u001b[0m in \u001b[0;36mconcatenate_block_managers\u001b[1;34m(mgrs_indexers, axes, concat_axis, copy)\u001b[0m\n\u001b[0;32m   2048\u001b[0m         \u001b[1;32melif\u001b[0m \u001b[0mis_uniform_join_units\u001b[0m\u001b[1;33m(\u001b[0m\u001b[0mjoin_units\u001b[0m\u001b[1;33m)\u001b[0m\u001b[1;33m:\u001b[0m\u001b[1;33m\u001b[0m\u001b[1;33m\u001b[0m\u001b[0m\n\u001b[0;32m   2049\u001b[0m             b = join_units[0].block.concat_same_type(\n\u001b[1;32m-> 2050\u001b[1;33m                 \u001b[1;33m[\u001b[0m\u001b[0mju\u001b[0m\u001b[1;33m.\u001b[0m\u001b[0mblock\u001b[0m \u001b[1;32mfor\u001b[0m \u001b[0mju\u001b[0m \u001b[1;32min\u001b[0m \u001b[0mjoin_units\u001b[0m\u001b[1;33m]\u001b[0m\u001b[1;33m,\u001b[0m \u001b[0mplacement\u001b[0m\u001b[1;33m=\u001b[0m\u001b[0mplacement\u001b[0m\u001b[1;33m\u001b[0m\u001b[1;33m\u001b[0m\u001b[0m\n\u001b[0m\u001b[0;32m   2051\u001b[0m             )\n\u001b[0;32m   2052\u001b[0m         \u001b[1;32melse\u001b[0m\u001b[1;33m:\u001b[0m\u001b[1;33m\u001b[0m\u001b[1;33m\u001b[0m\u001b[0m\n",
      "\u001b[1;32m~\\Anaconda3\\lib\\site-packages\\pandas\\core\\internals\\blocks.py\u001b[0m in \u001b[0;36mconcat_same_type\u001b[1;34m(self, to_concat, placement)\u001b[0m\n\u001b[0;32m    361\u001b[0m         \"\"\"\n\u001b[0;32m    362\u001b[0m         values = self._concatenator(\n\u001b[1;32m--> 363\u001b[1;33m             \u001b[1;33m[\u001b[0m\u001b[0mblk\u001b[0m\u001b[1;33m.\u001b[0m\u001b[0mvalues\u001b[0m \u001b[1;32mfor\u001b[0m \u001b[0mblk\u001b[0m \u001b[1;32min\u001b[0m \u001b[0mto_concat\u001b[0m\u001b[1;33m]\u001b[0m\u001b[1;33m,\u001b[0m \u001b[0maxis\u001b[0m\u001b[1;33m=\u001b[0m\u001b[0mself\u001b[0m\u001b[1;33m.\u001b[0m\u001b[0mndim\u001b[0m \u001b[1;33m-\u001b[0m \u001b[1;36m1\u001b[0m\u001b[1;33m\u001b[0m\u001b[1;33m\u001b[0m\u001b[0m\n\u001b[0m\u001b[0;32m    364\u001b[0m         )\n\u001b[0;32m    365\u001b[0m         return self.make_block_same_class(\n",
      "\u001b[1;31mMemoryError\u001b[0m: "
     ]
    }
   ],
   "source": [
    "hvr_df_GG_CH = get_all_hvr(df_GG, primers_origin='Chaudhary', save_name='hvr_GG_sequences_CH_primers')"
   ]
  },
  {
   "cell_type": "code",
   "execution_count": 134,
   "metadata": {},
   "outputs": [
    {
     "name": "stdout",
     "output_type": "stream",
     "text": [
      "Achieved extraction: 100%\r"
     ]
    }
   ],
   "source": [
    "hvr_df_DB_CH = get_all_hvr(df_DB_DB, primers_origin='Chaudhary', save_name='hvr_DB_sequences_CH_primers')"
   ]
  },
  {
   "cell_type": "code",
   "execution_count": 142,
   "metadata": {},
   "outputs": [
    {
     "name": "stdout",
     "output_type": "stream",
     "text": [
      "-------------------------------------------------- GLOBAL INFORMATION --------------------------------------------------\n",
      "Total number of observations: 299499\n",
      "Average sequence size: 1431.37\n",
      "Standard deviation: 60.48\n",
      "Minimal size: 1253\n",
      "Maximal size: 2367\n",
      "------------------------------------------------- TAROXOMY INFORMATION -------------------------------------------------\n",
      "------------------------------------------------------- KINGDOM --------------------------------------------------------\n",
      "Total number of unique kingdom: 2\n",
      "Rank 1 in kingdom: BACTERIA with 25566 occurences\n",
      "Rank 2 in kingdom: ARCHAEA with 831 occurences\n",
      "273102 missing values\n",
      "-------------------------------------------------------- PHYLUM --------------------------------------------------------\n",
      "Total number of unique phylum: 68\n",
      "Rank 1 in phylum: PROTEOBACTERIA with 8483 occurences\n",
      "Rank 2 in phylum: FIRMICUTES with 7475 occurences\n",
      "Rank 3 in phylum: BACTEROIDETES with 2564 occurences\n",
      "Rank 4 in phylum: ACTINOBACTERIA with 2157 occurences\n",
      "Rank 5 in phylum: CYANOBACTERIA with 665 occurences\n",
      "273117 missing values\n",
      "-------------------------------------------------------- CLASS ---------------------------------------------------------\n",
      "Total number of unique class: 187\n",
      "Rank 1 in class: CLOSTRIDIA with 5615 occurences\n",
      "Rank 2 in class: GAMMAPROTEOBACTERIA with 3102 occurences\n",
      "Rank 3 in class: ALPHAPROTEOBACTERIA with 1977 occurences\n",
      "Rank 4 in class: ACTINOBACTERIA with 1800 occurences\n",
      "Rank 5 in class: BACILLI with 1728 occurences\n",
      "273285 missing values\n",
      "-------------------------------------------------------- ORDER ---------------------------------------------------------\n",
      "Total number of unique order: 309\n",
      "Rank 1 in order: CLOSTRIDIALES with 5398 occurences\n",
      "Rank 2 in order: ACTINOMYCETALES with 1757 occurences\n",
      "Rank 3 in order: BACTEROIDALES with 1334 occurences\n",
      "Rank 4 in order: BACILLALES with 1187 occurences\n",
      "Rank 5 in order: BURKHOLDERIALES with 927 occurences\n",
      "274384 missing values\n",
      "-------------------------------------------------------- FAMILY --------------------------------------------------------\n",
      "Total number of unique family: 420\n",
      "Rank 1 in family: LACHNOSPIRACEAE with 1394 occurences\n",
      "Rank 2 in family: RUMINOCOCCACEAE with 1128 occurences\n",
      "Rank 3 in family: BACILLACEAE with 540 occurences\n",
      "Rank 4 in family: ENTEROBACTERIACEAE with 528 occurences\n",
      "Rank 5 in family: COMAMONADACEAE with 525 occurences\n",
      "278167 missing values\n",
      "-------------------------------------------------------- GENUS ---------------------------------------------------------\n",
      "Total number of unique genus: 823\n",
      "Rank 1 in genus: CANDIDATU with 432 occurences\n",
      "Rank 2 in genus: BACILLUS with 340 occurences\n",
      "Rank 3 in genus: RUMINOCOCCUS with 269 occurences\n",
      "Rank 4 in genus: PREVOTELLA with 260 occurences\n",
      "Rank 5 in genus: CORYNEBACTERIUM with 254 occurences\n",
      "286347 missing values\n",
      "------------------------------------------------------- SPECIES --------------------------------------------------------\n",
      "Total number of unique species: 444\n",
      "Rank 1 in species: TOPLASMA with 145 occurences\n",
      "Rank 2 in species: PRAUSNITZ with 76 occurences\n",
      "Rank 3 in species: GNAV with 61 occurences\n",
      "Rank 4 in species: MERIDI with 61 occurences\n",
      "Rank 5 in species: ACN with 60 occurences\n",
      "296633 missing values\n",
      "-------------------------------------------------- GLOBAL INFORMATION --------------------------------------------------\n",
      "Total number of sequence analyzed: 299499\n",
      "Number of HyperVariable regions tested: 17\n",
      "Number of found HVR: 3125727 - 61.39% of total potential\n",
      "Most represented HVR: V7 - 258108 occurences - 86.18% of potential\n",
      "Less represented HVR: V89 - 44324 occurences - 14.8% of potential\n",
      "-------------------------------------- HYPERVARIABLE REGIONS SPECIFIC INFORMATION --------------------------------------\n",
      "---------------------------------------------------------- V1 ----------------------------------------------------------\n",
      "66468 found V1 - 22.19% of total potential\n",
      "Average size of V1: 74.75\n",
      "Minimal size of V1: 26\n",
      "Maximal size of V1: 266\n",
      "---------------------------------------------------------- V2 ----------------------------------------------------------\n",
      "161266 found V2 - 53.85% of total potential\n",
      "Average size of V2: 222.32\n",
      "Minimal size of V2: 147\n",
      "Maximal size of V2: 501\n",
      "---------------------------------------------------------- V3 ----------------------------------------------------------\n",
      "225409 found V3 - 75.26% of total potential\n",
      "Average size of V3: 150.67\n",
      "Minimal size of V3: 100\n",
      "Maximal size of V3: 579\n",
      "---------------------------------------------------------- V4 ----------------------------------------------------------\n",
      "248665 found V4 - 83.03% of total potential\n",
      "Average size of V4: 255.11\n",
      "Minimal size of V4: 83\n",
      "Maximal size of V4: 524\n",
      "---------------------------------------------------------- V5 ----------------------------------------------------------\n",
      "225027 found V5 - 75.13% of total potential\n",
      "Average size of V5: 109.82\n",
      "Minimal size of V5: 23\n",
      "Maximal size of V5: 541\n",
      "---------------------------------------------------------- V6 ----------------------------------------------------------\n",
      "234469 found V6 - 78.29% of total potential\n",
      "Average size of V6: 174.72\n",
      "Minimal size of V6: 112\n",
      "Maximal size of V6: 1005\n",
      "---------------------------------------------------------- V7 ----------------------------------------------------------\n",
      "258108 found V7 - 86.18% of total potential\n",
      "Average size of V7: 71.61\n",
      "Minimal size of V7: 51\n",
      "Maximal size of V7: 784\n",
      "---------------------------------------------------------- V8 ----------------------------------------------------------\n",
      "210019 found V8 - 70.12% of total potential\n",
      "Average size of V8: 192.65\n",
      "Minimal size of V8: 143\n",
      "Maximal size of V8: 587\n",
      "---------------------------------------------------------- V9 ----------------------------------------------------------\n",
      "48274 found V9 - 16.12% of total potential\n",
      "Average size of V9: 85.39\n",
      "Minimal size of V9: 27\n",
      "Maximal size of V9: 264\n",
      "--------------------------------------------------------- V12 ----------------------------------------------------------\n",
      "95466 found V12 - 31.88% of total potential\n",
      "Average size of V12: 313.1\n",
      "Minimal size of V12: 228\n",
      "Maximal size of V12: 516\n",
      "--------------------------------------------------------- V23 ----------------------------------------------------------\n",
      "148486 found V23 - 49.58% of total potential\n",
      "Average size of V23: 390.1\n",
      "Minimal size of V23: 302\n",
      "Maximal size of V23: 807\n",
      "--------------------------------------------------------- V34 ----------------------------------------------------------\n",
      "236515 found V34 - 78.97% of total potential\n",
      "Average size of V34: 419.64\n",
      "Minimal size of V34: 307\n",
      "Maximal size of V34: 1058\n",
      "--------------------------------------------------------- V45 ----------------------------------------------------------\n",
      "229587 found V45 - 76.66% of total potential\n",
      "Average size of V45: 374.97\n",
      "Minimal size of V45: 202\n",
      "Maximal size of V45: 806\n",
      "--------------------------------------------------------- V56 ----------------------------------------------------------\n",
      "247174 found V56 - 82.53% of total potential\n",
      "Average size of V56: 300.46\n",
      "Minimal size of V56: 215\n",
      "Maximal size of V56: 1124\n",
      "--------------------------------------------------------- V67 ----------------------------------------------------------\n",
      "232084 found V67 - 77.49% of total potential\n",
      "Average size of V67: 260.29\n",
      "Minimal size of V67: 184\n",
      "Maximal size of V67: 1169\n",
      "--------------------------------------------------------- V78 ----------------------------------------------------------\n",
      "214386 found V78 - 71.58% of total potential\n",
      "Average size of V78: 278.31\n",
      "Minimal size of V78: 228\n",
      "Maximal size of V78: 990\n",
      "--------------------------------------------------------- V89 ----------------------------------------------------------\n",
      "44324 found V89 - 14.8% of total potential\n",
      "Average size of V89: 294.2\n",
      "Minimal size of V89: 139\n",
      "Maximal size of V89: 1152\n",
      "--------------------------------- ANALYSIS OF HYPERVARIABLE REGIONS BY TAXONOMIC RANK ----------------------------------\n",
      "------------------------------------------------------- KINGDOM --------------------------------------------------------\n",
      "Total number of unique kingdom: 2\n",
      "273102 missing values - 91.19% of total\n",
      "Total number of remaining kingdom with at least one V1 found: 2 - 100.0% of total number of groups\n",
      "Total number of remaining kingdom with at least one V2 found: 2 - 100.0% of total number of groups\n"
     ]
    },
    {
     "name": "stdout",
     "output_type": "stream",
     "text": [
      "Total number of remaining kingdom with at least one V3 found: 2 - 100.0% of total number of groups\n",
      "Total number of remaining kingdom with at least one V4 found: 2 - 100.0% of total number of groups\n",
      "Total number of remaining kingdom with at least one V5 found: 2 - 100.0% of total number of groups\n",
      "Total number of remaining kingdom with at least one V6 found: 2 - 100.0% of total number of groups\n",
      "Total number of remaining kingdom with at least one V7 found: 2 - 100.0% of total number of groups\n",
      "Total number of remaining kingdom with at least one V8 found: 2 - 100.0% of total number of groups\n",
      "Total number of remaining kingdom with at least one V9 found: 2 - 100.0% of total number of groups\n",
      "Total number of remaining kingdom with at least one V12 found: 2 - 100.0% of total number of groups\n",
      "Total number of remaining kingdom with at least one V23 found: 2 - 100.0% of total number of groups\n",
      "Total number of remaining kingdom with at least one V34 found: 2 - 100.0% of total number of groups\n",
      "Total number of remaining kingdom with at least one V45 found: 2 - 100.0% of total number of groups\n",
      "Total number of remaining kingdom with at least one V56 found: 2 - 100.0% of total number of groups\n",
      "Total number of remaining kingdom with at least one V67 found: 2 - 100.0% of total number of groups\n",
      "Total number of remaining kingdom with at least one V78 found: 2 - 100.0% of total number of groups\n",
      "Total number of remaining kingdom with at least one V89 found: 2 - 100.0% of total number of groups\n",
      "-------------------------------------------------------- PHYLUM --------------------------------------------------------\n",
      "Total number of unique phylum: 68\n",
      "273117 missing values - 91.19% of total\n",
      "Total number of remaining phylum with at least one V1 found: 51 - 75.0% of total number of groups\n",
      "Total number of remaining phylum with at least one V2 found: 62 - 91.0% of total number of groups\n",
      "Total number of remaining phylum with at least one V3 found: 66 - 97.0% of total number of groups\n",
      "Total number of remaining phylum with at least one V4 found: 67 - 99.0% of total number of groups\n",
      "Total number of remaining phylum with at least one V5 found: 65 - 96.0% of total number of groups\n",
      "Total number of remaining phylum with at least one V6 found: 66 - 97.0% of total number of groups\n",
      "Total number of remaining phylum with at least one V7 found: 68 - 100.0% of total number of groups\n",
      "Total number of remaining phylum with at least one V8 found: 65 - 96.0% of total number of groups\n",
      "Total number of remaining phylum with at least one V9 found: 51 - 75.0% of total number of groups\n",
      "Total number of remaining phylum with at least one V12 found: 53 - 78.0% of total number of groups\n",
      "Total number of remaining phylum with at least one V23 found: 60 - 88.0% of total number of groups\n",
      "Total number of remaining phylum with at least one V34 found: 67 - 99.0% of total number of groups\n",
      "Total number of remaining phylum with at least one V45 found: 66 - 97.0% of total number of groups\n",
      "Total number of remaining phylum with at least one V56 found: 66 - 97.0% of total number of groups\n",
      "Total number of remaining phylum with at least one V67 found: 66 - 97.0% of total number of groups\n",
      "Total number of remaining phylum with at least one V78 found: 65 - 96.0% of total number of groups\n",
      "Total number of remaining phylum with at least one V89 found: 51 - 75.0% of total number of groups\n",
      "-------------------------------------------------------- CLASS ---------------------------------------------------------\n",
      "Total number of unique class: 187\n",
      "273285 missing values - 91.25% of total\n",
      "Total number of remaining class with at least one V1 found: 139 - 74.0% of total number of groups\n",
      "Total number of remaining class with at least one V2 found: 172 - 92.0% of total number of groups\n",
      "Total number of remaining class with at least one V3 found: 175 - 94.0% of total number of groups\n",
      "Total number of remaining class with at least one V4 found: 181 - 97.0% of total number of groups\n",
      "Total number of remaining class with at least one V5 found: 176 - 94.0% of total number of groups\n",
      "Total number of remaining class with at least one V6 found: 179 - 96.0% of total number of groups\n",
      "Total number of remaining class with at least one V7 found: 184 - 98.0% of total number of groups\n",
      "Total number of remaining class with at least one V8 found: 178 - 95.0% of total number of groups\n",
      "Total number of remaining class with at least one V9 found: 127 - 68.0% of total number of groups\n",
      "Total number of remaining class with at least one V12 found: 145 - 78.0% of total number of groups\n",
      "Total number of remaining class with at least one V23 found: 165 - 88.0% of total number of groups\n",
      "Total number of remaining class with at least one V34 found: 183 - 98.0% of total number of groups\n",
      "Total number of remaining class with at least one V45 found: 176 - 94.0% of total number of groups\n",
      "Total number of remaining class with at least one V56 found: 180 - 96.0% of total number of groups\n",
      "Total number of remaining class with at least one V67 found: 179 - 96.0% of total number of groups\n",
      "Total number of remaining class with at least one V78 found: 179 - 96.0% of total number of groups\n",
      "Total number of remaining class with at least one V89 found: 125 - 67.0% of total number of groups\n",
      "-------------------------------------------------------- ORDER ---------------------------------------------------------\n",
      "Total number of unique order: 309\n",
      "274384 missing values - 91.61% of total\n",
      "Total number of remaining order with at least one V1 found: 215 - 70.0% of total number of groups\n",
      "Total number of remaining order with at least one V2 found: 275 - 89.0% of total number of groups\n",
      "Total number of remaining order with at least one V3 found: 289 - 94.0% of total number of groups\n",
      "Total number of remaining order with at least one V4 found: 295 - 95.0% of total number of groups\n",
      "Total number of remaining order with at least one V5 found: 294 - 95.0% of total number of groups\n",
      "Total number of remaining order with at least one V6 found: 297 - 96.0% of total number of groups\n",
      "Total number of remaining order with at least one V7 found: 304 - 98.0% of total number of groups\n",
      "Total number of remaining order with at least one V8 found: 283 - 92.0% of total number of groups\n",
      "Total number of remaining order with at least one V9 found: 209 - 68.0% of total number of groups\n",
      "Total number of remaining order with at least one V12 found: 227 - 73.0% of total number of groups\n",
      "Total number of remaining order with at least one V23 found: 266 - 86.0% of total number of groups\n",
      "Total number of remaining order with at least one V34 found: 297 - 96.0% of total number of groups\n",
      "Total number of remaining order with at least one V45 found: 293 - 95.0% of total number of groups\n",
      "Total number of remaining order with at least one V56 found: 300 - 97.0% of total number of groups\n",
      "Total number of remaining order with at least one V67 found: 295 - 95.0% of total number of groups\n",
      "Total number of remaining order with at least one V78 found: 288 - 93.0% of total number of groups\n",
      "Total number of remaining order with at least one V89 found: 201 - 65.0% of total number of groups\n",
      "-------------------------------------------------------- FAMILY --------------------------------------------------------\n",
      "Total number of unique family: 420\n",
      "278167 missing values - 92.88% of total\n",
      "Total number of remaining family with at least one V1 found: 307 - 73.0% of total number of groups\n",
      "Total number of remaining family with at least one V2 found: 389 - 93.0% of total number of groups\n",
      "Total number of remaining family with at least one V3 found: 401 - 95.0% of total number of groups\n",
      "Total number of remaining family with at least one V4 found: 406 - 97.0% of total number of groups\n",
      "Total number of remaining family with at least one V5 found: 410 - 98.0% of total number of groups\n",
      "Total number of remaining family with at least one V6 found: 413 - 98.0% of total number of groups\n",
      "Total number of remaining family with at least one V7 found: 416 - 99.0% of total number of groups\n",
      "Total number of remaining family with at least one V8 found: 397 - 95.0% of total number of groups\n",
      "Total number of remaining family with at least one V9 found: 310 - 74.0% of total number of groups\n",
      "Total number of remaining family with at least one V12 found: 335 - 80.0% of total number of groups\n",
      "Total number of remaining family with at least one V23 found: 384 - 91.0% of total number of groups\n",
      "Total number of remaining family with at least one V34 found: 408 - 97.0% of total number of groups\n"
     ]
    },
    {
     "name": "stdout",
     "output_type": "stream",
     "text": [
      "Total number of remaining family with at least one V45 found: 406 - 97.0% of total number of groups\n",
      "Total number of remaining family with at least one V56 found: 414 - 99.0% of total number of groups\n",
      "Total number of remaining family with at least one V67 found: 410 - 98.0% of total number of groups\n",
      "Total number of remaining family with at least one V78 found: 398 - 95.0% of total number of groups\n",
      "Total number of remaining family with at least one V89 found: 303 - 72.0% of total number of groups\n",
      "-------------------------------------------------------- GENUS ---------------------------------------------------------\n",
      "Total number of unique genus: 823\n",
      "286347 missing values - 95.61% of total\n",
      "Total number of remaining genus with at least one V1 found: 499 - 61.0% of total number of groups\n",
      "Total number of remaining genus with at least one V2 found: 733 - 89.0% of total number of groups\n",
      "Total number of remaining genus with at least one V3 found: 788 - 96.0% of total number of groups\n",
      "Total number of remaining genus with at least one V4 found: 798 - 97.0% of total number of groups\n",
      "Total number of remaining genus with at least one V5 found: 779 - 95.0% of total number of groups\n",
      "Total number of remaining genus with at least one V6 found: 785 - 95.0% of total number of groups\n",
      "Total number of remaining genus with at least one V7 found: 808 - 98.0% of total number of groups\n",
      "Total number of remaining genus with at least one V8 found: 749 - 91.0% of total number of groups\n",
      "Total number of remaining genus with at least one V9 found: 481 - 58.0% of total number of groups\n",
      "Total number of remaining genus with at least one V12 found: 564 - 69.0% of total number of groups\n",
      "Total number of remaining genus with at least one V23 found: 711 - 86.0% of total number of groups\n",
      "Total number of remaining genus with at least one V34 found: 793 - 96.0% of total number of groups\n",
      "Total number of remaining genus with at least one V45 found: 777 - 94.0% of total number of groups\n",
      "Total number of remaining genus with at least one V56 found: 800 - 97.0% of total number of groups\n",
      "Total number of remaining genus with at least one V67 found: 783 - 95.0% of total number of groups\n",
      "Total number of remaining genus with at least one V78 found: 750 - 91.0% of total number of groups\n",
      "Total number of remaining genus with at least one V89 found: 461 - 56.0% of total number of groups\n",
      "------------------------------------------------------- SPECIES --------------------------------------------------------\n",
      "Total number of unique species: 444\n",
      "296633 missing values - 99.04% of total\n",
      "Total number of remaining species with at least one V1 found: 202 - 45.0% of total number of groups\n",
      "Total number of remaining species with at least one V2 found: 360 - 81.0% of total number of groups\n",
      "Total number of remaining species with at least one V3 found: 399 - 90.0% of total number of groups\n",
      "Total number of remaining species with at least one V4 found: 417 - 94.0% of total number of groups\n",
      "Total number of remaining species with at least one V5 found: 411 - 93.0% of total number of groups\n",
      "Total number of remaining species with at least one V6 found: 410 - 92.0% of total number of groups\n",
      "Total number of remaining species with at least one V7 found: 425 - 96.0% of total number of groups\n",
      "Total number of remaining species with at least one V8 found: 384 - 86.0% of total number of groups\n",
      "Total number of remaining species with at least one V9 found: 201 - 45.0% of total number of groups\n",
      "Total number of remaining species with at least one V12 found: 240 - 54.0% of total number of groups\n",
      "Total number of remaining species with at least one V23 found: 354 - 80.0% of total number of groups\n",
      "Total number of remaining species with at least one V34 found: 412 - 93.0% of total number of groups\n",
      "Total number of remaining species with at least one V45 found: 408 - 92.0% of total number of groups\n",
      "Total number of remaining species with at least one V56 found: 426 - 96.0% of total number of groups\n",
      "Total number of remaining species with at least one V67 found: 404 - 91.0% of total number of groups\n",
      "Total number of remaining species with at least one V78 found: 393 - 89.0% of total number of groups\n",
      "Total number of remaining species with at least one V89 found: 190 - 43.0% of total number of groups\n"
     ]
    }
   ],
   "source": [
    "#main_stats(df_DB_DB, hvr_df_DB_DB, sequence_origin='DairyDB', primers_origin='DairyDB')\n",
    "#main_stats(df_DB_DB, hvr_df_DB_CH, sequence_origin='DairyDB', primers_origin='Chaudhary')\n",
    "#main_stats(df_GG, hvr_df_GG_DB, sequence_origin='GreenGenes', primers_origin='DairyDB')\n",
    "#main_stats(df_GG, hvr_df_GG_CH, sequence_origin='GreenGenes', primers_origin='Chaudhary')"
   ]
  },
  {
   "cell_type": "code",
   "execution_count": 248,
   "metadata": {},
   "outputs": [],
   "source": [
    "from models.loading_model_data import main_loading_model_data"
   ]
  },
  {
   "cell_type": "markdown",
   "metadata": {},
   "source": [
    "## Test a first naive bayesian model"
   ]
  },
  {
   "cell_type": "code",
   "execution_count": 284,
   "metadata": {},
   "outputs": [],
   "source": [
    "from models.naive_bayes import naive_bayes, ETL_NB"
   ]
  },
  {
   "cell_type": "code",
   "execution_count": 312,
   "metadata": {},
   "outputs": [
    {
     "name": "stderr",
     "output_type": "stream",
     "text": [
      "D:\\0 - Boulot\\5 - X4\\16. Research Paper\\taxonomic_classification\\models\\loading_model_data.py:78: SettingWithCopyWarning: \n",
      "A value is trying to be set on a copy of a slice from a DataFrame\n",
      "\n",
      "See the caveats in the documentation: http://pandas.pydata.org/pandas-docs/stable/user_guide/indexing.html#returning-a-view-versus-a-copy\n",
      "  selected_merged_df.dropna(axis=0, inplace=True)\n"
     ]
    }
   ],
   "source": [
    "X_train, X_test, y_train, y_test = main_loading_model_data(sequence_origin='DairyDB', primers_origin='DairyDB', taxonomy_level=1, selected_primer='V4')"
   ]
  },
  {
   "cell_type": "code",
   "execution_count": 326,
   "metadata": {},
   "outputs": [],
   "source": [
    "X_train, X_test, y_train, y_test = ETL_NB()"
   ]
  },
  {
   "cell_type": "code",
   "execution_count": 328,
   "metadata": {},
   "outputs": [],
   "source": [
    "GNB = GaussianNB()"
   ]
  },
  {
   "cell_type": "code",
   "execution_count": 329,
   "metadata": {},
   "outputs": [
    {
     "name": "stderr",
     "output_type": "stream",
     "text": [
      "C:\\Users\\admin\\Anaconda3\\lib\\site-packages\\sklearn\\utils\\validation.py:724: DataConversionWarning: A column-vector y was passed when a 1d array was expected. Please change the shape of y to (n_samples, ), for example using ravel().\n",
      "  y = column_or_1d(y, warn=True)\n"
     ]
    },
    {
     "data": {
      "text/plain": [
       "GaussianNB(priors=None, var_smoothing=1e-09)"
      ]
     },
     "execution_count": 329,
     "metadata": {},
     "output_type": "execute_result"
    }
   ],
   "source": [
    "GNB.fit(X_train, y_train)"
   ]
  },
  {
   "cell_type": "code",
   "execution_count": 341,
   "metadata": {},
   "outputs": [
    {
     "name": "stderr",
     "output_type": "stream",
     "text": [
      "C:\\Users\\admin\\Anaconda3\\lib\\site-packages\\sklearn\\utils\\validation.py:724: DataConversionWarning: A column-vector y was passed when a 1d array was expected. Please change the shape of y to (n_samples, ), for example using ravel().\n",
      "  y = column_or_1d(y, warn=True)\n"
     ]
    },
    {
     "name": "stdout",
     "output_type": "stream",
     "text": [
      "Number of mislabeled points out of a total 1902 points : 841\n"
     ]
    }
   ],
   "source": [
    "y_pred = naive_bayes()"
   ]
  },
  {
   "cell_type": "code",
   "execution_count": 342,
   "metadata": {},
   "outputs": [],
   "source": [
    "from models.model_statistics import main_stats_model"
   ]
  },
  {
   "cell_type": "code",
   "execution_count": 355,
   "metadata": {},
   "outputs": [
    {
     "name": "stdout",
     "output_type": "stream",
     "text": [
      "------------------------------------ PARAMETER INFORMATION FOR NAIVE BAYES - NB(0) -------------------------------------\n",
      "----------------------------------------------------- DATA ORIGINS -----------------------------------------------------\n",
      "Sequence origin: DairyDB\n",
      "Primers origin: DairyDB\n",
      "------------------------------------ CHOSEN HYPERVARIABLE REGION AND TAXONOMY RANK -------------------------------------\n",
      "HyperVariable Region: V4\n",
      "Taxonomy Rank: 1\n",
      "---------------------------------------------------- PREPROCESSING -----------------------------------------------------\n",
      "Preprocessing description: Computing frequency of 1-mer (ATCG) in every sequence\n",
      "--------------------------------------------------- MODEL PARAMETERS ---------------------------------------------------\n",
      "Parameter dict: {'priors': None, 'var_smoothing': 1e-09}\n",
      "Size of test set: 1902\n",
      "Part of test size compared to total: 0.2\n",
      "------------------------------------------------------- RESULTS --------------------------------------------------------\n",
      "Number of seen classes in train: 43\n",
      "Number of predicted classes in pred: 13\n",
      "Number of classes waited in test: 35\n",
      "Number of wrong prediction: 841 over 1902\n",
      "Model Accuracy: 55.78%\n",
      "---------------------------------------------- MAIN CLASSES IN TRAIN SET -----------------------------------------------\n",
      "Train - Rank 1 - 38.60%: FIRMICUTES with 2933 occurences\n",
      "Train - Rank 2 - 23.74%: PROTEOBACTERIA with 1804 occurences\n",
      "Train - Rank 3 - 14.39%: BACTEROIDETES with 1093 occurences\n",
      "Train - Rank 4 - 8.59%: ACTINOBACTERIA with 653 occurences\n",
      "Train - Rank 5 - 2.49%: ACIDOBACTERIA with 189 occurences\n",
      "----------------------------------------------- MAIN CLASSES IN TEST SET -----------------------------------------------\n",
      "Test - Rank 1 - 39.54%: FIRMICUTES with 752 occurences\n",
      "Test - Rank 2 - 21.40%: PROTEOBACTERIA with 407 occurences\n",
      "Test - Rank 3 - 15.14%: BACTEROIDETES with 288 occurences\n",
      "Test - Rank 4 - 9.94%: ACTINOBACTERIA with 189 occurences\n",
      "Test - Rank 5 - 2.26%: CHLOROFLEXI with 43 occurences\n",
      "---------------------------------------- MAIN CLASSES IN THE PREDICTED CLASSES -----------------------------------------\n",
      "Predictions - Rank 1 - 41.80%: FIRMICUTES with 795 occurences\n",
      "Predictions - Rank 2 - 25.24%: PROTEOBACTERIA with 480 occurences\n",
      "Predictions - Rank 3 - 15.25%: BACTEROIDETES with 290 occurences\n",
      "Predictions - Rank 4 - 14.25%: ACTINOBACTERIA with 271 occurences\n",
      "Predictions - Rank 5 - 1.21%: GEMMATIMONADETES with 23 occurences\n"
     ]
    }
   ],
   "source": [
    "main_stats_model(y_train, y_test, y_pred, model_name='Naive Bayes - NB(0)', model_parameters=GNB.get_params(),\n",
    "               model_preprocessing='Computing frequency of 1-mer (ATCG) in every sequence',\n",
    "               sequence_origin='DairyDB',\n",
    "               primers_origin='DairyDB',\n",
    "               taxonomy_level=1,\n",
    "               selected_primer='V4',\n",
    "               test_size=0.2)"
   ]
  }
 ],
 "metadata": {
  "kernelspec": {
   "display_name": "Python 3",
   "language": "python",
   "name": "python3"
  },
  "language_info": {
   "codemirror_mode": {
    "name": "ipython",
    "version": 3
   },
   "file_extension": ".py",
   "mimetype": "text/x-python",
   "name": "python",
   "nbconvert_exporter": "python",
   "pygments_lexer": "ipython3",
   "version": "3.7.4"
  },
  "pycharm": {
   "stem_cell": {
    "cell_type": "raw",
    "metadata": {
     "collapsed": false
    },
    "source": []
   }
  },
  "toc": {
   "base_numbering": 1,
   "nav_menu": {},
   "number_sections": true,
   "sideBar": true,
   "skip_h1_title": true,
   "title_cell": "Table of Contents",
   "title_sidebar": "Contents",
   "toc_cell": true,
   "toc_position": {},
   "toc_section_display": true,
   "toc_window_display": false
  }
 },
 "nbformat": 4,
 "nbformat_minor": 2
}
