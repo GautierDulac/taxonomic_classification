{
 "cells": [
  {
   "cell_type": "markdown",
   "metadata": {
    "toc": true
   },
   "source": [
    "<h1>Table of Contents<span class=\"tocSkip\"></span></h1>\n",
    "<div class=\"toc\"><ul class=\"toc-item\"><li><span><a href=\"#Packages\" data-toc-modified-id=\"Packages-1\"><span class=\"toc-item-num\">1&nbsp;&nbsp;</span>Packages</a></span></li><li><span><a href=\"#Test-a-first-naive-bayesian-model\" data-toc-modified-id=\"Test-a-first-naive-bayesian-model-2\"><span class=\"toc-item-num\">2&nbsp;&nbsp;</span>Test a first naive bayesian model</a></span></li><li><span><a href=\"#RF\" data-toc-modified-id=\"RF-3\"><span class=\"toc-item-num\">3&nbsp;&nbsp;</span>RF</a></span></li><li><span><a href=\"#XGBOOST\" data-toc-modified-id=\"XGBOOST-4\"><span class=\"toc-item-num\">4&nbsp;&nbsp;</span>XGBOOST</a></span></li><li><span><a href=\"#XGBOOST-FORCE\" data-toc-modified-id=\"XGBOOST-FORCE-5\"><span class=\"toc-item-num\">5&nbsp;&nbsp;</span>XGBOOST FORCE</a></span><ul class=\"toc-item\"><li><span><a href=\"#Get-specific-trees\" data-toc-modified-id=\"Get-specific-trees-5.1\"><span class=\"toc-item-num\">5.1&nbsp;&nbsp;</span>Get specific trees</a></span></li></ul></li></ul></div>"
   ]
  },
  {
   "cell_type": "markdown",
   "metadata": {},
   "source": [
    "## Packages"
   ]
  },
  {
   "cell_type": "code",
   "execution_count": 1,
   "metadata": {
    "pycharm": {
     "is_executing": false
    }
   },
   "outputs": [],
   "source": [
    "%load_ext autoreload\n",
    "%autoreload 2"
   ]
  },
  {
   "cell_type": "code",
   "execution_count": 2,
   "metadata": {},
   "outputs": [],
   "source": [
    "import warnings\n",
    "warnings.simplefilter('ignore')\n",
    "from utils.utils import time_difference_good_format\n",
    "import pandas as pd\n",
    "import time\n",
    "import os\n",
    "import psutil"
   ]
  },
  {
   "cell_type": "markdown",
   "metadata": {},
   "source": [
    "## Test a first naive bayesian model"
   ]
  },
  {
   "cell_type": "code",
   "execution_count": null,
   "metadata": {},
   "outputs": [],
   "source": [
    "from models.naive_bayes_k import naive_bayes_k"
   ]
  },
  {
   "cell_type": "code",
   "execution_count": null,
   "metadata": {},
   "outputs": [],
   "source": [
    "k_list = []\n",
    "begin_time = time.time()\n",
    "for k in range(1,6):\n",
    "    all_results = []\n",
    "    for taxonomy_level in range(7):\n",
    "        for selected_primer in ['V1','V2', 'V3', 'V4', 'V5', 'V6', 'V7', 'V8', 'V9', 'V12', 'V23', 'V34', 'V45', 'V56', 'V67', 'V78', 'V89', 'sequence']:\n",
    "            print('Now training: Naive Bayes {} with taxonomy level {} and hvr {} - lasted: {}'.format(k, taxonomy_level, selected_primer, time_difference_good_format(begin_time, time.time())), end='\\r')\n",
    "            test_size, main_class_prop, accuracy = naive_bayes_k(k=k,sequence_origin='DairyDB', \n",
    "                                                                 primers_origin='DairyDB', \n",
    "                                                                 taxonomy_level=taxonomy_level,\n",
    "                                                                 selected_primer=selected_primer)\n",
    "            all_results.append([selected_primer, taxonomy_level, test_size, main_class_prop, accuracy])\n",
    "    k_list.append(all_results)\n",
    "    k_df = pd.DataFrame(k_list[k-1], columns=['HyperVariable Region','Taxonomy Rank to be classified','Test Size', 'Main Class prop', 'Naive Bayes - NB({})'.format(k)])\n",
    "    k_df.to_csv('results/models/Naive Bayes - NB({}) - DB - DB - accuracies.csv'.format(k), index=False)"
   ]
  },
  {
   "cell_type": "code",
   "execution_count": null,
   "metadata": {},
   "outputs": [],
   "source": [
    "df_list = []\n",
    "for k in range(len(k_list)):\n",
    "    df_list.append(pd.DataFrame(k_list[k], columns=['HyperVariable Region','Taxonomy Rank to be classified','Test Size', 'Main Class prop', 'Naive Bayes - NB({})'.format(k+1)]))\n",
    "\n",
    "final_df = pd.merge(df_list[0], df_list[1], on=['HyperVariable Region','Taxonomy Rank to be classified','Test Size', 'Main Class prop'], how='left')\n",
    "final_df = pd.merge(final_df, df_list[2], on=['HyperVariable Region','Taxonomy Rank to be classified','Test Size', 'Main Class prop'], how='left')\n",
    "final_df = pd.merge(final_df, df_list[3], on=['HyperVariable Region','Taxonomy Rank to be classified','Test Size', 'Main Class prop'], how='left')\n",
    "final_df = pd.merge(final_df, df_list[4], on=['HyperVariable Region','Taxonomy Rank to be classified','Test Size', 'Main Class prop'], how='left')\n",
    "\n",
    "final_df.to_csv('results/models/Naive Bayes - ALL NB - DB - DB.csv'.format(k), index=False)"
   ]
  },
  {
   "cell_type": "code",
   "execution_count": null,
   "metadata": {},
   "outputs": [],
   "source": [
    "k_list = []\n",
    "begin_time = time.time()\n",
    "for k in range(1,6):\n",
    "    all_results = []\n",
    "    for taxonomy_level in range(7):\n",
    "        for selected_primer in ['V2', 'V3', 'V4', 'V5', 'V6', 'V7', 'V8']:\n",
    "            print('Now training: Naive Bayes {} with taxonomy level {} and hvr {} - lasted: {}'.format(k, taxonomy_level, selected_primer, time_difference_good_format(begin_time, time.time())), end='\\r')\n",
    "            test_size, main_class_prop, accuracy = naive_bayes_k(k=k,sequence_origin='DairyDB', \n",
    "                                                                 primers_origin='Chaudhary', \n",
    "                                                                 taxonomy_level=taxonomy_level,\n",
    "                                                                 selected_primer=selected_primer)\n",
    "            all_results.append([selected_primer, taxonomy_level, test_size, main_class_prop, accuracy])\n",
    "    k_list.append(all_results)\n",
    "    k_df = pd.DataFrame(k_list[k-1], columns=['HyperVariable Region','Taxonomy Rank to be classified','Test Size', 'Main Class prop', 'Naive Bayes - NB({})'.format(k)])\n",
    "    k_df.to_csv('results/models/Naive Bayes - NB({}) - DB - CH - accuracies.csv'.format(k), index=False)"
   ]
  },
  {
   "cell_type": "code",
   "execution_count": null,
   "metadata": {},
   "outputs": [],
   "source": [
    "df_list = []\n",
    "for k in range(len(k_list)):\n",
    "    df_list.append(pd.DataFrame(k_list[k], columns=['HyperVariable Region','Taxonomy Rank to be classified','Test Size', 'Main Class prop', 'Naive Bayes - NB({})'.format(k+1)]))\n",
    "\n",
    "final_df = pd.merge(df_list[0], df_list[1], on=['HyperVariable Region','Taxonomy Rank to be classified','Test Size', 'Main Class prop'], how='left')\n",
    "final_df = pd.merge(final_df, df_list[2], on=['HyperVariable Region','Taxonomy Rank to be classified','Test Size', 'Main Class prop'], how='left')\n",
    "final_df = pd.merge(final_df, df_list[3], on=['HyperVariable Region','Taxonomy Rank to be classified','Test Size', 'Main Class prop'], how='left')\n",
    "final_df = pd.merge(final_df, df_list[4], on=['HyperVariable Region','Taxonomy Rank to be classified','Test Size', 'Main Class prop'], how='left')\n",
    "\n",
    "final_df.to_csv('results/models/Naive Bayes - ALL NB - DB - CH.csv'.format(k), index=False)"
   ]
  },
  {
   "cell_type": "code",
   "execution_count": null,
   "metadata": {},
   "outputs": [],
   "source": [
    "taxonomy_level = 5\n",
    "selected_primer = 'V4'"
   ]
  },
  {
   "cell_type": "code",
   "execution_count": null,
   "metadata": {},
   "outputs": [],
   "source": [
    "k_list = []\n",
    "begin_time = time.time()\n",
    "all_results = []\n",
    "for k in range(1,6):\n",
    "    print('Now training: Naive Bayes {} with taxonomy level {} and hvr {} - lasted: {}'.format(k, taxonomy_level, selected_primer, time_difference_good_format(begin_time, time.time())), end='\\r')\n",
    "    test_size, main_class_prop, accuracy = naive_bayes_k(k=k,sequence_origin='DairyDB', \n",
    "                                                         primers_origin='DairyDB', \n",
    "                                                         taxonomy_level=taxonomy_level,\n",
    "                                                         selected_primer=selected_primer)\n",
    "    all_results.append([selected_primer, taxonomy_level, test_size, main_class_prop, k, accuracy])\n",
    "all_results_df = pd.DataFrame(all_results, columns=['HyperVariable Region','Taxonomy Rank to be classified','Test Size', 'Main Class prop', 'k', 'Accuracy'])\n",
    "all_results_df.to_csv('results/models/Naive Bayes - NB - V4 - Genus - DB - DB - accuracies.csv', index=False)"
   ]
  },
  {
   "cell_type": "markdown",
   "metadata": {},
   "source": [
    "## RF"
   ]
  },
  {
   "cell_type": "code",
   "execution_count": 3,
   "metadata": {},
   "outputs": [],
   "source": [
    "from models.random_forest import random_forest_k_default"
   ]
  },
  {
   "cell_type": "code",
   "execution_count": null,
   "metadata": {},
   "outputs": [],
   "source": [
    "test_size, main_class_prop, accuracy = random_forest_k_default(k=5,sequence_origin='DairyDB', \n",
    "                                                               primers_origin='Chaudhary', \n",
    "                                                               taxonomy_level=5,\n",
    "                                                               selected_primer='V4', \n",
    "                                                               max_depth=25,\n",
    "                                                               n_estimators=300)"
   ]
  },
  {
   "cell_type": "code",
   "execution_count": 4,
   "metadata": {},
   "outputs": [
    {
     "ename": "KeyboardInterrupt",
     "evalue": "",
     "output_type": "error",
     "traceback": [
      "\u001b[0;31m---------------------------------------------------------------------------\u001b[0m",
      "\u001b[0;31mKeyboardInterrupt\u001b[0m                         Traceback (most recent call last)",
      "\u001b[0;32m<timed exec>\u001b[0m in \u001b[0;36m<module>\u001b[0;34m\u001b[0m\n",
      "\u001b[0;32m~/personal_project/taxonomic_classification/models/random_forest.py\u001b[0m in \u001b[0;36mrandom_forest_k_default\u001b[0;34m(k, sequence_origin, primers_origin, taxonomy_level, selected_primer, model_preprocessing, test_size, max_depth, n_estimators)\u001b[0m\n\u001b[1;32m    106\u001b[0m     RF = RandomForestClassifier(bootstrap=False, min_samples_leaf=1, min_samples_split=2, max_features=min(50, 4 ** k),\n\u001b[1;32m    107\u001b[0m                                 n_estimators=n_estimators, max_depth=max_depth, n_jobs=-1)  # 30 for max_depth is not backed-up\n\u001b[0;32m--> 108\u001b[0;31m     \u001b[0my_pred\u001b[0m \u001b[0;34m=\u001b[0m \u001b[0mRF\u001b[0m\u001b[0;34m.\u001b[0m\u001b[0mfit\u001b[0m\u001b[0;34m(\u001b[0m\u001b[0mX_train\u001b[0m\u001b[0;34m,\u001b[0m \u001b[0my_train\u001b[0m\u001b[0;34m)\u001b[0m\u001b[0;34m.\u001b[0m\u001b[0mpredict\u001b[0m\u001b[0;34m(\u001b[0m\u001b[0mX_test\u001b[0m\u001b[0;34m)\u001b[0m\u001b[0;34m\u001b[0m\u001b[0;34m\u001b[0m\u001b[0m\n\u001b[0m\u001b[1;32m    109\u001b[0m \u001b[0;34m\u001b[0m\u001b[0m\n\u001b[1;32m    110\u001b[0m     test_size, prop_main_class, accuracy = main_stats_model(y_train=y_train,\n",
      "\u001b[0;32m/opt/conda/lib/python3.7/site-packages/sklearn/ensemble/forest.py\u001b[0m in \u001b[0;36mfit\u001b[0;34m(self, X, y, sample_weight)\u001b[0m\n\u001b[1;32m    328\u001b[0m                     \u001b[0mt\u001b[0m\u001b[0;34m,\u001b[0m \u001b[0mself\u001b[0m\u001b[0;34m,\u001b[0m \u001b[0mX\u001b[0m\u001b[0;34m,\u001b[0m \u001b[0my\u001b[0m\u001b[0;34m,\u001b[0m \u001b[0msample_weight\u001b[0m\u001b[0;34m,\u001b[0m \u001b[0mi\u001b[0m\u001b[0;34m,\u001b[0m \u001b[0mlen\u001b[0m\u001b[0;34m(\u001b[0m\u001b[0mtrees\u001b[0m\u001b[0;34m)\u001b[0m\u001b[0;34m,\u001b[0m\u001b[0;34m\u001b[0m\u001b[0;34m\u001b[0m\u001b[0m\n\u001b[1;32m    329\u001b[0m                     verbose=self.verbose, class_weight=self.class_weight)\n\u001b[0;32m--> 330\u001b[0;31m                 for i, t in enumerate(trees))\n\u001b[0m\u001b[1;32m    331\u001b[0m \u001b[0;34m\u001b[0m\u001b[0m\n\u001b[1;32m    332\u001b[0m             \u001b[0;31m# Collect newly grown trees\u001b[0m\u001b[0;34m\u001b[0m\u001b[0;34m\u001b[0m\u001b[0;34m\u001b[0m\u001b[0m\n",
      "\u001b[0;32m/opt/conda/lib/python3.7/site-packages/joblib/parallel.py\u001b[0m in \u001b[0;36m__call__\u001b[0;34m(self, iterable)\u001b[0m\n\u001b[1;32m   1015\u001b[0m \u001b[0;34m\u001b[0m\u001b[0m\n\u001b[1;32m   1016\u001b[0m             \u001b[0;32mwith\u001b[0m \u001b[0mself\u001b[0m\u001b[0;34m.\u001b[0m\u001b[0m_backend\u001b[0m\u001b[0;34m.\u001b[0m\u001b[0mretrieval_context\u001b[0m\u001b[0;34m(\u001b[0m\u001b[0;34m)\u001b[0m\u001b[0;34m:\u001b[0m\u001b[0;34m\u001b[0m\u001b[0;34m\u001b[0m\u001b[0m\n\u001b[0;32m-> 1017\u001b[0;31m                 \u001b[0mself\u001b[0m\u001b[0;34m.\u001b[0m\u001b[0mretrieve\u001b[0m\u001b[0;34m(\u001b[0m\u001b[0;34m)\u001b[0m\u001b[0;34m\u001b[0m\u001b[0;34m\u001b[0m\u001b[0m\n\u001b[0m\u001b[1;32m   1018\u001b[0m             \u001b[0;31m# Make sure that we get a last message telling us we are done\u001b[0m\u001b[0;34m\u001b[0m\u001b[0;34m\u001b[0m\u001b[0;34m\u001b[0m\u001b[0m\n\u001b[1;32m   1019\u001b[0m             \u001b[0melapsed_time\u001b[0m \u001b[0;34m=\u001b[0m \u001b[0mtime\u001b[0m\u001b[0;34m.\u001b[0m\u001b[0mtime\u001b[0m\u001b[0;34m(\u001b[0m\u001b[0;34m)\u001b[0m \u001b[0;34m-\u001b[0m \u001b[0mself\u001b[0m\u001b[0;34m.\u001b[0m\u001b[0m_start_time\u001b[0m\u001b[0;34m\u001b[0m\u001b[0;34m\u001b[0m\u001b[0m\n",
      "\u001b[0;32m/opt/conda/lib/python3.7/site-packages/joblib/parallel.py\u001b[0m in \u001b[0;36mretrieve\u001b[0;34m(self)\u001b[0m\n\u001b[1;32m    907\u001b[0m             \u001b[0;32mtry\u001b[0m\u001b[0;34m:\u001b[0m\u001b[0;34m\u001b[0m\u001b[0;34m\u001b[0m\u001b[0m\n\u001b[1;32m    908\u001b[0m                 \u001b[0;32mif\u001b[0m \u001b[0mgetattr\u001b[0m\u001b[0;34m(\u001b[0m\u001b[0mself\u001b[0m\u001b[0;34m.\u001b[0m\u001b[0m_backend\u001b[0m\u001b[0;34m,\u001b[0m \u001b[0;34m'supports_timeout'\u001b[0m\u001b[0;34m,\u001b[0m \u001b[0;32mFalse\u001b[0m\u001b[0;34m)\u001b[0m\u001b[0;34m:\u001b[0m\u001b[0;34m\u001b[0m\u001b[0;34m\u001b[0m\u001b[0m\n\u001b[0;32m--> 909\u001b[0;31m                     \u001b[0mself\u001b[0m\u001b[0;34m.\u001b[0m\u001b[0m_output\u001b[0m\u001b[0;34m.\u001b[0m\u001b[0mextend\u001b[0m\u001b[0;34m(\u001b[0m\u001b[0mjob\u001b[0m\u001b[0;34m.\u001b[0m\u001b[0mget\u001b[0m\u001b[0;34m(\u001b[0m\u001b[0mtimeout\u001b[0m\u001b[0;34m=\u001b[0m\u001b[0mself\u001b[0m\u001b[0;34m.\u001b[0m\u001b[0mtimeout\u001b[0m\u001b[0;34m)\u001b[0m\u001b[0;34m)\u001b[0m\u001b[0;34m\u001b[0m\u001b[0;34m\u001b[0m\u001b[0m\n\u001b[0m\u001b[1;32m    910\u001b[0m                 \u001b[0;32melse\u001b[0m\u001b[0;34m:\u001b[0m\u001b[0;34m\u001b[0m\u001b[0;34m\u001b[0m\u001b[0m\n\u001b[1;32m    911\u001b[0m                     \u001b[0mself\u001b[0m\u001b[0;34m.\u001b[0m\u001b[0m_output\u001b[0m\u001b[0;34m.\u001b[0m\u001b[0mextend\u001b[0m\u001b[0;34m(\u001b[0m\u001b[0mjob\u001b[0m\u001b[0;34m.\u001b[0m\u001b[0mget\u001b[0m\u001b[0;34m(\u001b[0m\u001b[0;34m)\u001b[0m\u001b[0;34m)\u001b[0m\u001b[0;34m\u001b[0m\u001b[0;34m\u001b[0m\u001b[0m\n",
      "\u001b[0;32m/opt/conda/lib/python3.7/multiprocessing/pool.py\u001b[0m in \u001b[0;36mget\u001b[0;34m(self, timeout)\u001b[0m\n\u001b[1;32m    649\u001b[0m \u001b[0;34m\u001b[0m\u001b[0m\n\u001b[1;32m    650\u001b[0m     \u001b[0;32mdef\u001b[0m \u001b[0mget\u001b[0m\u001b[0;34m(\u001b[0m\u001b[0mself\u001b[0m\u001b[0;34m,\u001b[0m \u001b[0mtimeout\u001b[0m\u001b[0;34m=\u001b[0m\u001b[0;32mNone\u001b[0m\u001b[0;34m)\u001b[0m\u001b[0;34m:\u001b[0m\u001b[0;34m\u001b[0m\u001b[0;34m\u001b[0m\u001b[0m\n\u001b[0;32m--> 651\u001b[0;31m         \u001b[0mself\u001b[0m\u001b[0;34m.\u001b[0m\u001b[0mwait\u001b[0m\u001b[0;34m(\u001b[0m\u001b[0mtimeout\u001b[0m\u001b[0;34m)\u001b[0m\u001b[0;34m\u001b[0m\u001b[0;34m\u001b[0m\u001b[0m\n\u001b[0m\u001b[1;32m    652\u001b[0m         \u001b[0;32mif\u001b[0m \u001b[0;32mnot\u001b[0m \u001b[0mself\u001b[0m\u001b[0;34m.\u001b[0m\u001b[0mready\u001b[0m\u001b[0;34m(\u001b[0m\u001b[0;34m)\u001b[0m\u001b[0;34m:\u001b[0m\u001b[0;34m\u001b[0m\u001b[0;34m\u001b[0m\u001b[0m\n\u001b[1;32m    653\u001b[0m             \u001b[0;32mraise\u001b[0m \u001b[0mTimeoutError\u001b[0m\u001b[0;34m\u001b[0m\u001b[0;34m\u001b[0m\u001b[0m\n",
      "\u001b[0;32m/opt/conda/lib/python3.7/multiprocessing/pool.py\u001b[0m in \u001b[0;36mwait\u001b[0;34m(self, timeout)\u001b[0m\n\u001b[1;32m    646\u001b[0m \u001b[0;34m\u001b[0m\u001b[0m\n\u001b[1;32m    647\u001b[0m     \u001b[0;32mdef\u001b[0m \u001b[0mwait\u001b[0m\u001b[0;34m(\u001b[0m\u001b[0mself\u001b[0m\u001b[0;34m,\u001b[0m \u001b[0mtimeout\u001b[0m\u001b[0;34m=\u001b[0m\u001b[0;32mNone\u001b[0m\u001b[0;34m)\u001b[0m\u001b[0;34m:\u001b[0m\u001b[0;34m\u001b[0m\u001b[0;34m\u001b[0m\u001b[0m\n\u001b[0;32m--> 648\u001b[0;31m         \u001b[0mself\u001b[0m\u001b[0;34m.\u001b[0m\u001b[0m_event\u001b[0m\u001b[0;34m.\u001b[0m\u001b[0mwait\u001b[0m\u001b[0;34m(\u001b[0m\u001b[0mtimeout\u001b[0m\u001b[0;34m)\u001b[0m\u001b[0;34m\u001b[0m\u001b[0;34m\u001b[0m\u001b[0m\n\u001b[0m\u001b[1;32m    649\u001b[0m \u001b[0;34m\u001b[0m\u001b[0m\n\u001b[1;32m    650\u001b[0m     \u001b[0;32mdef\u001b[0m \u001b[0mget\u001b[0m\u001b[0;34m(\u001b[0m\u001b[0mself\u001b[0m\u001b[0;34m,\u001b[0m \u001b[0mtimeout\u001b[0m\u001b[0;34m=\u001b[0m\u001b[0;32mNone\u001b[0m\u001b[0;34m)\u001b[0m\u001b[0;34m:\u001b[0m\u001b[0;34m\u001b[0m\u001b[0;34m\u001b[0m\u001b[0m\n",
      "\u001b[0;32m/opt/conda/lib/python3.7/threading.py\u001b[0m in \u001b[0;36mwait\u001b[0;34m(self, timeout)\u001b[0m\n\u001b[1;32m    550\u001b[0m             \u001b[0msignaled\u001b[0m \u001b[0;34m=\u001b[0m \u001b[0mself\u001b[0m\u001b[0;34m.\u001b[0m\u001b[0m_flag\u001b[0m\u001b[0;34m\u001b[0m\u001b[0;34m\u001b[0m\u001b[0m\n\u001b[1;32m    551\u001b[0m             \u001b[0;32mif\u001b[0m \u001b[0;32mnot\u001b[0m \u001b[0msignaled\u001b[0m\u001b[0;34m:\u001b[0m\u001b[0;34m\u001b[0m\u001b[0;34m\u001b[0m\u001b[0m\n\u001b[0;32m--> 552\u001b[0;31m                 \u001b[0msignaled\u001b[0m \u001b[0;34m=\u001b[0m \u001b[0mself\u001b[0m\u001b[0;34m.\u001b[0m\u001b[0m_cond\u001b[0m\u001b[0;34m.\u001b[0m\u001b[0mwait\u001b[0m\u001b[0;34m(\u001b[0m\u001b[0mtimeout\u001b[0m\u001b[0;34m)\u001b[0m\u001b[0;34m\u001b[0m\u001b[0;34m\u001b[0m\u001b[0m\n\u001b[0m\u001b[1;32m    553\u001b[0m             \u001b[0;32mreturn\u001b[0m \u001b[0msignaled\u001b[0m\u001b[0;34m\u001b[0m\u001b[0;34m\u001b[0m\u001b[0m\n\u001b[1;32m    554\u001b[0m \u001b[0;34m\u001b[0m\u001b[0m\n",
      "\u001b[0;32m/opt/conda/lib/python3.7/threading.py\u001b[0m in \u001b[0;36mwait\u001b[0;34m(self, timeout)\u001b[0m\n\u001b[1;32m    294\u001b[0m         \u001b[0;32mtry\u001b[0m\u001b[0;34m:\u001b[0m    \u001b[0;31m# restore state no matter what (e.g., KeyboardInterrupt)\u001b[0m\u001b[0;34m\u001b[0m\u001b[0;34m\u001b[0m\u001b[0m\n\u001b[1;32m    295\u001b[0m             \u001b[0;32mif\u001b[0m \u001b[0mtimeout\u001b[0m \u001b[0;32mis\u001b[0m \u001b[0;32mNone\u001b[0m\u001b[0;34m:\u001b[0m\u001b[0;34m\u001b[0m\u001b[0;34m\u001b[0m\u001b[0m\n\u001b[0;32m--> 296\u001b[0;31m                 \u001b[0mwaiter\u001b[0m\u001b[0;34m.\u001b[0m\u001b[0macquire\u001b[0m\u001b[0;34m(\u001b[0m\u001b[0;34m)\u001b[0m\u001b[0;34m\u001b[0m\u001b[0;34m\u001b[0m\u001b[0m\n\u001b[0m\u001b[1;32m    297\u001b[0m                 \u001b[0mgotit\u001b[0m \u001b[0;34m=\u001b[0m \u001b[0;32mTrue\u001b[0m\u001b[0;34m\u001b[0m\u001b[0;34m\u001b[0m\u001b[0m\n\u001b[1;32m    298\u001b[0m             \u001b[0;32melse\u001b[0m\u001b[0;34m:\u001b[0m\u001b[0;34m\u001b[0m\u001b[0;34m\u001b[0m\u001b[0m\n",
      "\u001b[0;31mKeyboardInterrupt\u001b[0m: "
     ]
    }
   ],
   "source": [
    "%%time \n",
    "RF, test_size, main_class_prop, accuracy = random_forest_k_default(k=4,sequence_origin='DairyDB', \n",
    "                                                               primers_origin='Chaudhary', \n",
    "                                                               taxonomy_level=5,\n",
    "                                                               selected_primer='V4', \n",
    "                                                               max_depth=25,\n",
    "                                                               n_estimators=300)"
   ]
  },
  {
   "cell_type": "code",
   "execution_count": null,
   "metadata": {},
   "outputs": [],
   "source": []
  },
  {
   "cell_type": "markdown",
   "metadata": {},
   "source": [
    "k_list = []\n",
    "begin_time = time.time()\n",
    "for k in range(4,6):\n",
    "    all_results = []\n",
    "    for taxonomy_level in range(7):\n",
    "        for selected_primer in ['V1','V2', 'V3', 'V4', 'V5', 'V6', 'V7', 'V8', 'V9', 'V12', 'V23', 'V34', 'V45', 'V56', 'V67', 'V78', 'V89']:\n",
    "            test_size, main_class_prop, accuracy = random_forest_k_default(k=k,sequence_origin='', \n",
    "                                                                                   primers_origin='DairyDB', \n",
    "                                                                                   taxonomy_level=taxonomy_level,\n",
    "                                                                                   selected_primer=selected_primer)\n",
    "            all_results.append([selected_primer, taxonomy_level, test_size, main_class_prop, accuracy])\n",
    "    k_list.append(all_results)\n",
    "    k_df = pd.DataFrame(k_list[k-4], columns=['HyperVariable Region','Taxonomy Rank to be classified','Test Size', 'Main Class prop', 'Random Forest - RF({})'.format(k)])\n",
    "    k_df.to_csv('results/models/Random Forest - RF({}) - DB and GG - DB - accuracies.csv'.format(k), index=False)"
   ]
  },
  {
   "cell_type": "markdown",
   "metadata": {},
   "source": [
    "df_list = []\n",
    "for k in range(len(k_list)):\n",
    "    df_list.append(pd.DataFrame(k_list[k], columns=['HyperVariable Region','Taxonomy Rank to be classified','Test Size', 'Main Class prop', 'Random Forest - RF({})'.format(k+4)]))\n",
    "\n",
    "final_df = pd.merge(df_list[0], df_list[1], on=['HyperVariable Region','Taxonomy Rank to be classified','Test Size', 'Main Class prop'], how='left')\n",
    "#final_df = pd.merge(final_df, df_list[2], on=['HyperVariable Region','Taxonomy Rank to be classified','Test Size', 'Main Class prop'], how='left')\n",
    "#final_df = pd.merge(final_df, df_list[3], on=['HyperVariable Region','Taxonomy Rank to be classified','Test Size', 'Main Class prop'], how='left')\n",
    "#final_df = pd.merge(final_df, df_list[4], on=['HyperVariable Region','Taxonomy Rank to be classified','Test Size', 'Main Class prop'], how='left')\n",
    "\n",
    "final_df.to_csv('results/models/Random Forest - RF 4 & 5 - DB and GG - DB.csv'.format(k), index=False)"
   ]
  },
  {
   "cell_type": "markdown",
   "metadata": {},
   "source": [
    "taxonomy_level = 5\n",
    "selected_primer = 'V4'"
   ]
  },
  {
   "cell_type": "markdown",
   "metadata": {},
   "source": [
    "from models.random_forest import random_forest_k_grid_search_cv"
   ]
  },
  {
   "cell_type": "code",
   "execution_count": null,
   "metadata": {},
   "outputs": [],
   "source": [
    "#Number of trees in random forest\n",
    "n_estimators = [50, 75 , 100, 125, 150]  \n",
    "# Number of features to consider at every split\n",
    "max_features = ['auto']  \n",
    "# Maximum number of levels in tree\n",
    "max_depth = [None]  \n",
    "# Minimum number of samples required to split a node\n",
    "min_samples_split = [2]  \n",
    "# Minimum number of samples required at each leaf node\n",
    "min_samples_leaf = [1]  \n",
    "# Method of selecting samples for training each tree\n",
    "bootstrap = [False]  \n",
    "# Create the random grid\n",
    "param_grid = {\n",
    "    'n_estimators' : n_estimators,\n",
    "    'max_features' : max_features,\n",
    "    'max_depth' : max_depth,\n",
    "    'min_samples_split' : min_samples_split,\n",
    "    'bootstrap' : bootstrap\n",
    "}"
   ]
  },
  {
   "cell_type": "markdown",
   "metadata": {},
   "source": [
    "test_size, main_class_prop, accuracy = random_forest_k_grid_search_cv(k=4,\n",
    "                                                                      param_grid=param_grid, \n",
    "                                                                      sequence_origin='DairyDB', \n",
    "                                                                      primers_origin='DairyDB', \n",
    "                                                                      taxonomy_level=taxonomy_level,\n",
    "                                                                      selected_primer=selected_primer)\n",
    "\n",
    "test_size, main_class_prop, accuracy = random_forest_k_grid_search_cv(k=5,\n",
    "                                                                      param_grid=param_grid, \n",
    "                                                                      sequence_origin='DairyDB', \n",
    "                                                                      primers_origin='DairyDB', \n",
    "                                                                      taxonomy_level=taxonomy_level,\n",
    "                                                                      selected_primer=selected_primer)"
   ]
  },
  {
   "cell_type": "markdown",
   "metadata": {},
   "source": [
    "## XGBOOST"
   ]
  },
  {
   "cell_type": "markdown",
   "metadata": {},
   "source": [
    "k_list = []\n",
    "begin_time = time.time()\n",
    "for k in range(5,0, -1):\n",
    "    all_results = []\n",
    "    for taxonomy_level in range(7):\n",
    "        for selected_primer in ['V1','V2', 'V3', 'V4', 'V5', 'V6', 'V7', 'V8', 'V9', 'V12', 'V23', 'V34', 'V45', 'V56', 'V67', 'V78', 'V89', 'sequence']:\n",
    "            print('Now training: XGBoost {} with taxonomy level {} and hvr {} - lasted: {}'.format(k, taxonomy_level, selected_primer, time_difference_good_format(begin_time, time.time())), end='\\n')\n",
    "            process = psutil.Process(os.getpid())\n",
    "            print('Memory Usage before function: {:0.2f} Mb'.format(process.memory_info().rss / float(2 ** 20)), end='\\n')\n",
    "            test_size, main_class_prop, accuracy = xgboost_k_default(k=k,sequence_origin='DairyDB', \n",
    "                                                                     primers_origin='DairyDB', \n",
    "                                                                     taxonomy_level=taxonomy_level,\n",
    "                                                                     selected_primer=selected_primer)\n",
    "            process = psutil.Process(os.getpid())\n",
    "            print('Memory Usage after function: {:0.2f} Mb'.format(process.memory_info().rss / float(2 ** 20)), end='\\n')\n",
    "            all_results.append([selected_primer, taxonomy_level, test_size, main_class_prop, accuracy])\n",
    "    k_list.append(all_results)\n",
    "    k_df = pd.DataFrame(k_list[5-k], columns=['HyperVariable Region','Taxonomy Rank to be classified','Test Size', 'Main Class prop', 'XGBoost - XGB({})'.format(k+1)])\n",
    "    k_df.to_csv('results/models/XGBoost - XGB({}) - DB - DB - accuracies.csv'.format(k), index=False)"
   ]
  },
  {
   "cell_type": "markdown",
   "metadata": {},
   "source": [
    "df_list = []\n",
    "for k in range(len(k_list)):\n",
    "    df_list.append(pd.DataFrame(k_list[k], columns=['HyperVariable Region','Taxonomy Rank to be classified','Test Size', 'Main Class prop', 'XGBoost - XGB({})'.format(5-k)]))\n",
    "\n",
    "final_df = pd.merge(df_list[0], df_list[1], on=['HyperVariable Region','Taxonomy Rank to be classified','Test Size', 'Main Class prop'], how='left')\n",
    "final_df = pd.merge(final_df, df_list[2], on=['HyperVariable Region','Taxonomy Rank to be classified','Test Size', 'Main Class prop'], how='left')\n",
    "final_df = pd.merge(final_df, df_list[3], on=['HyperVariable Region','Taxonomy Rank to be classified','Test Size', 'Main Class prop'], how='left')\n",
    "final_df = pd.merge(final_df, df_list[4], on=['HyperVariable Region','Taxonomy Rank to be classified','Test Size', 'Main Class prop'], how='left')\n",
    "\n",
    "final_df.to_csv('results/models/XGBoost - ALL XGB - DB - DB.csv', index=False)"
   ]
  },
  {
   "cell_type": "markdown",
   "metadata": {},
   "source": [
    "## XGBOOST FORCE"
   ]
  },
  {
   "cell_type": "code",
   "execution_count": null,
   "metadata": {},
   "outputs": [],
   "source": [
    "# Number of trees in random forest\n",
    "n_estimators = [50, 100, 150, 200, 250]  \n",
    "# Number of features to consider at every split\n",
    "max_features = ['auto']  \n",
    "# Maximum number of levels in tree\n",
    "max_depth = [3, 5, 8, 15]  \n",
    "# Minimum number of samples required to split a node\n",
    "min_samples_split = [2]  \n",
    "# Minimum number of samples required at each leaf node\n",
    "min_samples_leaf = [1]  \n",
    "# Method of selecting samples for training each tree\n",
    "bootstrap = [False]  \n",
    "# Create the random grid\n",
    "param_grid = {\n",
    "    'n_estimators' : n_estimators,\n",
    "    'max_features' : max_features,\n",
    "    'max_depth' : max_depth,\n",
    "}"
   ]
  },
  {
   "cell_type": "code",
   "execution_count": null,
   "metadata": {
    "scrolled": true
   },
   "outputs": [],
   "source": [
    "import warnings\n",
    "warnings.simplefilter('ignore')\n",
    "from utils.utils import time_difference_good_format, save_update, restartkernel\n",
    "import pandas as pd\n",
    "import time\n",
    "import os\n",
    "from models.xgboost import xgboost_k_grid_search_cv\n",
    "import time\n",
    "begin_time = time.time()\n",
    "\n",
    "taxonomy_level=5\n",
    "selected_primer = 'V4'\n",
    "\n",
    "k=4\n",
    "print('Now training: XGBoost {} with taxonomy level {} and hvr {} - lasted: {}'.format(\n",
    "    k, \n",
    "    taxonomy_level, \n",
    "    selected_primer, time_difference_good_format(begin_time, time.time())), end='\\n')\n",
    "test_size, main_class_prop, accuracy = xgboost_k_grid_search_cv(k=k,\n",
    "                                                                param_grid=param_grid, \n",
    "                                                                sequence_origin='DairyDB', \n",
    "                                                                primers_origin='Chaudhary', \n",
    "                                                                taxonomy_level=taxonomy_level,\n",
    "                                                                selected_primer=selected_primer)\n",
    "save_update('results/models/XGBoost - XGB({}) - V4 - Genus - accuracies.csv'.format(k), k, selected_primer, taxonomy_level, test_size, main_class_prop, accuracy)\n",
    "    \n",
    "k=5\n",
    "print('Now training: XGBoost {} with taxonomy level {} and hvr {} - lasted: {}'.format(\n",
    "    k, \n",
    "    taxonomy_level, \n",
    "    selected_primer, time_difference_good_format(begin_time, time.time())), end='\\n')\n",
    "test_size, main_class_prop, accuracy = xgboost_k_grid_search_cv(k=k,\n",
    "                                                                param_grid=param_grid, \n",
    "                                                                sequence_origin='DairyDB', \n",
    "                                                                primers_origin='Chaudhary', \n",
    "                                                                taxonomy_level=taxonomy_level,\n",
    "                                                                selected_primer=selected_primer)\n",
    "save_update('results/models/XGBoost - XGB({}) - V4 - Genus - accuracies.csv'.format(k), k, selected_primer, taxonomy_level, test_size, main_class_prop, accuracy)"
   ]
  },
  {
   "cell_type": "markdown",
   "metadata": {},
   "source": [
    "### Get specific trees"
   ]
  },
  {
   "cell_type": "markdown",
   "metadata": {},
   "source": [
    "import warnings\n",
    "warnings.simplefilter('ignore')\n",
    "from utils.utils import time_difference_good_format, save_update, restartkernel\n",
    "import pandas as pd\n",
    "import time\n",
    "import os\n",
    "from models.xgboost import xgboost_k_default\n",
    "import time\n",
    "import psutil"
   ]
  },
  {
   "cell_type": "markdown",
   "metadata": {},
   "source": [
    "k=5\n",
    "taxonomy_level=5\n",
    "selected_primer='V4'\n",
    "test_size, main_class_prop, accuracy = xgboost_k_default(k=k,sequence_origin='DairyDB', \n",
    "                                                             primers_origin='DairyDB', \n",
    "                                                             taxonomy_level=taxonomy_level,\n",
    "                                                             selected_primer=selected_primer)\n",
    "save_update('results/models/XGBoost - XGB({}) - DB - DB - accuracies.csv'.format(k), k, selected_primer, taxonomy_level, test_size, main_class_prop, accuracy)\n"
   ]
  }
 ],
 "metadata": {
  "kernelspec": {
   "display_name": "Python 3",
   "language": "python",
   "name": "python3"
  },
  "language_info": {
   "codemirror_mode": {
    "name": "ipython",
    "version": 3
   },
   "file_extension": ".py",
   "mimetype": "text/x-python",
   "name": "python",
   "nbconvert_exporter": "python",
   "pygments_lexer": "ipython3",
   "version": "3.7.6"
  },
  "pycharm": {
   "stem_cell": {
    "cell_type": "raw",
    "metadata": {
     "collapsed": false
    },
    "source": []
   }
  },
  "toc": {
   "base_numbering": 1,
   "nav_menu": {},
   "number_sections": true,
   "sideBar": true,
   "skip_h1_title": true,
   "title_cell": "Table of Contents",
   "title_sidebar": "Contents",
   "toc_cell": true,
   "toc_position": {},
   "toc_section_display": true,
   "toc_window_display": false
  }
 },
 "nbformat": 4,
 "nbformat_minor": 4
}
