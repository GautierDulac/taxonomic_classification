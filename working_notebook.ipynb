{
 "cells": [
  {
   "cell_type": "markdown",
   "metadata": {
    "toc": true
   },
   "source": [
    "<h1>Table of Contents<span class=\"tocSkip\"></span></h1>\n",
    "<div class=\"toc\"><ul class=\"toc-item\"><li><span><a href=\"#Packages\" data-toc-modified-id=\"Packages-1\"><span class=\"toc-item-num\">1&nbsp;&nbsp;</span>Packages</a></span></li><li><span><a href=\"#Extracting-sequences\" data-toc-modified-id=\"Extracting-sequences-2\"><span class=\"toc-item-num\">2&nbsp;&nbsp;</span>Extracting sequences</a></span></li><li><span><a href=\"#Concatenating-in-a-DF-and-saving-to-csv\" data-toc-modified-id=\"Concatenating-in-a-DF-and-saving-to-csv-3\"><span class=\"toc-item-num\">3&nbsp;&nbsp;</span>Concatenating in a DF and saving to csv</a></span></li></ul></div>"
   ]
  },
  {
   "cell_type": "markdown",
   "metadata": {},
   "source": [
    "# Retrieving Data from GG "
   ]
  },
  {
   "cell_type": "markdown",
   "metadata": {},
   "source": [
    "## Packages"
   ]
  },
  {
   "cell_type": "code",
   "execution_count": 49,
   "metadata": {},
   "outputs": [],
   "source": [
    "import pandas as pd\n",
    "from os import listdir\n",
    "from os.path import isfile, join"
   ]
  },
  {
   "cell_type": "markdown",
   "metadata": {},
   "source": [
    "## Extracting sequences"
   ]
  },
  {
   "cell_type": "code",
   "execution_count": 45,
   "metadata": {},
   "outputs": [],
   "source": [
    "def extract_data_from_fasta(num_file: int):\n",
    "    seq_file = open('data/gg_13_5_otus/rep_set/{}_otus.fasta'.format(str(num_file)))\n",
    "    line_to_read = True\n",
    "    list_of_reads = []\n",
    "    while line_to_read:\n",
    "        ref = seq_file.readline()[1:-2]\n",
    "        seq = seq_file.readline()[:-2]\n",
    "        if ref == '':\n",
    "            line_to_read = False\n",
    "        else:\n",
    "            list_of_reads.append([int(ref), seq, len(seq), num_file])\n",
    "    return pd.DataFrame(list_of_reads, columns=['reference', 'sequence', 'sequence_size', 'file_num'])"
   ]
  },
  {
   "cell_type": "code",
   "execution_count": 50,
   "metadata": {},
   "outputs": [],
   "source": [
    "def get_files_to_load(folder_path):\n",
    "    onlyfiles = [f for f in listdir(folder_path) if isfile(join(folder_path, f))]\n",
    "    return onlyfiles"
   ]
  },
  {
   "cell_type": "markdown",
   "metadata": {},
   "source": [
    "## Concatenating in a DF and saving to csv"
   ]
  },
  {
   "cell_type": "code",
   "execution_count": 59,
   "metadata": {},
   "outputs": [],
   "source": [
    "def get_complete_df(folder_path):\n",
    "    files_to_load = get_files_to_load(folder_path)\n",
    "    number_to_load = [int(file_name.split('_')[0]) for file_name in files_to_load]\n",
    "    final_df = pd.DataFrame()\n",
    "    for num_file in number_to_load:\n",
    "        print('Reading file {}'.format(num_file))\n",
    "        final_df = pd.concat([extract_data_from_fasta(num_file),final_df])\n",
    "    return final_df\n",
    "    \n",
    "\n",
    "df = get_complete_df('data/gg_13_5_otus/rep_set/')\n",
    "df.to_csv('data/complete_gg_13_5_otus_rep_set.csv')"
   ]
  }
 ],
 "metadata": {
  "kernelspec": {
   "display_name": "Python 3",
   "language": "python",
   "name": "python3"
  },
  "language_info": {
   "codemirror_mode": {
    "name": "ipython",
    "version": 3
   },
   "file_extension": ".py",
   "mimetype": "text/x-python",
   "name": "python",
   "nbconvert_exporter": "python",
   "pygments_lexer": "ipython3",
   "version": "3.7.4"
  },
  "toc": {
   "base_numbering": 1,
   "nav_menu": {},
   "number_sections": true,
   "sideBar": true,
   "skip_h1_title": true,
   "title_cell": "Table of Contents",
   "title_sidebar": "Contents",
   "toc_cell": true,
   "toc_position": {},
   "toc_section_display": true,
   "toc_window_display": false
  }
 },
 "nbformat": 4,
 "nbformat_minor": 2
}
