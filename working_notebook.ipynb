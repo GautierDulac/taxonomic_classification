{
 "cells": [
  {
   "cell_type": "markdown",
   "metadata": {
    "toc": true
   },
   "source": [
    "<h1>Table of Contents<span class=\"tocSkip\"></span></h1>\n",
    "<div class=\"toc\"><ul class=\"toc-item\"><li><span><a href=\"#Packages\" data-toc-modified-id=\"Packages-1\"><span class=\"toc-item-num\">1&nbsp;&nbsp;</span>Packages</a></span></li><li><span><a href=\"#Test-a-first-naive-bayesian-model\" data-toc-modified-id=\"Test-a-first-naive-bayesian-model-2\"><span class=\"toc-item-num\">2&nbsp;&nbsp;</span>Test a first naive bayesian model</a></span></li><li><span><a href=\"#RF\" data-toc-modified-id=\"RF-3\"><span class=\"toc-item-num\">3&nbsp;&nbsp;</span>RF</a></span></li><li><span><a href=\"#XGBOOST\" data-toc-modified-id=\"XGBOOST-4\"><span class=\"toc-item-num\">4&nbsp;&nbsp;</span>XGBOOST</a></span></li><li><span><a href=\"#XGBOOST-FORCE\" data-toc-modified-id=\"XGBOOST-FORCE-5\"><span class=\"toc-item-num\">5&nbsp;&nbsp;</span>XGBOOST FORCE</a></span><ul class=\"toc-item\"><li><span><a href=\"#Get-specific-trees\" data-toc-modified-id=\"Get-specific-trees-5.1\"><span class=\"toc-item-num\">5.1&nbsp;&nbsp;</span>Get specific trees</a></span></li></ul></li></ul></div>"
   ]
  },
  {
   "cell_type": "markdown",
   "metadata": {},
   "source": [
    "## Packages"
   ]
  },
  {
   "cell_type": "code",
   "execution_count": null,
   "metadata": {
    "pycharm": {
     "is_executing": false
    }
   },
   "outputs": [],
   "source": [
    "%load_ext autoreload\n",
    "%autoreload 2"
   ]
  },
  {
   "cell_type": "code",
   "execution_count": 1,
   "metadata": {},
   "outputs": [],
   "source": [
    "import warnings\n",
    "warnings.simplefilter('ignore')\n",
    "from utils.utils import time_difference_good_format\n",
    "import pandas as pd\n",
    "import time\n",
    "import os\n",
    "import psutil"
   ]
  },
  {
   "cell_type": "markdown",
   "metadata": {},
   "source": [
    "## Test a first naive bayesian model"
   ]
  },
  {
   "cell_type": "code",
   "execution_count": 5,
   "metadata": {},
   "outputs": [],
   "source": [
    "from models.naive_bayes_k import naive_bayes_k"
   ]
  },
  {
   "cell_type": "code",
   "execution_count": 6,
   "metadata": {},
   "outputs": [
    {
     "name": "stdout",
     "output_type": "stream",
     "text": [
      "10389raining: Naive Bayes 1 with taxonomy level 0 and hvr V1 - lasted: 0 second\n",
      "10389raining: Naive Bayes 1 with taxonomy level 0 and hvr V2 - lasted: 0 second\n",
      "10389raining: Naive Bayes 1 with taxonomy level 0 and hvr V3 - lasted: 1 second\n",
      "10389raining: Naive Bayes 1 with taxonomy level 0 and hvr V4 - lasted: 2 seconds\n",
      "10389raining: Naive Bayes 1 with taxonomy level 0 and hvr V5 - lasted: 3 seconds\n",
      "10389raining: Naive Bayes 1 with taxonomy level 0 and hvr V6 - lasted: 3 seconds\n",
      "10389raining: Naive Bayes 1 with taxonomy level 0 and hvr V7 - lasted: 4 seconds\n",
      "10389raining: Naive Bayes 1 with taxonomy level 0 and hvr V8 - lasted: 5 seconds\n",
      "10389raining: Naive Bayes 1 with taxonomy level 0 and hvr V9 - lasted: 6 seconds\n",
      "10389raining: Naive Bayes 1 with taxonomy level 0 and hvr V12 - lasted: 6 seconds\n",
      "10389raining: Naive Bayes 1 with taxonomy level 0 and hvr V23 - lasted: 7 seconds\n",
      "10389raining: Naive Bayes 1 with taxonomy level 0 and hvr V34 - lasted: 8 seconds\n",
      "10389raining: Naive Bayes 1 with taxonomy level 0 and hvr V45 - lasted: 9 seconds\n",
      "10389raining: Naive Bayes 1 with taxonomy level 0 and hvr V56 - lasted: 10 seconds\n",
      "10389raining: Naive Bayes 1 with taxonomy level 0 and hvr V67 - lasted: 11 seconds\n",
      "10389raining: Naive Bayes 1 with taxonomy level 0 and hvr V78 - lasted: 11 seconds\n",
      "10389raining: Naive Bayes 1 with taxonomy level 0 and hvr V89 - lasted: 12 seconds\n",
      "10389raining: Naive Bayes 1 with taxonomy level 0 and hvr sequence - lasted: 13 seconds\n",
      "10389raining: Naive Bayes 1 with taxonomy level 1 and hvr V1 - lasted: 14 seconds\n",
      "10389raining: Naive Bayes 1 with taxonomy level 1 and hvr V2 - lasted: 15 seconds\n",
      "10389raining: Naive Bayes 1 with taxonomy level 1 and hvr V3 - lasted: 16 seconds\n",
      "10389raining: Naive Bayes 1 with taxonomy level 1 and hvr V4 - lasted: 16 seconds\n",
      "10389raining: Naive Bayes 1 with taxonomy level 1 and hvr V5 - lasted: 17 seconds\n",
      "10389raining: Naive Bayes 1 with taxonomy level 1 and hvr V6 - lasted: 18 seconds\n",
      "10389raining: Naive Bayes 1 with taxonomy level 1 and hvr V7 - lasted: 19 seconds\n",
      "10389raining: Naive Bayes 1 with taxonomy level 1 and hvr V8 - lasted: 20 seconds\n",
      "10389raining: Naive Bayes 1 with taxonomy level 1 and hvr V9 - lasted: 21 seconds\n",
      "10389raining: Naive Bayes 1 with taxonomy level 1 and hvr V12 - lasted: 21 seconds\n",
      "10389raining: Naive Bayes 1 with taxonomy level 1 and hvr V23 - lasted: 22 seconds\n",
      "10389raining: Naive Bayes 1 with taxonomy level 1 and hvr V34 - lasted: 23 seconds\n",
      "10389raining: Naive Bayes 1 with taxonomy level 1 and hvr V45 - lasted: 23 seconds\n",
      "10389raining: Naive Bayes 1 with taxonomy level 1 and hvr V56 - lasted: 24 seconds\n",
      "10389raining: Naive Bayes 1 with taxonomy level 1 and hvr V67 - lasted: 25 seconds\n",
      "10389raining: Naive Bayes 1 with taxonomy level 1 and hvr V78 - lasted: 26 seconds\n",
      "10389raining: Naive Bayes 1 with taxonomy level 1 and hvr V89 - lasted: 27 seconds\n",
      "10389raining: Naive Bayes 1 with taxonomy level 1 and hvr sequence - lasted: 28 seconds\n",
      "10389raining: Naive Bayes 1 with taxonomy level 2 and hvr V1 - lasted: 29 seconds\n",
      "10389raining: Naive Bayes 1 with taxonomy level 2 and hvr V2 - lasted: 30 seconds\n",
      "10389raining: Naive Bayes 1 with taxonomy level 2 and hvr V3 - lasted: 30 seconds\n",
      "10389raining: Naive Bayes 1 with taxonomy level 2 and hvr V4 - lasted: 31 seconds\n",
      "10389raining: Naive Bayes 1 with taxonomy level 2 and hvr V5 - lasted: 32 seconds\n",
      "10389raining: Naive Bayes 1 with taxonomy level 2 and hvr V6 - lasted: 33 seconds\n",
      "10389raining: Naive Bayes 1 with taxonomy level 2 and hvr V7 - lasted: 34 seconds\n",
      "10389raining: Naive Bayes 1 with taxonomy level 2 and hvr V8 - lasted: 35 seconds\n",
      "10389raining: Naive Bayes 1 with taxonomy level 2 and hvr V9 - lasted: 35 seconds\n",
      "10389raining: Naive Bayes 1 with taxonomy level 2 and hvr V12 - lasted: 36 seconds\n",
      "10389raining: Naive Bayes 1 with taxonomy level 2 and hvr V23 - lasted: 37 seconds\n",
      "10389raining: Naive Bayes 1 with taxonomy level 2 and hvr V34 - lasted: 37 seconds\n",
      "10389raining: Naive Bayes 1 with taxonomy level 2 and hvr V45 - lasted: 38 seconds\n",
      "10389raining: Naive Bayes 1 with taxonomy level 2 and hvr V56 - lasted: 39 seconds\n",
      "10389raining: Naive Bayes 1 with taxonomy level 2 and hvr V67 - lasted: 40 seconds\n",
      "10389raining: Naive Bayes 1 with taxonomy level 2 and hvr V78 - lasted: 41 seconds\n",
      "10389raining: Naive Bayes 1 with taxonomy level 2 and hvr V89 - lasted: 42 seconds\n",
      "10389raining: Naive Bayes 1 with taxonomy level 2 and hvr sequence - lasted: 43 seconds\n",
      "10389raining: Naive Bayes 1 with taxonomy level 3 and hvr V1 - lasted: 44 seconds\n",
      "10389raining: Naive Bayes 1 with taxonomy level 3 and hvr V2 - lasted: 45 seconds\n",
      "10389raining: Naive Bayes 1 with taxonomy level 3 and hvr V3 - lasted: 45 seconds\n",
      "10389raining: Naive Bayes 1 with taxonomy level 3 and hvr V4 - lasted: 46 seconds\n",
      "10389raining: Naive Bayes 1 with taxonomy level 3 and hvr V5 - lasted: 47 seconds\n",
      "10389raining: Naive Bayes 1 with taxonomy level 3 and hvr V6 - lasted: 48 seconds\n",
      "10389raining: Naive Bayes 1 with taxonomy level 3 and hvr V7 - lasted: 49 seconds\n",
      "10389raining: Naive Bayes 1 with taxonomy level 3 and hvr V8 - lasted: 50 seconds\n",
      "10389raining: Naive Bayes 1 with taxonomy level 3 and hvr V9 - lasted: 51 seconds\n",
      "10389raining: Naive Bayes 1 with taxonomy level 3 and hvr V12 - lasted: 51 seconds\n",
      "10389raining: Naive Bayes 1 with taxonomy level 3 and hvr V23 - lasted: 52 seconds\n",
      "10389raining: Naive Bayes 1 with taxonomy level 3 and hvr V34 - lasted: 53 seconds\n",
      "10389raining: Naive Bayes 1 with taxonomy level 3 and hvr V45 - lasted: 54 seconds\n",
      "10389raining: Naive Bayes 1 with taxonomy level 3 and hvr V56 - lasted: 55 seconds\n",
      "10389raining: Naive Bayes 1 with taxonomy level 3 and hvr V67 - lasted: 56 seconds\n",
      "10389raining: Naive Bayes 1 with taxonomy level 3 and hvr V78 - lasted: 57 seconds\n",
      "10389raining: Naive Bayes 1 with taxonomy level 3 and hvr V89 - lasted: 57 seconds\n",
      "10389raining: Naive Bayes 1 with taxonomy level 3 and hvr sequence - lasted: 58 seconds\n",
      "10389raining: Naive Bayes 1 with taxonomy level 4 and hvr V1 - lasted: 1 minute and 0 second\n",
      "10389raining: Naive Bayes 1 with taxonomy level 4 and hvr V2 - lasted: 1 minute and 0 second\n",
      "10389raining: Naive Bayes 1 with taxonomy level 4 and hvr V3 - lasted: 1 minute and 1 second\n",
      "10389raining: Naive Bayes 1 with taxonomy level 4 and hvr V4 - lasted: 1 minute and 2 seconds\n",
      "10389raining: Naive Bayes 1 with taxonomy level 4 and hvr V5 - lasted: 1 minute and 3 seconds\n",
      "10389raining: Naive Bayes 1 with taxonomy level 4 and hvr V6 - lasted: 1 minute and 4 seconds\n",
      "10389raining: Naive Bayes 1 with taxonomy level 4 and hvr V7 - lasted: 1 minute and 5 seconds\n",
      "10389raining: Naive Bayes 1 with taxonomy level 4 and hvr V8 - lasted: 1 minute and 6 seconds\n",
      "10389raining: Naive Bayes 1 with taxonomy level 4 and hvr V9 - lasted: 1 minute and 7 seconds\n",
      "10389raining: Naive Bayes 1 with taxonomy level 4 and hvr V12 - lasted: 1 minute and 7 seconds\n",
      "10389raining: Naive Bayes 1 with taxonomy level 4 and hvr V23 - lasted: 1 minute and 8 seconds\n",
      "10389raining: Naive Bayes 1 with taxonomy level 4 and hvr V34 - lasted: 1 minute and 9 seconds\n",
      "10389raining: Naive Bayes 1 with taxonomy level 4 and hvr V45 - lasted: 1 minute and 10 seconds\n",
      "10389raining: Naive Bayes 1 with taxonomy level 4 and hvr V56 - lasted: 1 minute and 11 seconds\n",
      "10389raining: Naive Bayes 1 with taxonomy level 4 and hvr V67 - lasted: 1 minute and 12 seconds\n",
      "10389raining: Naive Bayes 1 with taxonomy level 4 and hvr V78 - lasted: 1 minute and 13 seconds\n",
      "10389raining: Naive Bayes 1 with taxonomy level 4 and hvr V89 - lasted: 1 minute and 14 seconds\n",
      "10389raining: Naive Bayes 1 with taxonomy level 4 and hvr sequence - lasted: 1 minute and 14 seconds\n",
      "10389raining: Naive Bayes 1 with taxonomy level 5 and hvr V1 - lasted: 1 minute and 16 seconds\n",
      "10389raining: Naive Bayes 1 with taxonomy level 5 and hvr V2 - lasted: 1 minute and 16 seconds\n",
      "10389raining: Naive Bayes 1 with taxonomy level 5 and hvr V3 - lasted: 1 minute and 17 seconds\n",
      "10389raining: Naive Bayes 1 with taxonomy level 5 and hvr V5 - lasted: 1 minute and 19 seconds\n",
      "10389raining: Naive Bayes 1 with taxonomy level 5 and hvr V6 - lasted: 1 minute and 20 seconds\n",
      "10389raining: Naive Bayes 1 with taxonomy level 5 and hvr V7 - lasted: 1 minute and 22 seconds\n",
      "10389raining: Naive Bayes 1 with taxonomy level 5 and hvr V8 - lasted: 1 minute and 23 seconds\n",
      "10389raining: Naive Bayes 1 with taxonomy level 5 and hvr V9 - lasted: 1 minute and 24 seconds\n",
      "10389raining: Naive Bayes 1 with taxonomy level 5 and hvr V12 - lasted: 1 minute and 25 seconds\n",
      "10389raining: Naive Bayes 1 with taxonomy level 5 and hvr V23 - lasted: 1 minute and 25 seconds\n",
      "10389raining: Naive Bayes 1 with taxonomy level 5 and hvr V34 - lasted: 1 minute and 26 seconds\n",
      "10389raining: Naive Bayes 1 with taxonomy level 5 and hvr V45 - lasted: 1 minute and 28 seconds\n",
      "10389raining: Naive Bayes 1 with taxonomy level 5 and hvr V56 - lasted: 1 minute and 29 seconds\n",
      "10389raining: Naive Bayes 1 with taxonomy level 5 and hvr V67 - lasted: 1 minute and 30 seconds\n",
      "10389raining: Naive Bayes 1 with taxonomy level 5 and hvr V78 - lasted: 1 minute and 31 seconds\n",
      "10389raining: Naive Bayes 1 with taxonomy level 5 and hvr V89 - lasted: 1 minute and 32 seconds\n",
      "10389raining: Naive Bayes 1 with taxonomy level 5 and hvr sequence - lasted: 1 minute and 33 seconds\n",
      "10389raining: Naive Bayes 1 with taxonomy level 6 and hvr V1 - lasted: 1 minute and 35 seconds\n",
      "10389raining: Naive Bayes 1 with taxonomy level 6 and hvr V2 - lasted: 1 minute and 35 seconds\n",
      "10389raining: Naive Bayes 1 with taxonomy level 6 and hvr V3 - lasted: 1 minute and 37 seconds\n",
      "10389raining: Naive Bayes 1 with taxonomy level 6 and hvr V4 - lasted: 1 minute and 38 seconds\n",
      "10389raining: Naive Bayes 1 with taxonomy level 6 and hvr V5 - lasted: 1 minute and 40 seconds\n",
      "10389raining: Naive Bayes 1 with taxonomy level 6 and hvr V6 - lasted: 1 minute and 42 seconds\n",
      "10389raining: Naive Bayes 1 with taxonomy level 6 and hvr V7 - lasted: 1 minute and 43 seconds\n",
      "10389raining: Naive Bayes 1 with taxonomy level 6 and hvr V8 - lasted: 1 minute and 45 seconds\n",
      "10389raining: Naive Bayes 1 with taxonomy level 6 and hvr V9 - lasted: 1 minute and 47 seconds\n",
      "10389raining: Naive Bayes 1 with taxonomy level 6 and hvr V12 - lasted: 1 minute and 47 seconds\n",
      "10389raining: Naive Bayes 1 with taxonomy level 6 and hvr V23 - lasted: 1 minute and 48 seconds\n",
      "10389raining: Naive Bayes 1 with taxonomy level 6 and hvr V34 - lasted: 1 minute and 49 seconds\n",
      "10389raining: Naive Bayes 1 with taxonomy level 6 and hvr V45 - lasted: 1 minute and 51 seconds\n",
      "10389raining: Naive Bayes 1 with taxonomy level 6 and hvr V56 - lasted: 1 minute and 53 seconds\n",
      "10389raining: Naive Bayes 1 with taxonomy level 6 and hvr V67 - lasted: 1 minute and 55 seconds\n",
      "10389raining: Naive Bayes 1 with taxonomy level 6 and hvr V78 - lasted: 1 minute and 56 seconds\n",
      "10389raining: Naive Bayes 1 with taxonomy level 6 and hvr V89 - lasted: 1 minute and 58 seconds\n",
      "10389raining: Naive Bayes 1 with taxonomy level 6 and hvr sequence - lasted: 1 minute and 59 seconds\n",
      "Now training: Naive Bayes 5 with taxonomy level 6 and hvr sequence - lasted: 1 hour, 16 minutes and 11 seconds\r"
     ]
    }
   ],
   "source": [
    "k_list = []\n",
    "begin_time = time.time()\n",
    "for k in range(1,6):\n",
    "    all_results = []\n",
    "    for taxonomy_level in range(7):\n",
    "        for selected_primer in ['V1','V2', 'V3', 'V4', 'V5', 'V6', 'V7', 'V8', 'V9', 'V12', 'V23', 'V34', 'V45', 'V56', 'V67', 'V78', 'V89', 'sequence']:\n",
    "            print('Now training: Naive Bayes {} with taxonomy level {} and hvr {} - lasted: {}'.format(k, taxonomy_level, selected_primer, time_difference_good_format(begin_time, time.time())), end='\\r')\n",
    "            test_size, main_class_prop, accuracy = naive_bayes_k(k=k,sequence_origin='DairyDB', \n",
    "                                                                 primers_origin='DairyDB', \n",
    "                                                                 taxonomy_level=taxonomy_level,\n",
    "                                                                 selected_primer=selected_primer)\n",
    "            all_results.append([selected_primer, taxonomy_level, test_size, main_class_prop, accuracy])\n",
    "    k_list.append(all_results)\n",
    "    k_df = pd.DataFrame(k_list[k-1], columns=['HyperVariable Region','Taxonomy Rank to be classified','Test Size', 'Main Class prop', 'Naive Bayes - NB({})'.format(k)])\n",
    "    k_df.to_csv('results/models/Naive Bayes - NB({}) - DB - DB - accuracies.csv'.format(k), index=False)"
   ]
  },
  {
   "cell_type": "code",
   "execution_count": 8,
   "metadata": {},
   "outputs": [
    {
     "ename": "IndexError",
     "evalue": "list index out of range",
     "output_type": "error",
     "traceback": [
      "\u001b[0;31m---------------------------------------------------------------------------\u001b[0m",
      "\u001b[0;31mIndexError\u001b[0m                                Traceback (most recent call last)",
      "\u001b[0;32m<ipython-input-8-b2a3e2c2b150>\u001b[0m in \u001b[0;36m<module>\u001b[0;34m\u001b[0m\n\u001b[1;32m      3\u001b[0m     \u001b[0mdf_list\u001b[0m\u001b[0;34m.\u001b[0m\u001b[0mappend\u001b[0m\u001b[0;34m(\u001b[0m\u001b[0mpd\u001b[0m\u001b[0;34m.\u001b[0m\u001b[0mDataFrame\u001b[0m\u001b[0;34m(\u001b[0m\u001b[0mk_list\u001b[0m\u001b[0;34m[\u001b[0m\u001b[0mk\u001b[0m\u001b[0;34m]\u001b[0m\u001b[0;34m,\u001b[0m \u001b[0mcolumns\u001b[0m\u001b[0;34m=\u001b[0m\u001b[0;34m[\u001b[0m\u001b[0;34m'HyperVariable Region'\u001b[0m\u001b[0;34m,\u001b[0m\u001b[0;34m'Taxonomy Rank to be classified'\u001b[0m\u001b[0;34m,\u001b[0m\u001b[0;34m'Test Size'\u001b[0m\u001b[0;34m,\u001b[0m \u001b[0;34m'Main Class prop'\u001b[0m\u001b[0;34m,\u001b[0m \u001b[0;34m'Naive Bayes - NB({})'\u001b[0m\u001b[0;34m.\u001b[0m\u001b[0mformat\u001b[0m\u001b[0;34m(\u001b[0m\u001b[0mk\u001b[0m\u001b[0;34m+\u001b[0m\u001b[0;36m1\u001b[0m\u001b[0;34m)\u001b[0m\u001b[0;34m]\u001b[0m\u001b[0;34m)\u001b[0m\u001b[0;34m)\u001b[0m\u001b[0;34m\u001b[0m\u001b[0;34m\u001b[0m\u001b[0m\n\u001b[1;32m      4\u001b[0m \u001b[0;34m\u001b[0m\u001b[0m\n\u001b[0;32m----> 5\u001b[0;31m \u001b[0mfinal_df\u001b[0m \u001b[0;34m=\u001b[0m \u001b[0mpd\u001b[0m\u001b[0;34m.\u001b[0m\u001b[0mmerge\u001b[0m\u001b[0;34m(\u001b[0m\u001b[0mdf_list\u001b[0m\u001b[0;34m[\u001b[0m\u001b[0;36m0\u001b[0m\u001b[0;34m]\u001b[0m\u001b[0;34m,\u001b[0m \u001b[0mdf_list\u001b[0m\u001b[0;34m[\u001b[0m\u001b[0;36m1\u001b[0m\u001b[0;34m]\u001b[0m\u001b[0;34m,\u001b[0m \u001b[0mon\u001b[0m\u001b[0;34m=\u001b[0m\u001b[0;34m[\u001b[0m\u001b[0;34m'HyperVariable Region'\u001b[0m\u001b[0;34m,\u001b[0m\u001b[0;34m'Taxonomy Rank to be classified'\u001b[0m\u001b[0;34m,\u001b[0m\u001b[0;34m'Test Size'\u001b[0m\u001b[0;34m,\u001b[0m \u001b[0;34m'Main Class prop'\u001b[0m\u001b[0;34m]\u001b[0m\u001b[0;34m,\u001b[0m \u001b[0mhow\u001b[0m\u001b[0;34m=\u001b[0m\u001b[0;34m'left'\u001b[0m\u001b[0;34m)\u001b[0m\u001b[0;34m\u001b[0m\u001b[0;34m\u001b[0m\u001b[0m\n\u001b[0m\u001b[1;32m      6\u001b[0m \u001b[0mfinal_df\u001b[0m \u001b[0;34m=\u001b[0m \u001b[0mpd\u001b[0m\u001b[0;34m.\u001b[0m\u001b[0mmerge\u001b[0m\u001b[0;34m(\u001b[0m\u001b[0mfinal_df\u001b[0m\u001b[0;34m,\u001b[0m \u001b[0mdf_list\u001b[0m\u001b[0;34m[\u001b[0m\u001b[0;36m2\u001b[0m\u001b[0;34m]\u001b[0m\u001b[0;34m,\u001b[0m \u001b[0mon\u001b[0m\u001b[0;34m=\u001b[0m\u001b[0;34m[\u001b[0m\u001b[0;34m'HyperVariable Region'\u001b[0m\u001b[0;34m,\u001b[0m\u001b[0;34m'Taxonomy Rank to be classified'\u001b[0m\u001b[0;34m,\u001b[0m\u001b[0;34m'Test Size'\u001b[0m\u001b[0;34m,\u001b[0m \u001b[0;34m'Main Class prop'\u001b[0m\u001b[0;34m]\u001b[0m\u001b[0;34m,\u001b[0m \u001b[0mhow\u001b[0m\u001b[0;34m=\u001b[0m\u001b[0;34m'left'\u001b[0m\u001b[0;34m)\u001b[0m\u001b[0;34m\u001b[0m\u001b[0;34m\u001b[0m\u001b[0m\n\u001b[1;32m      7\u001b[0m \u001b[0mfinal_df\u001b[0m \u001b[0;34m=\u001b[0m \u001b[0mpd\u001b[0m\u001b[0;34m.\u001b[0m\u001b[0mmerge\u001b[0m\u001b[0;34m(\u001b[0m\u001b[0mfinal_df\u001b[0m\u001b[0;34m,\u001b[0m \u001b[0mdf_list\u001b[0m\u001b[0;34m[\u001b[0m\u001b[0;36m3\u001b[0m\u001b[0;34m]\u001b[0m\u001b[0;34m,\u001b[0m \u001b[0mon\u001b[0m\u001b[0;34m=\u001b[0m\u001b[0;34m[\u001b[0m\u001b[0;34m'HyperVariable Region'\u001b[0m\u001b[0;34m,\u001b[0m\u001b[0;34m'Taxonomy Rank to be classified'\u001b[0m\u001b[0;34m,\u001b[0m\u001b[0;34m'Test Size'\u001b[0m\u001b[0;34m,\u001b[0m \u001b[0;34m'Main Class prop'\u001b[0m\u001b[0;34m]\u001b[0m\u001b[0;34m,\u001b[0m \u001b[0mhow\u001b[0m\u001b[0;34m=\u001b[0m\u001b[0;34m'left'\u001b[0m\u001b[0;34m)\u001b[0m\u001b[0;34m\u001b[0m\u001b[0;34m\u001b[0m\u001b[0m\n",
      "\u001b[0;31mIndexError\u001b[0m: list index out of range"
     ]
    }
   ],
   "source": [
    "df_list = []\n",
    "for k in range(len(k_list)):\n",
    "    df_list.append(pd.DataFrame(k_list[k], columns=['HyperVariable Region','Taxonomy Rank to be classified','Test Size', 'Main Class prop', 'Naive Bayes - NB({})'.format(k+1)]))\n",
    "\n",
    "final_df = pd.merge(df_list[0], df_list[1], on=['HyperVariable Region','Taxonomy Rank to be classified','Test Size', 'Main Class prop'], how='left')\n",
    "final_df = pd.merge(final_df, df_list[2], on=['HyperVariable Region','Taxonomy Rank to be classified','Test Size', 'Main Class prop'], how='left')\n",
    "final_df = pd.merge(final_df, df_list[3], on=['HyperVariable Region','Taxonomy Rank to be classified','Test Size', 'Main Class prop'], how='left')\n",
    "final_df = pd.merge(final_df, df_list[4], on=['HyperVariable Region','Taxonomy Rank to be classified','Test Size', 'Main Class prop'], how='left')\n",
    "\n",
    "final_df.to_csv('results/models/Naive Bayes - ALL NB - DB - DB.csv'.format(k), index=False)"
   ]
  },
  {
   "cell_type": "code",
   "execution_count": 10,
   "metadata": {},
   "outputs": [
    {
     "name": "stdout",
     "output_type": "stream",
     "text": [
      "Now training: Naive Bayes 1 with taxonomy level 0 and hvr V1 - lasted: 0 second\r"
     ]
    },
    {
     "ename": "FileNotFoundError",
     "evalue": "[Errno 2] File model_data/126_data/x_train.csv does not exist: 'model_data/126_data/x_train.csv'",
     "output_type": "error",
     "traceback": [
      "\u001b[0;31m---------------------------------------------------------------------------\u001b[0m",
      "\u001b[0;31mFileNotFoundError\u001b[0m                         Traceback (most recent call last)",
      "\u001b[0;32m<ipython-input-10-a18d9271525e>\u001b[0m in \u001b[0;36m<module>\u001b[0;34m\u001b[0m\n\u001b[1;32m      9\u001b[0m                                                                  \u001b[0mprimers_origin\u001b[0m\u001b[0;34m=\u001b[0m\u001b[0;34m'Chaudhary'\u001b[0m\u001b[0;34m,\u001b[0m\u001b[0;34m\u001b[0m\u001b[0;34m\u001b[0m\u001b[0m\n\u001b[1;32m     10\u001b[0m                                                                  \u001b[0mtaxonomy_level\u001b[0m\u001b[0;34m=\u001b[0m\u001b[0mtaxonomy_level\u001b[0m\u001b[0;34m,\u001b[0m\u001b[0;34m\u001b[0m\u001b[0;34m\u001b[0m\u001b[0m\n\u001b[0;32m---> 11\u001b[0;31m                                                                  selected_primer=selected_primer)\n\u001b[0m\u001b[1;32m     12\u001b[0m             \u001b[0mall_results\u001b[0m\u001b[0;34m.\u001b[0m\u001b[0mappend\u001b[0m\u001b[0;34m(\u001b[0m\u001b[0;34m[\u001b[0m\u001b[0mselected_primer\u001b[0m\u001b[0;34m,\u001b[0m \u001b[0mtaxonomy_level\u001b[0m\u001b[0;34m,\u001b[0m \u001b[0mtest_size\u001b[0m\u001b[0;34m,\u001b[0m \u001b[0mmain_class_prop\u001b[0m\u001b[0;34m,\u001b[0m \u001b[0maccuracy\u001b[0m\u001b[0;34m]\u001b[0m\u001b[0;34m)\u001b[0m\u001b[0;34m\u001b[0m\u001b[0;34m\u001b[0m\u001b[0m\n\u001b[1;32m     13\u001b[0m     \u001b[0mk_list\u001b[0m\u001b[0;34m.\u001b[0m\u001b[0mappend\u001b[0m\u001b[0;34m(\u001b[0m\u001b[0mall_results\u001b[0m\u001b[0;34m)\u001b[0m\u001b[0;34m\u001b[0m\u001b[0;34m\u001b[0m\u001b[0m\n",
      "\u001b[0;32m~/personal_project/taxonomic_classification/models/naive_bayes_k.py\u001b[0m in \u001b[0;36mnaive_bayes_k\u001b[0;34m(k, sequence_origin, primers_origin, taxonomy_level, selected_primer, model_preprocessing, test_size)\u001b[0m\n\u001b[1;32m     28\u001b[0m                                                     \u001b[0mprimers_origin\u001b[0m\u001b[0;34m=\u001b[0m\u001b[0mprimers_origin\u001b[0m\u001b[0;34m,\u001b[0m\u001b[0;34m\u001b[0m\u001b[0;34m\u001b[0m\u001b[0m\n\u001b[1;32m     29\u001b[0m                                                     \u001b[0mtaxonomy_level\u001b[0m\u001b[0;34m=\u001b[0m\u001b[0mtaxonomy_level\u001b[0m\u001b[0;34m,\u001b[0m\u001b[0;34m\u001b[0m\u001b[0;34m\u001b[0m\u001b[0m\n\u001b[0;32m---> 30\u001b[0;31m                                                     selected_primer=selected_primer)\n\u001b[0m\u001b[1;32m     31\u001b[0m     \u001b[0mGNB\u001b[0m \u001b[0;34m=\u001b[0m \u001b[0mGaussianNB\u001b[0m\u001b[0;34m(\u001b[0m\u001b[0;34m)\u001b[0m\u001b[0;34m\u001b[0m\u001b[0;34m\u001b[0m\u001b[0m\n\u001b[1;32m     32\u001b[0m     \u001b[0my_pred\u001b[0m \u001b[0;34m=\u001b[0m \u001b[0mGNB\u001b[0m\u001b[0;34m.\u001b[0m\u001b[0mfit\u001b[0m\u001b[0;34m(\u001b[0m\u001b[0mX_train\u001b[0m\u001b[0;34m,\u001b[0m \u001b[0my_train\u001b[0m\u001b[0;34m)\u001b[0m\u001b[0;34m.\u001b[0m\u001b[0mpredict\u001b[0m\u001b[0;34m(\u001b[0m\u001b[0mX_test\u001b[0m\u001b[0;34m)\u001b[0m\u001b[0;34m\u001b[0m\u001b[0;34m\u001b[0m\u001b[0m\n",
      "\u001b[0;32m~/personal_project/taxonomic_classification/models/naive_bayes_k.py\u001b[0m in \u001b[0;36mETL_NB_k_mer\u001b[0;34m(k, sequence_origin, primers_origin, taxonomy_level, selected_primer, test_size)\u001b[0m\n\u001b[1;32m     58\u001b[0m                                                                \u001b[0mtaxonomy_level\u001b[0m\u001b[0;34m=\u001b[0m\u001b[0mtaxonomy_level\u001b[0m\u001b[0;34m,\u001b[0m\u001b[0;34m\u001b[0m\u001b[0;34m\u001b[0m\u001b[0m\n\u001b[1;32m     59\u001b[0m                                                                \u001b[0mselected_primer\u001b[0m\u001b[0;34m=\u001b[0m\u001b[0mselected_primer\u001b[0m\u001b[0;34m,\u001b[0m\u001b[0;34m\u001b[0m\u001b[0;34m\u001b[0m\u001b[0m\n\u001b[0;32m---> 60\u001b[0;31m                                                                test_size=test_size)\n\u001b[0m\u001b[1;32m     61\u001b[0m \u001b[0;34m\u001b[0m\u001b[0m\n\u001b[1;32m     62\u001b[0m     folder_number = get_saved_folder_number(sequence_origin=sequence_origin,\n",
      "\u001b[0;32m~/personal_project/taxonomic_classification/models/loading_model_data.py\u001b[0m in \u001b[0;36mmain_loading_model_data\u001b[0;34m(force_rewrite, test_size, sequence_origin, primers_origin, selected_primer, taxonomy_level)\u001b[0m\n\u001b[1;32m     45\u001b[0m     \u001b[0mfolder_path\u001b[0m \u001b[0;34m=\u001b[0m \u001b[0mmodel_data_folder\u001b[0m \u001b[0;34m+\u001b[0m \u001b[0mfolder_name\u001b[0m\u001b[0;34m\u001b[0m\u001b[0;34m\u001b[0m\u001b[0m\n\u001b[1;32m     46\u001b[0m     \u001b[0;32mif\u001b[0m \u001b[0;32mnot\u001b[0m \u001b[0mforce_rewrite\u001b[0m \u001b[0;32mand\u001b[0m \u001b[0malread_existing_data\u001b[0m\u001b[0;34m:\u001b[0m\u001b[0;34m\u001b[0m\u001b[0;34m\u001b[0m\u001b[0m\n\u001b[0;32m---> 47\u001b[0;31m         \u001b[0mX_train\u001b[0m \u001b[0;34m=\u001b[0m \u001b[0mpd\u001b[0m\u001b[0;34m.\u001b[0m\u001b[0mread_csv\u001b[0m\u001b[0;34m(\u001b[0m\u001b[0mfolder_path\u001b[0m \u001b[0;34m+\u001b[0m \u001b[0;34m'x_train.csv'\u001b[0m\u001b[0;34m)\u001b[0m\u001b[0;34m\u001b[0m\u001b[0;34m\u001b[0m\u001b[0m\n\u001b[0m\u001b[1;32m     48\u001b[0m         \u001b[0mX_test\u001b[0m \u001b[0;34m=\u001b[0m \u001b[0mpd\u001b[0m\u001b[0;34m.\u001b[0m\u001b[0mread_csv\u001b[0m\u001b[0;34m(\u001b[0m\u001b[0mfolder_path\u001b[0m \u001b[0;34m+\u001b[0m \u001b[0;34m'x_test.csv'\u001b[0m\u001b[0;34m)\u001b[0m\u001b[0;34m\u001b[0m\u001b[0;34m\u001b[0m\u001b[0m\n\u001b[1;32m     49\u001b[0m         \u001b[0my_train\u001b[0m \u001b[0;34m=\u001b[0m \u001b[0mpd\u001b[0m\u001b[0;34m.\u001b[0m\u001b[0mread_csv\u001b[0m\u001b[0;34m(\u001b[0m\u001b[0mfolder_path\u001b[0m \u001b[0;34m+\u001b[0m \u001b[0;34m'y_train.csv'\u001b[0m\u001b[0;34m)\u001b[0m\u001b[0;34m\u001b[0m\u001b[0;34m\u001b[0m\u001b[0m\n",
      "\u001b[0;32m/opt/conda/lib/python3.7/site-packages/pandas/io/parsers.py\u001b[0m in \u001b[0;36mparser_f\u001b[0;34m(filepath_or_buffer, sep, delimiter, header, names, index_col, usecols, squeeze, prefix, mangle_dupe_cols, dtype, engine, converters, true_values, false_values, skipinitialspace, skiprows, skipfooter, nrows, na_values, keep_default_na, na_filter, verbose, skip_blank_lines, parse_dates, infer_datetime_format, keep_date_col, date_parser, dayfirst, cache_dates, iterator, chunksize, compression, thousands, decimal, lineterminator, quotechar, quoting, doublequote, escapechar, comment, encoding, dialect, error_bad_lines, warn_bad_lines, delim_whitespace, low_memory, memory_map, float_precision)\u001b[0m\n\u001b[1;32m    674\u001b[0m         )\n\u001b[1;32m    675\u001b[0m \u001b[0;34m\u001b[0m\u001b[0m\n\u001b[0;32m--> 676\u001b[0;31m         \u001b[0;32mreturn\u001b[0m \u001b[0m_read\u001b[0m\u001b[0;34m(\u001b[0m\u001b[0mfilepath_or_buffer\u001b[0m\u001b[0;34m,\u001b[0m \u001b[0mkwds\u001b[0m\u001b[0;34m)\u001b[0m\u001b[0;34m\u001b[0m\u001b[0;34m\u001b[0m\u001b[0m\n\u001b[0m\u001b[1;32m    677\u001b[0m \u001b[0;34m\u001b[0m\u001b[0m\n\u001b[1;32m    678\u001b[0m     \u001b[0mparser_f\u001b[0m\u001b[0;34m.\u001b[0m\u001b[0m__name__\u001b[0m \u001b[0;34m=\u001b[0m \u001b[0mname\u001b[0m\u001b[0;34m\u001b[0m\u001b[0;34m\u001b[0m\u001b[0m\n",
      "\u001b[0;32m/opt/conda/lib/python3.7/site-packages/pandas/io/parsers.py\u001b[0m in \u001b[0;36m_read\u001b[0;34m(filepath_or_buffer, kwds)\u001b[0m\n\u001b[1;32m    446\u001b[0m \u001b[0;34m\u001b[0m\u001b[0m\n\u001b[1;32m    447\u001b[0m     \u001b[0;31m# Create the parser.\u001b[0m\u001b[0;34m\u001b[0m\u001b[0;34m\u001b[0m\u001b[0;34m\u001b[0m\u001b[0m\n\u001b[0;32m--> 448\u001b[0;31m     \u001b[0mparser\u001b[0m \u001b[0;34m=\u001b[0m \u001b[0mTextFileReader\u001b[0m\u001b[0;34m(\u001b[0m\u001b[0mfp_or_buf\u001b[0m\u001b[0;34m,\u001b[0m \u001b[0;34m**\u001b[0m\u001b[0mkwds\u001b[0m\u001b[0;34m)\u001b[0m\u001b[0;34m\u001b[0m\u001b[0;34m\u001b[0m\u001b[0m\n\u001b[0m\u001b[1;32m    449\u001b[0m \u001b[0;34m\u001b[0m\u001b[0m\n\u001b[1;32m    450\u001b[0m     \u001b[0;32mif\u001b[0m \u001b[0mchunksize\u001b[0m \u001b[0;32mor\u001b[0m \u001b[0miterator\u001b[0m\u001b[0;34m:\u001b[0m\u001b[0;34m\u001b[0m\u001b[0;34m\u001b[0m\u001b[0m\n",
      "\u001b[0;32m/opt/conda/lib/python3.7/site-packages/pandas/io/parsers.py\u001b[0m in \u001b[0;36m__init__\u001b[0;34m(self, f, engine, **kwds)\u001b[0m\n\u001b[1;32m    878\u001b[0m             \u001b[0mself\u001b[0m\u001b[0;34m.\u001b[0m\u001b[0moptions\u001b[0m\u001b[0;34m[\u001b[0m\u001b[0;34m\"has_index_names\"\u001b[0m\u001b[0;34m]\u001b[0m \u001b[0;34m=\u001b[0m \u001b[0mkwds\u001b[0m\u001b[0;34m[\u001b[0m\u001b[0;34m\"has_index_names\"\u001b[0m\u001b[0;34m]\u001b[0m\u001b[0;34m\u001b[0m\u001b[0;34m\u001b[0m\u001b[0m\n\u001b[1;32m    879\u001b[0m \u001b[0;34m\u001b[0m\u001b[0m\n\u001b[0;32m--> 880\u001b[0;31m         \u001b[0mself\u001b[0m\u001b[0;34m.\u001b[0m\u001b[0m_make_engine\u001b[0m\u001b[0;34m(\u001b[0m\u001b[0mself\u001b[0m\u001b[0;34m.\u001b[0m\u001b[0mengine\u001b[0m\u001b[0;34m)\u001b[0m\u001b[0;34m\u001b[0m\u001b[0;34m\u001b[0m\u001b[0m\n\u001b[0m\u001b[1;32m    881\u001b[0m \u001b[0;34m\u001b[0m\u001b[0m\n\u001b[1;32m    882\u001b[0m     \u001b[0;32mdef\u001b[0m \u001b[0mclose\u001b[0m\u001b[0;34m(\u001b[0m\u001b[0mself\u001b[0m\u001b[0;34m)\u001b[0m\u001b[0;34m:\u001b[0m\u001b[0;34m\u001b[0m\u001b[0;34m\u001b[0m\u001b[0m\n",
      "\u001b[0;32m/opt/conda/lib/python3.7/site-packages/pandas/io/parsers.py\u001b[0m in \u001b[0;36m_make_engine\u001b[0;34m(self, engine)\u001b[0m\n\u001b[1;32m   1112\u001b[0m     \u001b[0;32mdef\u001b[0m \u001b[0m_make_engine\u001b[0m\u001b[0;34m(\u001b[0m\u001b[0mself\u001b[0m\u001b[0;34m,\u001b[0m \u001b[0mengine\u001b[0m\u001b[0;34m=\u001b[0m\u001b[0;34m\"c\"\u001b[0m\u001b[0;34m)\u001b[0m\u001b[0;34m:\u001b[0m\u001b[0;34m\u001b[0m\u001b[0;34m\u001b[0m\u001b[0m\n\u001b[1;32m   1113\u001b[0m         \u001b[0;32mif\u001b[0m \u001b[0mengine\u001b[0m \u001b[0;34m==\u001b[0m \u001b[0;34m\"c\"\u001b[0m\u001b[0;34m:\u001b[0m\u001b[0;34m\u001b[0m\u001b[0;34m\u001b[0m\u001b[0m\n\u001b[0;32m-> 1114\u001b[0;31m             \u001b[0mself\u001b[0m\u001b[0;34m.\u001b[0m\u001b[0m_engine\u001b[0m \u001b[0;34m=\u001b[0m \u001b[0mCParserWrapper\u001b[0m\u001b[0;34m(\u001b[0m\u001b[0mself\u001b[0m\u001b[0;34m.\u001b[0m\u001b[0mf\u001b[0m\u001b[0;34m,\u001b[0m \u001b[0;34m**\u001b[0m\u001b[0mself\u001b[0m\u001b[0;34m.\u001b[0m\u001b[0moptions\u001b[0m\u001b[0;34m)\u001b[0m\u001b[0;34m\u001b[0m\u001b[0;34m\u001b[0m\u001b[0m\n\u001b[0m\u001b[1;32m   1115\u001b[0m         \u001b[0;32melse\u001b[0m\u001b[0;34m:\u001b[0m\u001b[0;34m\u001b[0m\u001b[0;34m\u001b[0m\u001b[0m\n\u001b[1;32m   1116\u001b[0m             \u001b[0;32mif\u001b[0m \u001b[0mengine\u001b[0m \u001b[0;34m==\u001b[0m \u001b[0;34m\"python\"\u001b[0m\u001b[0;34m:\u001b[0m\u001b[0;34m\u001b[0m\u001b[0;34m\u001b[0m\u001b[0m\n",
      "\u001b[0;32m/opt/conda/lib/python3.7/site-packages/pandas/io/parsers.py\u001b[0m in \u001b[0;36m__init__\u001b[0;34m(self, src, **kwds)\u001b[0m\n\u001b[1;32m   1889\u001b[0m         \u001b[0mkwds\u001b[0m\u001b[0;34m[\u001b[0m\u001b[0;34m\"usecols\"\u001b[0m\u001b[0;34m]\u001b[0m \u001b[0;34m=\u001b[0m \u001b[0mself\u001b[0m\u001b[0;34m.\u001b[0m\u001b[0musecols\u001b[0m\u001b[0;34m\u001b[0m\u001b[0;34m\u001b[0m\u001b[0m\n\u001b[1;32m   1890\u001b[0m \u001b[0;34m\u001b[0m\u001b[0m\n\u001b[0;32m-> 1891\u001b[0;31m         \u001b[0mself\u001b[0m\u001b[0;34m.\u001b[0m\u001b[0m_reader\u001b[0m \u001b[0;34m=\u001b[0m \u001b[0mparsers\u001b[0m\u001b[0;34m.\u001b[0m\u001b[0mTextReader\u001b[0m\u001b[0;34m(\u001b[0m\u001b[0msrc\u001b[0m\u001b[0;34m,\u001b[0m \u001b[0;34m**\u001b[0m\u001b[0mkwds\u001b[0m\u001b[0;34m)\u001b[0m\u001b[0;34m\u001b[0m\u001b[0;34m\u001b[0m\u001b[0m\n\u001b[0m\u001b[1;32m   1892\u001b[0m         \u001b[0mself\u001b[0m\u001b[0;34m.\u001b[0m\u001b[0munnamed_cols\u001b[0m \u001b[0;34m=\u001b[0m \u001b[0mself\u001b[0m\u001b[0;34m.\u001b[0m\u001b[0m_reader\u001b[0m\u001b[0;34m.\u001b[0m\u001b[0munnamed_cols\u001b[0m\u001b[0;34m\u001b[0m\u001b[0;34m\u001b[0m\u001b[0m\n\u001b[1;32m   1893\u001b[0m \u001b[0;34m\u001b[0m\u001b[0m\n",
      "\u001b[0;32mpandas/_libs/parsers.pyx\u001b[0m in \u001b[0;36mpandas._libs.parsers.TextReader.__cinit__\u001b[0;34m()\u001b[0m\n",
      "\u001b[0;32mpandas/_libs/parsers.pyx\u001b[0m in \u001b[0;36mpandas._libs.parsers.TextReader._setup_parser_source\u001b[0;34m()\u001b[0m\n",
      "\u001b[0;31mFileNotFoundError\u001b[0m: [Errno 2] File model_data/126_data/x_train.csv does not exist: 'model_data/126_data/x_train.csv'"
     ]
    }
   ],
   "source": [
    "k_list = []\n",
    "begin_time = time.time()\n",
    "for k in range(1,6):\n",
    "    all_results = []\n",
    "    for taxonomy_level in range(7):\n",
    "        for selected_primer in ['V1','V2', 'V3', 'V4', 'V5', 'V6', 'V7', 'V8', 'V9', 'V12', 'V23', 'V34', 'V45', 'V56', 'V67', 'V78', 'V89', 'sequence']:\n",
    "            print('Now training: Naive Bayes {} with taxonomy level {} and hvr {} - lasted: {}'.format(k, taxonomy_level, selected_primer, time_difference_good_format(begin_time, time.time())), end='\\r')\n",
    "            test_size, main_class_prop, accuracy = naive_bayes_k(k=k,sequence_origin='DairyDB', \n",
    "                                                                 primers_origin='Chaudhary', \n",
    "                                                                 taxonomy_level=taxonomy_level,\n",
    "                                                                 selected_primer=selected_primer)\n",
    "            all_results.append([selected_primer, taxonomy_level, test_size, main_class_prop, accuracy])\n",
    "    k_list.append(all_results)\n",
    "    k_df = pd.DataFrame(k_list[k-1], columns=['HyperVariable Region','Taxonomy Rank to be classified','Test Size', 'Main Class prop', 'Naive Bayes - NB({})'.format(k)])\n",
    "    k_df.to_csv('results/models/Naive Bayes - NB({}) - DB - DB - accuracies.csv'.format(k), index=False)"
   ]
  },
  {
   "cell_type": "code",
   "execution_count": 11,
   "metadata": {},
   "outputs": [],
   "source": [
    "loaded_data_parameters = pd.read_csv('model_data/loaded_data_parameters.csv')"
   ]
  },
  {
   "cell_type": "code",
   "execution_count": 13,
   "metadata": {},
   "outputs": [],
   "source": [
    "loaded_data_parameters = loaded_data_parameters[0:126]"
   ]
  },
  {
   "cell_type": "code",
   "execution_count": 15,
   "metadata": {},
   "outputs": [],
   "source": [
    "loaded_data_parameters.to_csv('model_data/loaded_data_parameters.csv', index=False)"
   ]
  },
  {
   "cell_type": "code",
   "execution_count": null,
   "metadata": {},
   "outputs": [],
   "source": [
    "df_list = []\n",
    "for k in range(len(k_list)):\n",
    "    df_list.append(pd.DataFrame(k_list[k], columns=['HyperVariable Region','Taxonomy Rank to be classified','Test Size', 'Main Class prop', 'Naive Bayes - NB({})'.format(k+1)]))\n",
    "\n",
    "final_df = pd.merge(df_list[0], df_list[1], on=['HyperVariable Region','Taxonomy Rank to be classified','Test Size', 'Main Class prop'], how='left')\n",
    "final_df = pd.merge(final_df, df_list[2], on=['HyperVariable Region','Taxonomy Rank to be classified','Test Size', 'Main Class prop'], how='left')\n",
    "final_df = pd.merge(final_df, df_list[3], on=['HyperVariable Region','Taxonomy Rank to be classified','Test Size', 'Main Class prop'], how='left')\n",
    "final_df = pd.merge(final_df, df_list[4], on=['HyperVariable Region','Taxonomy Rank to be classified','Test Size', 'Main Class prop'], how='left')\n",
    "\n",
    "final_df.to_csv('results/models/Naive Bayes - ALL NB - DB - CH.csv'.format(k), index=False)"
   ]
  },
  {
   "cell_type": "code",
   "execution_count": null,
   "metadata": {},
   "outputs": [],
   "source": [
    "taxonomy_level = 5\n",
    "selected_primer = 'V4'"
   ]
  },
  {
   "cell_type": "code",
   "execution_count": 16,
   "metadata": {},
   "outputs": [
    {
     "name": "stdout",
     "output_type": "stream",
     "text": [
      "10389raining: Naive Bayes 1 with taxonomy level 0 and hvr V1 - lasted: 0 second\n"
     ]
    },
    {
     "ename": "FileNotFoundError",
     "evalue": "[Errno 2] File data/hvr_DB_sequences_CH_primers.csv does not exist: 'data/hvr_DB_sequences_CH_primers.csv'",
     "output_type": "error",
     "traceback": [
      "\u001b[0;31m---------------------------------------------------------------------------\u001b[0m",
      "\u001b[0;31mFileNotFoundError\u001b[0m                         Traceback (most recent call last)",
      "\u001b[0;32m<ipython-input-16-d6c56d744b48>\u001b[0m in \u001b[0;36m<module>\u001b[0;34m\u001b[0m\n\u001b[1;32m      7\u001b[0m                                                          \u001b[0mprimers_origin\u001b[0m\u001b[0;34m=\u001b[0m\u001b[0;34m'Chaudhary'\u001b[0m\u001b[0;34m,\u001b[0m\u001b[0;34m\u001b[0m\u001b[0;34m\u001b[0m\u001b[0m\n\u001b[1;32m      8\u001b[0m                                                          \u001b[0mtaxonomy_level\u001b[0m\u001b[0;34m=\u001b[0m\u001b[0mtaxonomy_level\u001b[0m\u001b[0;34m,\u001b[0m\u001b[0;34m\u001b[0m\u001b[0;34m\u001b[0m\u001b[0m\n\u001b[0;32m----> 9\u001b[0;31m                                                          selected_primer=selected_primer)\n\u001b[0m\u001b[1;32m     10\u001b[0m     \u001b[0mall_results\u001b[0m\u001b[0;34m.\u001b[0m\u001b[0mappend\u001b[0m\u001b[0;34m(\u001b[0m\u001b[0;34m[\u001b[0m\u001b[0mselected_primer\u001b[0m\u001b[0;34m,\u001b[0m \u001b[0mtaxonomy_level\u001b[0m\u001b[0;34m,\u001b[0m \u001b[0mtest_size\u001b[0m\u001b[0;34m,\u001b[0m \u001b[0mmain_class_prop\u001b[0m\u001b[0;34m,\u001b[0m \u001b[0mk\u001b[0m\u001b[0;34m,\u001b[0m \u001b[0maccuracy\u001b[0m\u001b[0;34m]\u001b[0m\u001b[0;34m)\u001b[0m\u001b[0;34m\u001b[0m\u001b[0;34m\u001b[0m\u001b[0m\n\u001b[1;32m     11\u001b[0m \u001b[0mall_results_df\u001b[0m \u001b[0;34m=\u001b[0m \u001b[0mpd\u001b[0m\u001b[0;34m.\u001b[0m\u001b[0mDataFrame\u001b[0m\u001b[0;34m(\u001b[0m\u001b[0mall_results\u001b[0m\u001b[0;34m,\u001b[0m \u001b[0mcolumns\u001b[0m\u001b[0;34m=\u001b[0m\u001b[0;34m[\u001b[0m\u001b[0;34m'HyperVariable Region'\u001b[0m\u001b[0;34m,\u001b[0m\u001b[0;34m'Taxonomy Rank to be classified'\u001b[0m\u001b[0;34m,\u001b[0m\u001b[0;34m'Test Size'\u001b[0m\u001b[0;34m,\u001b[0m \u001b[0;34m'Main Class prop'\u001b[0m\u001b[0;34m,\u001b[0m \u001b[0;34m'k'\u001b[0m\u001b[0;34m,\u001b[0m \u001b[0;34m'Accuracy'\u001b[0m\u001b[0;34m]\u001b[0m\u001b[0;34m)\u001b[0m\u001b[0;34m\u001b[0m\u001b[0;34m\u001b[0m\u001b[0m\n",
      "\u001b[0;32m~/personal_project/taxonomic_classification/models/naive_bayes_k.py\u001b[0m in \u001b[0;36mnaive_bayes_k\u001b[0;34m(k, sequence_origin, primers_origin, taxonomy_level, selected_primer, model_preprocessing, test_size)\u001b[0m\n\u001b[1;32m     28\u001b[0m                                                     \u001b[0mprimers_origin\u001b[0m\u001b[0;34m=\u001b[0m\u001b[0mprimers_origin\u001b[0m\u001b[0;34m,\u001b[0m\u001b[0;34m\u001b[0m\u001b[0;34m\u001b[0m\u001b[0m\n\u001b[1;32m     29\u001b[0m                                                     \u001b[0mtaxonomy_level\u001b[0m\u001b[0;34m=\u001b[0m\u001b[0mtaxonomy_level\u001b[0m\u001b[0;34m,\u001b[0m\u001b[0;34m\u001b[0m\u001b[0;34m\u001b[0m\u001b[0m\n\u001b[0;32m---> 30\u001b[0;31m                                                     selected_primer=selected_primer)\n\u001b[0m\u001b[1;32m     31\u001b[0m     \u001b[0mGNB\u001b[0m \u001b[0;34m=\u001b[0m \u001b[0mGaussianNB\u001b[0m\u001b[0;34m(\u001b[0m\u001b[0;34m)\u001b[0m\u001b[0;34m\u001b[0m\u001b[0;34m\u001b[0m\u001b[0m\n\u001b[1;32m     32\u001b[0m     \u001b[0my_pred\u001b[0m \u001b[0;34m=\u001b[0m \u001b[0mGNB\u001b[0m\u001b[0;34m.\u001b[0m\u001b[0mfit\u001b[0m\u001b[0;34m(\u001b[0m\u001b[0mX_train\u001b[0m\u001b[0;34m,\u001b[0m \u001b[0my_train\u001b[0m\u001b[0;34m)\u001b[0m\u001b[0;34m.\u001b[0m\u001b[0mpredict\u001b[0m\u001b[0;34m(\u001b[0m\u001b[0mX_test\u001b[0m\u001b[0;34m)\u001b[0m\u001b[0;34m\u001b[0m\u001b[0;34m\u001b[0m\u001b[0m\n",
      "\u001b[0;32m~/personal_project/taxonomic_classification/models/naive_bayes_k.py\u001b[0m in \u001b[0;36mETL_NB_k_mer\u001b[0;34m(k, sequence_origin, primers_origin, taxonomy_level, selected_primer, test_size)\u001b[0m\n\u001b[1;32m     58\u001b[0m                                                                \u001b[0mtaxonomy_level\u001b[0m\u001b[0;34m=\u001b[0m\u001b[0mtaxonomy_level\u001b[0m\u001b[0;34m,\u001b[0m\u001b[0;34m\u001b[0m\u001b[0;34m\u001b[0m\u001b[0m\n\u001b[1;32m     59\u001b[0m                                                                \u001b[0mselected_primer\u001b[0m\u001b[0;34m=\u001b[0m\u001b[0mselected_primer\u001b[0m\u001b[0;34m,\u001b[0m\u001b[0;34m\u001b[0m\u001b[0;34m\u001b[0m\u001b[0m\n\u001b[0;32m---> 60\u001b[0;31m                                                                test_size=test_size)\n\u001b[0m\u001b[1;32m     61\u001b[0m \u001b[0;34m\u001b[0m\u001b[0m\n\u001b[1;32m     62\u001b[0m     folder_number = get_saved_folder_number(sequence_origin=sequence_origin,\n",
      "\u001b[0;32m~/personal_project/taxonomic_classification/models/loading_model_data.py\u001b[0m in \u001b[0;36mmain_loading_model_data\u001b[0;34m(force_rewrite, test_size, sequence_origin, primers_origin, selected_primer, taxonomy_level)\u001b[0m\n\u001b[1;32m     52\u001b[0m         \u001b[0msequence_df\u001b[0m \u001b[0;34m=\u001b[0m \u001b[0mmain_sequence_loading\u001b[0m\u001b[0;34m(\u001b[0m\u001b[0mdesired_df\u001b[0m\u001b[0;34m=\u001b[0m\u001b[0msequence_origin\u001b[0m\u001b[0;34m)\u001b[0m\u001b[0;34m\u001b[0m\u001b[0;34m\u001b[0m\u001b[0m\n\u001b[1;32m     53\u001b[0m         \u001b[0mprint\u001b[0m\u001b[0;34m(\u001b[0m\u001b[0mlen\u001b[0m\u001b[0;34m(\u001b[0m\u001b[0msequence_df\u001b[0m\u001b[0;34m)\u001b[0m\u001b[0;34m)\u001b[0m \u001b[0;31m# TODO REMOVE\u001b[0m\u001b[0;34m\u001b[0m\u001b[0;34m\u001b[0m\u001b[0m\n\u001b[0;32m---> 54\u001b[0;31m         \u001b[0mhvr_df\u001b[0m \u001b[0;34m=\u001b[0m \u001b[0mmain_hvr_loading\u001b[0m\u001b[0;34m(\u001b[0m\u001b[0mdesired_sequences\u001b[0m\u001b[0;34m=\u001b[0m\u001b[0msequence_origin\u001b[0m\u001b[0;34m,\u001b[0m \u001b[0mdesired_primers\u001b[0m\u001b[0;34m=\u001b[0m\u001b[0mprimers_origin\u001b[0m\u001b[0;34m)\u001b[0m\u001b[0;34m\u001b[0m\u001b[0;34m\u001b[0m\u001b[0m\n\u001b[0m\u001b[1;32m     55\u001b[0m         \u001b[0mhvr_columns\u001b[0m \u001b[0;34m=\u001b[0m \u001b[0mhvr_df\u001b[0m\u001b[0;34m.\u001b[0m\u001b[0mcolumns\u001b[0m\u001b[0;34m[\u001b[0m\u001b[0;36m1\u001b[0m\u001b[0;34m:\u001b[0m\u001b[0;34m]\u001b[0m\u001b[0;34m\u001b[0m\u001b[0;34m\u001b[0m\u001b[0m\n\u001b[1;32m     56\u001b[0m \u001b[0;34m\u001b[0m\u001b[0m\n",
      "\u001b[0;32m~/personal_project/taxonomic_classification/processings/hvr_loading/main_hvr_loading.py\u001b[0m in \u001b[0;36mmain_hvr_loading\u001b[0;34m(desired_sequences, desired_primers)\u001b[0m\n\u001b[1;32m     26\u001b[0m     \u001b[0;32melif\u001b[0m \u001b[0mdesired_primers\u001b[0m \u001b[0;34m==\u001b[0m \u001b[0;34m'Chaudhary'\u001b[0m\u001b[0;34m:\u001b[0m\u001b[0;34m\u001b[0m\u001b[0;34m\u001b[0m\u001b[0m\n\u001b[1;32m     27\u001b[0m         \u001b[0;32mif\u001b[0m \u001b[0mdesired_sequences\u001b[0m \u001b[0;34m==\u001b[0m \u001b[0;34m'DairyDB'\u001b[0m\u001b[0;34m:\u001b[0m\u001b[0;34m\u001b[0m\u001b[0;34m\u001b[0m\u001b[0m\n\u001b[0;32m---> 28\u001b[0;31m             \u001b[0mhvr_df\u001b[0m \u001b[0;34m=\u001b[0m \u001b[0mpd\u001b[0m\u001b[0;34m.\u001b[0m\u001b[0mread_csv\u001b[0m\u001b[0;34m(\u001b[0m\u001b[0mfolder_paths\u001b[0m\u001b[0;34m[\u001b[0m\u001b[0;34m'data'\u001b[0m\u001b[0;34m]\u001b[0m \u001b[0;34m+\u001b[0m \u001b[0;34m'hvr_DB_sequences_CH_primers.csv'\u001b[0m\u001b[0;34m)\u001b[0m\u001b[0;34m\u001b[0m\u001b[0;34m\u001b[0m\u001b[0m\n\u001b[0m\u001b[1;32m     29\u001b[0m         \u001b[0;32melif\u001b[0m \u001b[0mdesired_sequences\u001b[0m \u001b[0;34m==\u001b[0m \u001b[0;34m'GreenGenes'\u001b[0m\u001b[0;34m:\u001b[0m\u001b[0;34m\u001b[0m\u001b[0;34m\u001b[0m\u001b[0m\n\u001b[1;32m     30\u001b[0m             \u001b[0mhvr_df\u001b[0m \u001b[0;34m=\u001b[0m \u001b[0mpd\u001b[0m\u001b[0;34m.\u001b[0m\u001b[0mread_csv\u001b[0m\u001b[0;34m(\u001b[0m\u001b[0mfolder_paths\u001b[0m\u001b[0;34m[\u001b[0m\u001b[0;34m'data'\u001b[0m\u001b[0;34m]\u001b[0m \u001b[0;34m+\u001b[0m \u001b[0;34m'hvr_GG_sequences_CH_primers.csv'\u001b[0m\u001b[0;34m)\u001b[0m\u001b[0;34m\u001b[0m\u001b[0;34m\u001b[0m\u001b[0m\n",
      "\u001b[0;32m/opt/conda/lib/python3.7/site-packages/pandas/io/parsers.py\u001b[0m in \u001b[0;36mparser_f\u001b[0;34m(filepath_or_buffer, sep, delimiter, header, names, index_col, usecols, squeeze, prefix, mangle_dupe_cols, dtype, engine, converters, true_values, false_values, skipinitialspace, skiprows, skipfooter, nrows, na_values, keep_default_na, na_filter, verbose, skip_blank_lines, parse_dates, infer_datetime_format, keep_date_col, date_parser, dayfirst, cache_dates, iterator, chunksize, compression, thousands, decimal, lineterminator, quotechar, quoting, doublequote, escapechar, comment, encoding, dialect, error_bad_lines, warn_bad_lines, delim_whitespace, low_memory, memory_map, float_precision)\u001b[0m\n\u001b[1;32m    674\u001b[0m         )\n\u001b[1;32m    675\u001b[0m \u001b[0;34m\u001b[0m\u001b[0m\n\u001b[0;32m--> 676\u001b[0;31m         \u001b[0;32mreturn\u001b[0m \u001b[0m_read\u001b[0m\u001b[0;34m(\u001b[0m\u001b[0mfilepath_or_buffer\u001b[0m\u001b[0;34m,\u001b[0m \u001b[0mkwds\u001b[0m\u001b[0;34m)\u001b[0m\u001b[0;34m\u001b[0m\u001b[0;34m\u001b[0m\u001b[0m\n\u001b[0m\u001b[1;32m    677\u001b[0m \u001b[0;34m\u001b[0m\u001b[0m\n\u001b[1;32m    678\u001b[0m     \u001b[0mparser_f\u001b[0m\u001b[0;34m.\u001b[0m\u001b[0m__name__\u001b[0m \u001b[0;34m=\u001b[0m \u001b[0mname\u001b[0m\u001b[0;34m\u001b[0m\u001b[0;34m\u001b[0m\u001b[0m\n",
      "\u001b[0;32m/opt/conda/lib/python3.7/site-packages/pandas/io/parsers.py\u001b[0m in \u001b[0;36m_read\u001b[0;34m(filepath_or_buffer, kwds)\u001b[0m\n\u001b[1;32m    446\u001b[0m \u001b[0;34m\u001b[0m\u001b[0m\n\u001b[1;32m    447\u001b[0m     \u001b[0;31m# Create the parser.\u001b[0m\u001b[0;34m\u001b[0m\u001b[0;34m\u001b[0m\u001b[0;34m\u001b[0m\u001b[0m\n\u001b[0;32m--> 448\u001b[0;31m     \u001b[0mparser\u001b[0m \u001b[0;34m=\u001b[0m \u001b[0mTextFileReader\u001b[0m\u001b[0;34m(\u001b[0m\u001b[0mfp_or_buf\u001b[0m\u001b[0;34m,\u001b[0m \u001b[0;34m**\u001b[0m\u001b[0mkwds\u001b[0m\u001b[0;34m)\u001b[0m\u001b[0;34m\u001b[0m\u001b[0;34m\u001b[0m\u001b[0m\n\u001b[0m\u001b[1;32m    449\u001b[0m \u001b[0;34m\u001b[0m\u001b[0m\n\u001b[1;32m    450\u001b[0m     \u001b[0;32mif\u001b[0m \u001b[0mchunksize\u001b[0m \u001b[0;32mor\u001b[0m \u001b[0miterator\u001b[0m\u001b[0;34m:\u001b[0m\u001b[0;34m\u001b[0m\u001b[0;34m\u001b[0m\u001b[0m\n",
      "\u001b[0;32m/opt/conda/lib/python3.7/site-packages/pandas/io/parsers.py\u001b[0m in \u001b[0;36m__init__\u001b[0;34m(self, f, engine, **kwds)\u001b[0m\n\u001b[1;32m    878\u001b[0m             \u001b[0mself\u001b[0m\u001b[0;34m.\u001b[0m\u001b[0moptions\u001b[0m\u001b[0;34m[\u001b[0m\u001b[0;34m\"has_index_names\"\u001b[0m\u001b[0;34m]\u001b[0m \u001b[0;34m=\u001b[0m \u001b[0mkwds\u001b[0m\u001b[0;34m[\u001b[0m\u001b[0;34m\"has_index_names\"\u001b[0m\u001b[0;34m]\u001b[0m\u001b[0;34m\u001b[0m\u001b[0;34m\u001b[0m\u001b[0m\n\u001b[1;32m    879\u001b[0m \u001b[0;34m\u001b[0m\u001b[0m\n\u001b[0;32m--> 880\u001b[0;31m         \u001b[0mself\u001b[0m\u001b[0;34m.\u001b[0m\u001b[0m_make_engine\u001b[0m\u001b[0;34m(\u001b[0m\u001b[0mself\u001b[0m\u001b[0;34m.\u001b[0m\u001b[0mengine\u001b[0m\u001b[0;34m)\u001b[0m\u001b[0;34m\u001b[0m\u001b[0;34m\u001b[0m\u001b[0m\n\u001b[0m\u001b[1;32m    881\u001b[0m \u001b[0;34m\u001b[0m\u001b[0m\n\u001b[1;32m    882\u001b[0m     \u001b[0;32mdef\u001b[0m \u001b[0mclose\u001b[0m\u001b[0;34m(\u001b[0m\u001b[0mself\u001b[0m\u001b[0;34m)\u001b[0m\u001b[0;34m:\u001b[0m\u001b[0;34m\u001b[0m\u001b[0;34m\u001b[0m\u001b[0m\n",
      "\u001b[0;32m/opt/conda/lib/python3.7/site-packages/pandas/io/parsers.py\u001b[0m in \u001b[0;36m_make_engine\u001b[0;34m(self, engine)\u001b[0m\n\u001b[1;32m   1112\u001b[0m     \u001b[0;32mdef\u001b[0m \u001b[0m_make_engine\u001b[0m\u001b[0;34m(\u001b[0m\u001b[0mself\u001b[0m\u001b[0;34m,\u001b[0m \u001b[0mengine\u001b[0m\u001b[0;34m=\u001b[0m\u001b[0;34m\"c\"\u001b[0m\u001b[0;34m)\u001b[0m\u001b[0;34m:\u001b[0m\u001b[0;34m\u001b[0m\u001b[0;34m\u001b[0m\u001b[0m\n\u001b[1;32m   1113\u001b[0m         \u001b[0;32mif\u001b[0m \u001b[0mengine\u001b[0m \u001b[0;34m==\u001b[0m \u001b[0;34m\"c\"\u001b[0m\u001b[0;34m:\u001b[0m\u001b[0;34m\u001b[0m\u001b[0;34m\u001b[0m\u001b[0m\n\u001b[0;32m-> 1114\u001b[0;31m             \u001b[0mself\u001b[0m\u001b[0;34m.\u001b[0m\u001b[0m_engine\u001b[0m \u001b[0;34m=\u001b[0m \u001b[0mCParserWrapper\u001b[0m\u001b[0;34m(\u001b[0m\u001b[0mself\u001b[0m\u001b[0;34m.\u001b[0m\u001b[0mf\u001b[0m\u001b[0;34m,\u001b[0m \u001b[0;34m**\u001b[0m\u001b[0mself\u001b[0m\u001b[0;34m.\u001b[0m\u001b[0moptions\u001b[0m\u001b[0;34m)\u001b[0m\u001b[0;34m\u001b[0m\u001b[0;34m\u001b[0m\u001b[0m\n\u001b[0m\u001b[1;32m   1115\u001b[0m         \u001b[0;32melse\u001b[0m\u001b[0;34m:\u001b[0m\u001b[0;34m\u001b[0m\u001b[0;34m\u001b[0m\u001b[0m\n\u001b[1;32m   1116\u001b[0m             \u001b[0;32mif\u001b[0m \u001b[0mengine\u001b[0m \u001b[0;34m==\u001b[0m \u001b[0;34m\"python\"\u001b[0m\u001b[0;34m:\u001b[0m\u001b[0;34m\u001b[0m\u001b[0;34m\u001b[0m\u001b[0m\n",
      "\u001b[0;32m/opt/conda/lib/python3.7/site-packages/pandas/io/parsers.py\u001b[0m in \u001b[0;36m__init__\u001b[0;34m(self, src, **kwds)\u001b[0m\n\u001b[1;32m   1889\u001b[0m         \u001b[0mkwds\u001b[0m\u001b[0;34m[\u001b[0m\u001b[0;34m\"usecols\"\u001b[0m\u001b[0;34m]\u001b[0m \u001b[0;34m=\u001b[0m \u001b[0mself\u001b[0m\u001b[0;34m.\u001b[0m\u001b[0musecols\u001b[0m\u001b[0;34m\u001b[0m\u001b[0;34m\u001b[0m\u001b[0m\n\u001b[1;32m   1890\u001b[0m \u001b[0;34m\u001b[0m\u001b[0m\n\u001b[0;32m-> 1891\u001b[0;31m         \u001b[0mself\u001b[0m\u001b[0;34m.\u001b[0m\u001b[0m_reader\u001b[0m \u001b[0;34m=\u001b[0m \u001b[0mparsers\u001b[0m\u001b[0;34m.\u001b[0m\u001b[0mTextReader\u001b[0m\u001b[0;34m(\u001b[0m\u001b[0msrc\u001b[0m\u001b[0;34m,\u001b[0m \u001b[0;34m**\u001b[0m\u001b[0mkwds\u001b[0m\u001b[0;34m)\u001b[0m\u001b[0;34m\u001b[0m\u001b[0;34m\u001b[0m\u001b[0m\n\u001b[0m\u001b[1;32m   1892\u001b[0m         \u001b[0mself\u001b[0m\u001b[0;34m.\u001b[0m\u001b[0munnamed_cols\u001b[0m \u001b[0;34m=\u001b[0m \u001b[0mself\u001b[0m\u001b[0;34m.\u001b[0m\u001b[0m_reader\u001b[0m\u001b[0;34m.\u001b[0m\u001b[0munnamed_cols\u001b[0m\u001b[0;34m\u001b[0m\u001b[0;34m\u001b[0m\u001b[0m\n\u001b[1;32m   1893\u001b[0m \u001b[0;34m\u001b[0m\u001b[0m\n",
      "\u001b[0;32mpandas/_libs/parsers.pyx\u001b[0m in \u001b[0;36mpandas._libs.parsers.TextReader.__cinit__\u001b[0;34m()\u001b[0m\n",
      "\u001b[0;32mpandas/_libs/parsers.pyx\u001b[0m in \u001b[0;36mpandas._libs.parsers.TextReader._setup_parser_source\u001b[0;34m()\u001b[0m\n",
      "\u001b[0;31mFileNotFoundError\u001b[0m: [Errno 2] File data/hvr_DB_sequences_CH_primers.csv does not exist: 'data/hvr_DB_sequences_CH_primers.csv'"
     ]
    }
   ],
   "source": [
    "k_list = []\n",
    "begin_time = time.time()\n",
    "all_results = []\n",
    "for k in range(1,6):\n",
    "    print('Now training: Naive Bayes {} with taxonomy level {} and hvr {} - lasted: {}'.format(k, taxonomy_level, selected_primer, time_difference_good_format(begin_time, time.time())), end='\\r')\n",
    "    test_size, main_class_prop, accuracy = naive_bayes_k(k=k,sequence_origin='DairyDB', \n",
    "                                                         primers_origin='Chaudhary', \n",
    "                                                         taxonomy_level=taxonomy_level,\n",
    "                                                         selected_primer=selected_primer)\n",
    "    all_results.append([selected_primer, taxonomy_level, test_size, main_class_prop, k, accuracy])\n",
    "all_results_df = pd.DataFrame(all_results, columns=['HyperVariable Region','Taxonomy Rank to be classified','Test Size', 'Main Class prop', 'k', 'Accuracy'])\n",
    "all_results_df.to_csv('results/models/Naive Bayes - NB - V4 - Genus - DB - CH - accuracies.csv', index=False)"
   ]
  },
  {
   "cell_type": "markdown",
   "metadata": {},
   "source": [
    "## RF"
   ]
  },
  {
   "cell_type": "code",
   "execution_count": null,
   "metadata": {},
   "outputs": [],
   "source": [
    "from models.random_forest import random_forest_k_default"
   ]
  },
  {
   "cell_type": "code",
   "execution_count": null,
   "metadata": {},
   "outputs": [],
   "source": [
    "test_size, main_class_prop, accuracy = random_forest_k_default(k=5,sequence_origin='DairyDB', \n",
    "                                                               primers_origin='Chaudhary', \n",
    "                                                               taxonomy_level=5,\n",
    "                                                               selected_primer='V4', \n",
    "                                                               max_depth=25,\n",
    "                                                               n_estimators=300)"
   ]
  },
  {
   "cell_type": "code",
   "execution_count": null,
   "metadata": {},
   "outputs": [],
   "source": [
    "test_size, main_class_prop, accuracy = random_forest_k_default(k=4,sequence_origin='DairyDB', \n",
    "                                                               primers_origin='Chaudhary', \n",
    "                                                               taxonomy_level=5,\n",
    "                                                               selected_primer='V4', \n",
    "                                                               max_depth=25,\n",
    "                                                               n_estimators=300)"
   ]
  },
  {
   "cell_type": "markdown",
   "metadata": {},
   "source": [
    "k_list = []\n",
    "begin_time = time.time()\n",
    "for k in range(4,6):\n",
    "    all_results = []\n",
    "    for taxonomy_level in range(7):\n",
    "        for selected_primer in ['V1','V2', 'V3', 'V4', 'V5', 'V6', 'V7', 'V8', 'V9', 'V12', 'V23', 'V34', 'V45', 'V56', 'V67', 'V78', 'V89']:\n",
    "            test_size, main_class_prop, accuracy = random_forest_k_default(k=k,sequence_origin='', \n",
    "                                                                                   primers_origin='DairyDB', \n",
    "                                                                                   taxonomy_level=taxonomy_level,\n",
    "                                                                                   selected_primer=selected_primer)\n",
    "            all_results.append([selected_primer, taxonomy_level, test_size, main_class_prop, accuracy])\n",
    "    k_list.append(all_results)\n",
    "    k_df = pd.DataFrame(k_list[k-4], columns=['HyperVariable Region','Taxonomy Rank to be classified','Test Size', 'Main Class prop', 'Random Forest - RF({})'.format(k)])\n",
    "    k_df.to_csv('results/models/Random Forest - RF({}) - DB and GG - DB - accuracies.csv'.format(k), index=False)"
   ]
  },
  {
   "cell_type": "markdown",
   "metadata": {},
   "source": [
    "df_list = []\n",
    "for k in range(len(k_list)):\n",
    "    df_list.append(pd.DataFrame(k_list[k], columns=['HyperVariable Region','Taxonomy Rank to be classified','Test Size', 'Main Class prop', 'Random Forest - RF({})'.format(k+4)]))\n",
    "\n",
    "final_df = pd.merge(df_list[0], df_list[1], on=['HyperVariable Region','Taxonomy Rank to be classified','Test Size', 'Main Class prop'], how='left')\n",
    "#final_df = pd.merge(final_df, df_list[2], on=['HyperVariable Region','Taxonomy Rank to be classified','Test Size', 'Main Class prop'], how='left')\n",
    "#final_df = pd.merge(final_df, df_list[3], on=['HyperVariable Region','Taxonomy Rank to be classified','Test Size', 'Main Class prop'], how='left')\n",
    "#final_df = pd.merge(final_df, df_list[4], on=['HyperVariable Region','Taxonomy Rank to be classified','Test Size', 'Main Class prop'], how='left')\n",
    "\n",
    "final_df.to_csv('results/models/Random Forest - RF 4 & 5 - DB and GG - DB.csv'.format(k), index=False)"
   ]
  },
  {
   "cell_type": "markdown",
   "metadata": {},
   "source": [
    "taxonomy_level = 5\n",
    "selected_primer = 'V4'"
   ]
  },
  {
   "cell_type": "markdown",
   "metadata": {},
   "source": [
    "from models.random_forest import random_forest_k_grid_search_cv"
   ]
  },
  {
   "cell_type": "code",
   "execution_count": null,
   "metadata": {},
   "outputs": [],
   "source": [
    "#Number of trees in random forest\n",
    "n_estimators = [50, 75 , 100, 125, 150]  \n",
    "# Number of features to consider at every split\n",
    "max_features = ['auto']  \n",
    "# Maximum number of levels in tree\n",
    "max_depth = [None]  \n",
    "# Minimum number of samples required to split a node\n",
    "min_samples_split = [2]  \n",
    "# Minimum number of samples required at each leaf node\n",
    "min_samples_leaf = [1]  \n",
    "# Method of selecting samples for training each tree\n",
    "bootstrap = [False]  \n",
    "# Create the random grid\n",
    "param_grid = {\n",
    "    'n_estimators' : n_estimators,\n",
    "    'max_features' : max_features,\n",
    "    'max_depth' : max_depth,\n",
    "    'min_samples_split' : min_samples_split,\n",
    "    'bootstrap' : bootstrap\n",
    "}"
   ]
  },
  {
   "cell_type": "markdown",
   "metadata": {},
   "source": [
    "test_size, main_class_prop, accuracy = random_forest_k_grid_search_cv(k=3,\n",
    "                                                                      param_grid=param_grid, \n",
    "                                                                      sequence_origin='DairyDB', \n",
    "                                                                      primers_origin='DairyDB', \n",
    "                                                                      taxonomy_level=taxonomy_level,\n",
    "                                                                      selected_primer=selected_primer)\n",
    "\n",
    "test_size, main_class_prop, accuracy = random_forest_k_grid_search_cv(k=4,\n",
    "                                                                      param_grid=param_grid, \n",
    "                                                                      sequence_origin='DairyDB', \n",
    "                                                                      primers_origin='DairyDB', \n",
    "                                                                      taxonomy_level=taxonomy_level,\n",
    "                                                                      selected_primer=selected_primer)\n",
    "\n",
    "test_size, main_class_prop, accuracy = random_forest_k_grid_search_cv(k=5,\n",
    "                                                                      param_grid=param_grid, \n",
    "                                                                      sequence_origin='DairyDB', \n",
    "                                                                      primers_origin='DairyDB', \n",
    "                                                                      taxonomy_level=taxonomy_level,\n",
    "                                                                      selected_primer=selected_primer)"
   ]
  },
  {
   "cell_type": "markdown",
   "metadata": {},
   "source": [
    "## XGBOOST"
   ]
  },
  {
   "cell_type": "markdown",
   "metadata": {},
   "source": [
    "k_list = []\n",
    "begin_time = time.time()\n",
    "for k in range(5,0, -1):\n",
    "    all_results = []\n",
    "    for taxonomy_level in range(7):\n",
    "        for selected_primer in ['V1','V2', 'V3', 'V4', 'V5', 'V6', 'V7', 'V8', 'V9', 'V12', 'V23', 'V34', 'V45', 'V56', 'V67', 'V78', 'V89', 'sequence']:\n",
    "            print('Now training: XGBoost {} with taxonomy level {} and hvr {} - lasted: {}'.format(k, taxonomy_level, selected_primer, time_difference_good_format(begin_time, time.time())), end='\\n')\n",
    "            process = psutil.Process(os.getpid())\n",
    "            print('Memory Usage before function: {:0.2f} Mb'.format(process.memory_info().rss / float(2 ** 20)), end='\\n')\n",
    "            test_size, main_class_prop, accuracy = xgboost_k_default(k=k,sequence_origin='DairyDB', \n",
    "                                                                     primers_origin='DairyDB', \n",
    "                                                                     taxonomy_level=taxonomy_level,\n",
    "                                                                     selected_primer=selected_primer)\n",
    "            process = psutil.Process(os.getpid())\n",
    "            print('Memory Usage after function: {:0.2f} Mb'.format(process.memory_info().rss / float(2 ** 20)), end='\\n')\n",
    "            all_results.append([selected_primer, taxonomy_level, test_size, main_class_prop, accuracy])\n",
    "    k_list.append(all_results)\n",
    "    k_df = pd.DataFrame(k_list[5-k], columns=['HyperVariable Region','Taxonomy Rank to be classified','Test Size', 'Main Class prop', 'XGBoost - XGB({})'.format(k+1)])\n",
    "    k_df.to_csv('results/models/XGBoost - XGB({}) - DB - DB - accuracies.csv'.format(k), index=False)"
   ]
  },
  {
   "cell_type": "markdown",
   "metadata": {},
   "source": [
    "df_list = []\n",
    "for k in range(len(k_list)):\n",
    "    df_list.append(pd.DataFrame(k_list[k], columns=['HyperVariable Region','Taxonomy Rank to be classified','Test Size', 'Main Class prop', 'XGBoost - XGB({})'.format(5-k)]))\n",
    "\n",
    "final_df = pd.merge(df_list[0], df_list[1], on=['HyperVariable Region','Taxonomy Rank to be classified','Test Size', 'Main Class prop'], how='left')\n",
    "final_df = pd.merge(final_df, df_list[2], on=['HyperVariable Region','Taxonomy Rank to be classified','Test Size', 'Main Class prop'], how='left')\n",
    "final_df = pd.merge(final_df, df_list[3], on=['HyperVariable Region','Taxonomy Rank to be classified','Test Size', 'Main Class prop'], how='left')\n",
    "final_df = pd.merge(final_df, df_list[4], on=['HyperVariable Region','Taxonomy Rank to be classified','Test Size', 'Main Class prop'], how='left')\n",
    "\n",
    "final_df.to_csv('results/models/XGBoost - ALL XGB - DB - DB.csv', index=False)"
   ]
  },
  {
   "cell_type": "markdown",
   "metadata": {},
   "source": [
    "## XGBOOST FORCE"
   ]
  },
  {
   "cell_type": "code",
   "execution_count": null,
   "metadata": {},
   "outputs": [],
   "source": [
    "# Number of trees in random forest\n",
    "n_estimators = [50, 100, 150, 200, 250]  \n",
    "# Number of features to consider at every split\n",
    "max_features = ['auto']  \n",
    "# Maximum number of levels in tree\n",
    "max_depth = [3, 5, 8, 15]  \n",
    "# Minimum number of samples required to split a node\n",
    "min_samples_split = [2]  \n",
    "# Minimum number of samples required at each leaf node\n",
    "min_samples_leaf = [1]  \n",
    "# Method of selecting samples for training each tree\n",
    "bootstrap = [False]  \n",
    "# Create the random grid\n",
    "param_grid = {\n",
    "    'n_estimators' : n_estimators,\n",
    "    'max_features' : max_features,\n",
    "    'max_depth' : max_depth,\n",
    "}"
   ]
  },
  {
   "cell_type": "code",
   "execution_count": null,
   "metadata": {
    "scrolled": true
   },
   "outputs": [],
   "source": [
    "import warnings\n",
    "warnings.simplefilter('ignore')\n",
    "from utils.utils import time_difference_good_format, save_update, restartkernel\n",
    "import pandas as pd\n",
    "import time\n",
    "import os\n",
    "from models.xgboost import xgboost_k_grid_search_cv\n",
    "import time\n",
    "begin_time = time.time()\n",
    "\n",
    "taxonomy_level=5\n",
    "selected_primer = 'V4'\n",
    "\n",
    "k=4\n",
    "print('Now training: XGBoost {} with taxonomy level {} and hvr {} - lasted: {}'.format(\n",
    "    k, \n",
    "    taxonomy_level, \n",
    "    selected_primer, time_difference_good_format(begin_time, time.time())), end='\\n')\n",
    "test_size, main_class_prop, accuracy = xgboost_k_grid_search_cv(k=k,\n",
    "                                                                param_grid=param_grid, \n",
    "                                                                sequence_origin='DairyDB', \n",
    "                                                                primers_origin='Chaudhary', \n",
    "                                                                taxonomy_level=taxonomy_level,\n",
    "                                                                selected_primer=selected_primer)\n",
    "save_update('results/models/XGBoost - XGB({}) - V4 - Genus - accuracies.csv'.format(k), k, selected_primer, taxonomy_level, test_size, main_class_prop, accuracy)\n",
    "    \n",
    "k=5\n",
    "print('Now training: XGBoost {} with taxonomy level {} and hvr {} - lasted: {}'.format(\n",
    "    k, \n",
    "    taxonomy_level, \n",
    "    selected_primer, time_difference_good_format(begin_time, time.time())), end='\\n')\n",
    "test_size, main_class_prop, accuracy = xgboost_k_grid_search_cv(k=k,\n",
    "                                                                param_grid=param_grid, \n",
    "                                                                sequence_origin='DairyDB', \n",
    "                                                                primers_origin='Chaudhary', \n",
    "                                                                taxonomy_level=taxonomy_level,\n",
    "                                                                selected_primer=selected_primer)\n",
    "save_update('results/models/XGBoost - XGB({}) - V4 - Genus - accuracies.csv'.format(k), k, selected_primer, taxonomy_level, test_size, main_class_prop, accuracy)"
   ]
  },
  {
   "cell_type": "markdown",
   "metadata": {},
   "source": [
    "### Get specific trees"
   ]
  },
  {
   "cell_type": "markdown",
   "metadata": {},
   "source": [
    "import warnings\n",
    "warnings.simplefilter('ignore')\n",
    "from utils.utils import time_difference_good_format, save_update, restartkernel\n",
    "import pandas as pd\n",
    "import time\n",
    "import os\n",
    "from models.xgboost import xgboost_k_default\n",
    "import time\n",
    "import psutil"
   ]
  },
  {
   "cell_type": "markdown",
   "metadata": {},
   "source": [
    "k=5\n",
    "taxonomy_level=5\n",
    "selected_primer='V4'\n",
    "test_size, main_class_prop, accuracy = xgboost_k_default(k=k,sequence_origin='DairyDB', \n",
    "                                                             primers_origin='DairyDB', \n",
    "                                                             taxonomy_level=taxonomy_level,\n",
    "                                                             selected_primer=selected_primer)\n",
    "save_update('results/models/XGBoost - XGB({}) - DB - DB - accuracies.csv'.format(k), k, selected_primer, taxonomy_level, test_size, main_class_prop, accuracy)\n"
   ]
  }
 ],
 "metadata": {
  "kernelspec": {
   "display_name": "Python 3",
   "language": "python",
   "name": "python3"
  },
  "language_info": {
   "codemirror_mode": {
    "name": "ipython",
    "version": 3
   },
   "file_extension": ".py",
   "mimetype": "text/x-python",
   "name": "python",
   "nbconvert_exporter": "python",
   "pygments_lexer": "ipython3",
   "version": "3.7.6"
  },
  "pycharm": {
   "stem_cell": {
    "cell_type": "raw",
    "metadata": {
     "collapsed": false
    },
    "source": []
   }
  },
  "toc": {
   "base_numbering": 1,
   "nav_menu": {},
   "number_sections": true,
   "sideBar": true,
   "skip_h1_title": true,
   "title_cell": "Table of Contents",
   "title_sidebar": "Contents",
   "toc_cell": true,
   "toc_position": {},
   "toc_section_display": true,
   "toc_window_display": false
  }
 },
 "nbformat": 4,
 "nbformat_minor": 4
}
