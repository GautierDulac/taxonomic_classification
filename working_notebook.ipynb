{
 "cells": [
  {
   "cell_type": "markdown",
   "metadata": {
    "toc": true
   },
   "source": [
    "<h1>Table of Contents<span class=\"tocSkip\"></span></h1>\n",
    "<div class=\"toc\"><ul class=\"toc-item\"><li><span><a href=\"#Packages\" data-toc-modified-id=\"Packages-1\"><span class=\"toc-item-num\">1&nbsp;&nbsp;</span>Packages</a></span></li><li><span><a href=\"#Extracting-sequences\" data-toc-modified-id=\"Extracting-sequences-2\"><span class=\"toc-item-num\">2&nbsp;&nbsp;</span>Extracting sequences</a></span><ul class=\"toc-item\"><li><span><a href=\"#Loading\" data-toc-modified-id=\"Loading-2.1\"><span class=\"toc-item-num\">2.1&nbsp;&nbsp;</span>Loading</a></span></li><li><span><a href=\"#Concatenating-in-a-DF-and-saving-to-csv\" data-toc-modified-id=\"Concatenating-in-a-DF-and-saving-to-csv-2.2\"><span class=\"toc-item-num\">2.2&nbsp;&nbsp;</span>Concatenating in a DF and saving to csv</a></span></li></ul></li><li><span><a href=\"#Extracting-classes\" data-toc-modified-id=\"Extracting-classes-3\"><span class=\"toc-item-num\">3&nbsp;&nbsp;</span>Extracting classes</a></span><ul class=\"toc-item\"><li><span><a href=\"#Loading\" data-toc-modified-id=\"Loading-3.1\"><span class=\"toc-item-num\">3.1&nbsp;&nbsp;</span>Loading</a></span></li></ul></li></ul></div>"
   ]
  },
  {
   "cell_type": "markdown",
   "metadata": {},
   "source": [
    "# Retrieving Data from GG "
   ]
  },
  {
   "cell_type": "markdown",
   "metadata": {},
   "source": [
    "## Packages"
   ]
  },
  {
   "cell_type": "code",
   "execution_count": 12,
   "metadata": {
    "pycharm": {
     "is_executing": false
    }
   },
   "outputs": [],
   "source": [
    "%load_ext autoreload\n",
    "%autoreload 2\n",
    "\n",
    "import pandas as pd\n",
    "from os import listdir\n",
    "from os.path import isfile, join\n",
    "\n"
   ]
  },
  {
   "cell_type": "markdown",
   "metadata": {},
   "source": [
    "## Extracting sequences"
   ]
  },
  {
   "cell_type": "markdown",
   "metadata": {},
   "source": [
    "### Loading "
   ]
  },
  {
   "cell_type": "code",
   "execution_count": null,
   "metadata": {},
   "outputs": [],
   "source": [
    "def extract_data_from_fasta(num_file: int):\n",
    "    seq_file = open('data/gg_13_5_otus/rep_set/{}_otus.fasta'.format(str(num_file)))\n",
    "    line_to_read = True\n",
    "    list_of_reads = []\n",
    "    while line_to_read:\n",
    "        ref = seq_file.readline()[1:-2]\n",
    "        seq = seq_file.readline()[:-2]\n",
    "        if ref == '':\n",
    "            line_to_read = False\n",
    "        else:\n",
    "            list_of_reads.append([int(ref), seq, len(seq), num_file])\n",
    "    return pd.DataFrame(list_of_reads, columns=['reference', 'sequence', 'sequence_size', 'file_num'])"
   ]
  },
  {
   "cell_type": "code",
   "execution_count": null,
   "metadata": {},
   "outputs": [],
   "source": [
    "def get_files_to_load(folder_path):\n",
    "    onlyfiles = [f for f in listdir(folder_path) if isfile(join(folder_path, f))]\n",
    "    return onlyfiles"
   ]
  },
  {
   "cell_type": "markdown",
   "metadata": {},
   "source": [
    "### Concatenating in a DF and saving to csv"
   ]
  },
  {
   "cell_type": "code",
   "execution_count": null,
   "metadata": {},
   "outputs": [],
   "source": [
    "def get_complete_df(folder_path):\n",
    "    files_to_load = get_files_to_load(folder_path)\n",
    "    number_to_load = [int(file_name.split('_')[0]) for file_name in files_to_load]\n",
    "    final_df = pd.DataFrame()\n",
    "    for num_file in number_to_load:\n",
    "        print('Reading file {}'.format(num_file))\n",
    "        final_df = pd.concat([extract_data_from_fasta(num_file),final_df])\n",
    "    return final_df\n",
    "    \n",
    "\n",
    "df = get_complete_df('data/gg_13_5_otus/rep_set/')\n",
    "df.to_csv('data/complete_gg_13_5_otus_rep_set.csv')"
   ]
  },
  {
   "cell_type": "markdown",
   "metadata": {},
   "source": [
    "## Extracting classes"
   ]
  },
  {
   "cell_type": "markdown",
   "metadata": {},
   "source": [
    "### Loading"
   ]
  },
  {
   "cell_type": "code",
   "execution_count": 1,
   "metadata": {},
   "outputs": [],
   "source": [
    "texte_example = \"229854\tk__Bacteria; p__Proteobacteria; c__Gammaproteobacteria; o__Legionellales; f__Legionellaceae; g__Legionella; s__\""
   ]
  },
  {
   "cell_type": "code",
   "execution_count": 4,
   "metadata": {},
   "outputs": [
    {
     "data": {
      "text/plain": [
       "['229854',\n",
       " 'k__Bacteria;',\n",
       " 'p__Proteobacteria;',\n",
       " 'c__Gammaproteobacteria;',\n",
       " 'o__Legionellales;',\n",
       " 'f__Legionellaceae;',\n",
       " 'g__Legionella;',\n",
       " 's__']"
      ]
     },
     "execution_count": 4,
     "metadata": {},
     "output_type": "execute_result"
    }
   ],
   "source": [
    "texte_example.split()"
   ]
  },
  {
   "cell_type": "code",
   "execution_count": 25,
   "metadata": {},
   "outputs": [],
   "source": [
    "def extract_taxonomy(num_file: int):\n",
    "    seq_file = open('../data/gg_13_5_otus/taxonomy/{}_otu_taxonomy.txt'.format(str(num_file)))\n",
    "    line_to_read = True\n",
    "    list_of_reads = []\n",
    "    while line_to_read:\n",
    "        line = seq_file.readline()[:-2].replace('[', '').replace(']','').upper().split()\n",
    "        if line == []:\n",
    "            line_to_read = False\n",
    "            break\n",
    "        ref = int(line[0])\n",
    "        k = line[1][3:-1]\n",
    "        p = line[2][3:-1]\n",
    "        c = line[3][3:-1]\n",
    "        o = line[4][3:-1]\n",
    "        f = line[5][3:-1]\n",
    "        g = line[6][3:-1]\n",
    "        s = line[7][3:-1]\n",
    "        list_of_reads.append([ref, num_file, k, p, c, o, f, g, s])\n",
    "    return pd.DataFrame(list_of_reads, columns=['reference', 'file_num', 'kingdom', 'phylum', 'class', 'order', 'family', 'genus', 'species'])"
   ]
  },
  {
   "cell_type": "code",
   "execution_count": 3,
   "outputs": [],
   "source": [
    "from utils.loading import get_complete_df\n"
   ],
   "metadata": {
    "collapsed": false,
    "pycharm": {
     "name": "#%%\n",
     "is_executing": false
    }
   }
  },
  {
   "cell_type": "code",
   "execution_count": 4,
   "outputs": [
    {
     "name": "stdout",
     "text": [
      "Reading Sequence file 61\nReading Sequence file 64\nReading Sequence file 67\nReading Sequence file 70\nReading Sequence file 73\nReading Sequence file 76\nReading Sequence file 79\n",
      "Reading Sequence file 82\nReading Sequence file 85\n",
      "Reading Sequence file 88\n",
      "Reading Sequence file 91\n",
      "Reading Sequence file 94\n",
      "Reading Sequence file 97\n",
      "Reading Sequence file 99\n",
      "Reading Taxonomy file 61\nReading Taxonomy file 64\nReading Taxonomy file 67\nReading Taxonomy file 70\nReading Taxonomy file 73\nReading Taxonomy file 76\nReading Taxonomy file 79\nReading Taxonomy file 82\nReading Taxonomy file 85\nReading Taxonomy file 88\nReading Taxonomy file 91\n",
      "Reading Taxonomy file 94\n",
      "Reading Taxonomy file 97\n",
      "Reading Taxonomy file 99\n"
     ],
     "output_type": "stream"
    }
   ],
   "source": [
    "sequence_df = get_complete_df(type_to_extract='Sequence')\n",
    "taxonomy_df = get_complete_df(type_to_extract='Taxonomy')\n",
    "\n"
   ],
   "metadata": {
    "collapsed": false,
    "pycharm": {
     "name": "#%%\n",
     "is_executing": false
    }
   }
  }
 ],
 "metadata": {
  "kernelspec": {
   "display_name": "Python 3",
   "language": "python",
   "name": "python3"
  },
  "language_info": {
   "codemirror_mode": {
    "name": "ipython",
    "version": 3
   },
   "file_extension": ".py",
   "mimetype": "text/x-python",
   "name": "python",
   "nbconvert_exporter": "python",
   "pygments_lexer": "ipython3",
   "version": "3.7.4"
  },
  "toc": {
   "base_numbering": 1,
   "nav_menu": {},
   "number_sections": true,
   "sideBar": true,
   "skip_h1_title": true,
   "title_cell": "Table of Contents",
   "title_sidebar": "Contents",
   "toc_cell": true,
   "toc_position": {},
   "toc_section_display": true,
   "toc_window_display": false
  },
  "pycharm": {
   "stem_cell": {
    "cell_type": "raw",
    "source": [],
    "metadata": {
     "collapsed": false
    }
   }
  }
 },
 "nbformat": 4,
 "nbformat_minor": 2
}