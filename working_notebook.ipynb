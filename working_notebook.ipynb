{
 "cells": [
  {
   "cell_type": "markdown",
   "metadata": {
    "toc": true
   },
   "source": [
    "<h1>Table of Contents<span class=\"tocSkip\"></span></h1>\n",
    "<div class=\"toc\"><ul class=\"toc-item\"><li><span><a href=\"#Packages\" data-toc-modified-id=\"Packages-1\"><span class=\"toc-item-num\">1&nbsp;&nbsp;</span>Packages</a></span></li><li><span><a href=\"#Merging-main-files\" data-toc-modified-id=\"Merging-main-files-2\"><span class=\"toc-item-num\">2&nbsp;&nbsp;</span>Merging main files</a></span></li><li><span><a href=\"#Loading-primers\" data-toc-modified-id=\"Loading-primers-3\"><span class=\"toc-item-num\">3&nbsp;&nbsp;</span>Loading primers</a></span></li><li><span><a href=\"#DairyDB\" data-toc-modified-id=\"DairyDB-4\"><span class=\"toc-item-num\">4&nbsp;&nbsp;</span>DairyDB</a></span></li></ul></div>"
   ]
  },
  {
   "cell_type": "markdown",
   "metadata": {},
   "source": [
    "## Packages"
   ]
  },
  {
   "cell_type": "code",
   "execution_count": 172,
   "metadata": {
    "pycharm": {
     "is_executing": false
    }
   },
   "outputs": [
    {
     "name": "stdout",
     "output_type": "stream",
     "text": [
      "The autoreload extension is already loaded. To reload it, use:\n",
      "  %reload_ext autoreload\n"
     ]
    }
   ],
   "source": [
    "%load_ext autoreload\n",
    "%autoreload 2\n",
    "\n",
    "from utils.loading import read_saved_file\n",
    "from utils.loading import load_primers, get_dict_of_primers\n",
    "from utils.hvr_extraction import get_all_occurences\n",
    "import pandas as pd\n",
    "import re\n"
   ]
  },
  {
   "cell_type": "markdown",
   "metadata": {},
   "source": [
    "## Merging main files"
   ]
  },
  {
   "cell_type": "code",
   "execution_count": 21,
   "metadata": {},
   "outputs": [],
   "source": [
    "sequence_df = read_saved_file(type_to_read='Sequence')\n",
    "taxonomy_df = read_saved_file(type_to_read='Taxonomy')"
   ]
  },
  {
   "cell_type": "code",
   "execution_count": 28,
   "metadata": {},
   "outputs": [],
   "source": [
    "joined_df = sequence_df.merge(taxonomy_df.drop('file_num', axis=1), on = ['reference'], how='left')"
   ]
  },
  {
   "cell_type": "code",
   "execution_count": 35,
   "metadata": {},
   "outputs": [],
   "source": [
    "working_df = joined_df.dropna(axis=0, subset=['kingdom'])"
   ]
  },
  {
   "cell_type": "code",
   "execution_count": 39,
   "metadata": {},
   "outputs": [
    {
     "data": {
      "text/plain": [
       "PROTEOBACTERIA    23510\n",
       "FIRMICUTES        22212\n",
       "BACTEROIDETES      8356\n",
       "ACTINOBACTERIA     5315\n",
       "CHLOROFLEXI        2530\n",
       "                  ...  \n",
       "NANOARCHAEOTA         4\n",
       "DICTYOGLOMI           3\n",
       "CD12                  3\n",
       "GOUTA4                3\n",
       "WS6                   2\n",
       "Name: phylum, Length: 68, dtype: int64"
      ]
     },
     "execution_count": 39,
     "metadata": {},
     "output_type": "execute_result"
    }
   ],
   "source": [
    "working_df.phylum.value_counts()"
   ]
  },
  {
   "cell_type": "markdown",
   "metadata": {},
   "source": [
    "## Loading primers"
   ]
  },
  {
   "cell_type": "code",
   "execution_count": 22,
   "metadata": {},
   "outputs": [],
   "source": [
    "start_primers = load_primers('forward')\n",
    "end_primers = load_primers('reverse')\n",
    "sequence_df = read_saved_file(type_to_read='Sequence')"
   ]
  },
  {
   "cell_type": "code",
   "execution_count": 161,
   "metadata": {},
   "outputs": [],
   "source": [
    "primers_dict = get_dict_of_primers(start_primers, end_primers)"
   ]
  },
  {
   "cell_type": "code",
   "execution_count": 162,
   "metadata": {},
   "outputs": [
    {
     "data": {
      "text/plain": [
       "{'V2': {'forward': 'AGYGGCGNACGGGTGAGTA', 'reverse': 'TGCTGCCTCCCGTAGGAG'},\n",
       " 'V3': {'forward': 'CCTACGGGAGGCAGCA', 'reverse': 'ATTACCGCGGCTGCTG'},\n",
       " 'V4': {'forward': 'AYTGGGYDTAAAGN', 'reverse': 'TACNVGGGTATCTAATC'},\n",
       " 'V5': {'forward': 'AGGATTAGATACCC', 'reverse': 'CCGTCAATTCCTTTGAGTT'},\n",
       " 'V6': {'forward': 'TCGATGCAACGCGAAGA', 'reverse': 'ACATTTCACAACACGAGCTGACGA'},\n",
       " 'V7': {'forward': 'GYAACGAGCGCAACC', 'reverse': 'GTAGCRCGTGTGTMGCC'},\n",
       " 'V8': {'forward': 'ATGGCTGTCGTCAGC', 'reverse': 'ACGGGCGGTGTGTA'},\n",
       " 'V23': {'forward': 'AGYGGCGNACGGGTGAGTA', 'reverse': 'ATTACCGCGGCTGCTG'},\n",
       " 'V34': {'forward': 'CCTACGGGRSGCAGCA', 'reverse': 'GGGGTATCTAATCC'},\n",
       " 'V35': {'forward': 'CCTACGGGAGGCAGCA', 'reverse': 'CCGTCAATTCCTTTGAGTT'},\n",
       " 'V45': {'forward': 'AYTGGGYDTAAAGN', 'reverse': 'CCGTCAATTYYTTTRAGTT'},\n",
       " 'V56': {'forward': 'GGATTAGATACCCTGGTAGTC', 'reverse': 'ACAGCCATGCAGCACCT'},\n",
       " 'V67': {'forward': 'CAACGCGAAGAACCTTAC', 'reverse': 'GTAGCRCGTGTGTMGCC'},\n",
       " 'V78': {'forward': 'AGGTGCTGCATGGCT', 'reverse': 'GACGGGCGGTGWGTR'}}"
      ]
     },
     "execution_count": 162,
     "metadata": {},
     "output_type": "execute_result"
    }
   ],
   "source": [
    "primers_dict"
   ]
  },
  {
   "cell_type": "code",
   "execution_count": 29,
   "metadata": {},
   "outputs": [
    {
     "data": {
      "text/plain": [
       "reference                                                   111188\n",
       "sequence         AACGAACGCTGGCGGCATGCCTAACACATGCAAGTCGAACGAGACC...\n",
       "sequence_size                                                 1408\n",
       "file_num                                                        99\n",
       "Name: 0, dtype: object"
      ]
     },
     "execution_count": 29,
     "metadata": {},
     "output_type": "execute_result"
    }
   ],
   "source": [
    "line1 = sequence_df.iloc[0]\n",
    "line1"
   ]
  },
  {
   "cell_type": "code",
   "execution_count": 28,
   "metadata": {},
   "outputs": [
    {
     "data": {
      "text/plain": [
       "281"
      ]
     },
     "execution_count": 28,
     "metadata": {},
     "output_type": "execute_result"
    }
   ],
   "source": [
    "line1.sequence.find(start_primers.iloc[1].sequence)"
   ]
  },
  {
   "cell_type": "code",
   "execution_count": 105,
   "metadata": {},
   "outputs": [
    {
     "data": {
      "text/plain": [
       "[0, 4]"
      ]
     },
     "execution_count": 105,
     "metadata": {},
     "output_type": "execute_result"
    }
   ],
   "source": [
    "[m.start() for m in re.finditer('aaa', 'aaa aaa')]\n"
   ]
  },
  {
   "cell_type": "code",
   "execution_count": 175,
   "metadata": {},
   "outputs": [
    {
     "name": "stdout",
     "output_type": "stream",
     "text": [
      "Wall time: 1min 46s\n"
     ]
    }
   ],
   "source": [
    "%%time\n",
    "df = get_all_occurences(sequence_df)"
   ]
  },
  {
   "cell_type": "code",
   "execution_count": 179,
   "metadata": {},
   "outputs": [
    {
     "data": {
      "text/html": [
       "<div>\n",
       "<style scoped>\n",
       "    .dataframe tbody tr th:only-of-type {\n",
       "        vertical-align: middle;\n",
       "    }\n",
       "\n",
       "    .dataframe tbody tr th {\n",
       "        vertical-align: top;\n",
       "    }\n",
       "\n",
       "    .dataframe thead th {\n",
       "        text-align: right;\n",
       "    }\n",
       "</style>\n",
       "<table border=\"1\" class=\"dataframe\">\n",
       "  <thead>\n",
       "    <tr style=\"text-align: right;\">\n",
       "      <th></th>\n",
       "      <th>index</th>\n",
       "      <th>V2_forward</th>\n",
       "      <th>V2_reverse</th>\n",
       "      <th>V3_forward</th>\n",
       "      <th>V3_reverse</th>\n",
       "      <th>V4_forward</th>\n",
       "      <th>V4_reverse</th>\n",
       "      <th>V5_forward</th>\n",
       "      <th>V5_reverse</th>\n",
       "      <th>V6_forward</th>\n",
       "      <th>...</th>\n",
       "      <th>V35_forward</th>\n",
       "      <th>V35_reverse</th>\n",
       "      <th>V45_forward</th>\n",
       "      <th>V45_reverse</th>\n",
       "      <th>V56_forward</th>\n",
       "      <th>V56_reverse</th>\n",
       "      <th>V67_forward</th>\n",
       "      <th>V67_reverse</th>\n",
       "      <th>V78_forward</th>\n",
       "      <th>V78_reverse</th>\n",
       "    </tr>\n",
       "  </thead>\n",
       "  <tbody>\n",
       "    <tr>\n",
       "      <td>0</td>\n",
       "      <td>0</td>\n",
       "      <td>[]</td>\n",
       "      <td>[]</td>\n",
       "      <td>[297]</td>\n",
       "      <td>[]</td>\n",
       "      <td>[]</td>\n",
       "      <td>[]</td>\n",
       "      <td>[713]</td>\n",
       "      <td>[]</td>\n",
       "      <td>[]</td>\n",
       "      <td>...</td>\n",
       "      <td>[297]</td>\n",
       "      <td>[]</td>\n",
       "      <td>[]</td>\n",
       "      <td>[]</td>\n",
       "      <td>[721]</td>\n",
       "      <td>[]</td>\n",
       "      <td>[]</td>\n",
       "      <td>[]</td>\n",
       "      <td>[978]</td>\n",
       "      <td>[]</td>\n",
       "    </tr>\n",
       "    <tr>\n",
       "      <td>1</td>\n",
       "      <td>1</td>\n",
       "      <td>[]</td>\n",
       "      <td>[]</td>\n",
       "      <td>[317]</td>\n",
       "      <td>[]</td>\n",
       "      <td>[]</td>\n",
       "      <td>[]</td>\n",
       "      <td>[750]</td>\n",
       "      <td>[]</td>\n",
       "      <td>[]</td>\n",
       "      <td>...</td>\n",
       "      <td>[317]</td>\n",
       "      <td>[]</td>\n",
       "      <td>[]</td>\n",
       "      <td>[]</td>\n",
       "      <td>[758]</td>\n",
       "      <td>[]</td>\n",
       "      <td>[938]</td>\n",
       "      <td>[]</td>\n",
       "      <td>[1015]</td>\n",
       "      <td>[]</td>\n",
       "    </tr>\n",
       "    <tr>\n",
       "      <td>2</td>\n",
       "      <td>2</td>\n",
       "      <td>[]</td>\n",
       "      <td>[]</td>\n",
       "      <td>[342]</td>\n",
       "      <td>[]</td>\n",
       "      <td>[]</td>\n",
       "      <td>[]</td>\n",
       "      <td>[778]</td>\n",
       "      <td>[]</td>\n",
       "      <td>[]</td>\n",
       "      <td>...</td>\n",
       "      <td>[342]</td>\n",
       "      <td>[]</td>\n",
       "      <td>[]</td>\n",
       "      <td>[]</td>\n",
       "      <td>[786]</td>\n",
       "      <td>[]</td>\n",
       "      <td>[]</td>\n",
       "      <td>[]</td>\n",
       "      <td>[]</td>\n",
       "      <td>[]</td>\n",
       "    </tr>\n",
       "    <tr>\n",
       "      <td>3</td>\n",
       "      <td>3</td>\n",
       "      <td>[]</td>\n",
       "      <td>[]</td>\n",
       "      <td>[286]</td>\n",
       "      <td>[]</td>\n",
       "      <td>[]</td>\n",
       "      <td>[]</td>\n",
       "      <td>[]</td>\n",
       "      <td>[]</td>\n",
       "      <td>[]</td>\n",
       "      <td>...</td>\n",
       "      <td>[286]</td>\n",
       "      <td>[]</td>\n",
       "      <td>[]</td>\n",
       "      <td>[]</td>\n",
       "      <td>[]</td>\n",
       "      <td>[]</td>\n",
       "      <td>[]</td>\n",
       "      <td>[]</td>\n",
       "      <td>[967]</td>\n",
       "      <td>[]</td>\n",
       "    </tr>\n",
       "    <tr>\n",
       "      <td>4</td>\n",
       "      <td>4</td>\n",
       "      <td>[]</td>\n",
       "      <td>[]</td>\n",
       "      <td>[295]</td>\n",
       "      <td>[]</td>\n",
       "      <td>[]</td>\n",
       "      <td>[]</td>\n",
       "      <td>[736]</td>\n",
       "      <td>[]</td>\n",
       "      <td>[916]</td>\n",
       "      <td>...</td>\n",
       "      <td>[295]</td>\n",
       "      <td>[]</td>\n",
       "      <td>[]</td>\n",
       "      <td>[]</td>\n",
       "      <td>[744]</td>\n",
       "      <td>[]</td>\n",
       "      <td>[923]</td>\n",
       "      <td>[]</td>\n",
       "      <td>[999]</td>\n",
       "      <td>[]</td>\n",
       "    </tr>\n",
       "    <tr>\n",
       "      <td>...</td>\n",
       "      <td>...</td>\n",
       "      <td>...</td>\n",
       "      <td>...</td>\n",
       "      <td>...</td>\n",
       "      <td>...</td>\n",
       "      <td>...</td>\n",
       "      <td>...</td>\n",
       "      <td>...</td>\n",
       "      <td>...</td>\n",
       "      <td>...</td>\n",
       "      <td>...</td>\n",
       "      <td>...</td>\n",
       "      <td>...</td>\n",
       "      <td>...</td>\n",
       "      <td>...</td>\n",
       "      <td>...</td>\n",
       "      <td>...</td>\n",
       "      <td>...</td>\n",
       "      <td>...</td>\n",
       "      <td>...</td>\n",
       "      <td>...</td>\n",
       "    </tr>\n",
       "    <tr>\n",
       "      <td>386952</td>\n",
       "      <td>386952</td>\n",
       "      <td>[]</td>\n",
       "      <td>[]</td>\n",
       "      <td>[]</td>\n",
       "      <td>[]</td>\n",
       "      <td>[]</td>\n",
       "      <td>[]</td>\n",
       "      <td>[]</td>\n",
       "      <td>[]</td>\n",
       "      <td>[]</td>\n",
       "      <td>...</td>\n",
       "      <td>[]</td>\n",
       "      <td>[]</td>\n",
       "      <td>[]</td>\n",
       "      <td>[]</td>\n",
       "      <td>[]</td>\n",
       "      <td>[]</td>\n",
       "      <td>[]</td>\n",
       "      <td>[]</td>\n",
       "      <td>[]</td>\n",
       "      <td>[]</td>\n",
       "    </tr>\n",
       "    <tr>\n",
       "      <td>386953</td>\n",
       "      <td>386953</td>\n",
       "      <td>[]</td>\n",
       "      <td>[]</td>\n",
       "      <td>[]</td>\n",
       "      <td>[]</td>\n",
       "      <td>[]</td>\n",
       "      <td>[]</td>\n",
       "      <td>[]</td>\n",
       "      <td>[]</td>\n",
       "      <td>[]</td>\n",
       "      <td>...</td>\n",
       "      <td>[]</td>\n",
       "      <td>[]</td>\n",
       "      <td>[]</td>\n",
       "      <td>[]</td>\n",
       "      <td>[]</td>\n",
       "      <td>[]</td>\n",
       "      <td>[]</td>\n",
       "      <td>[]</td>\n",
       "      <td>[]</td>\n",
       "      <td>[]</td>\n",
       "    </tr>\n",
       "    <tr>\n",
       "      <td>386954</td>\n",
       "      <td>386954</td>\n",
       "      <td>[]</td>\n",
       "      <td>[]</td>\n",
       "      <td>[]</td>\n",
       "      <td>[]</td>\n",
       "      <td>[]</td>\n",
       "      <td>[]</td>\n",
       "      <td>[]</td>\n",
       "      <td>[]</td>\n",
       "      <td>[]</td>\n",
       "      <td>...</td>\n",
       "      <td>[]</td>\n",
       "      <td>[]</td>\n",
       "      <td>[]</td>\n",
       "      <td>[]</td>\n",
       "      <td>[]</td>\n",
       "      <td>[]</td>\n",
       "      <td>[]</td>\n",
       "      <td>[]</td>\n",
       "      <td>[]</td>\n",
       "      <td>[]</td>\n",
       "    </tr>\n",
       "    <tr>\n",
       "      <td>386955</td>\n",
       "      <td>386955</td>\n",
       "      <td>[]</td>\n",
       "      <td>[]</td>\n",
       "      <td>[]</td>\n",
       "      <td>[]</td>\n",
       "      <td>[]</td>\n",
       "      <td>[]</td>\n",
       "      <td>[]</td>\n",
       "      <td>[]</td>\n",
       "      <td>[]</td>\n",
       "      <td>...</td>\n",
       "      <td>[]</td>\n",
       "      <td>[]</td>\n",
       "      <td>[]</td>\n",
       "      <td>[]</td>\n",
       "      <td>[]</td>\n",
       "      <td>[]</td>\n",
       "      <td>[]</td>\n",
       "      <td>[]</td>\n",
       "      <td>[]</td>\n",
       "      <td>[]</td>\n",
       "    </tr>\n",
       "    <tr>\n",
       "      <td>386956</td>\n",
       "      <td>386956</td>\n",
       "      <td>[]</td>\n",
       "      <td>[]</td>\n",
       "      <td>[]</td>\n",
       "      <td>[]</td>\n",
       "      <td>[]</td>\n",
       "      <td>[]</td>\n",
       "      <td>[]</td>\n",
       "      <td>[]</td>\n",
       "      <td>[]</td>\n",
       "      <td>...</td>\n",
       "      <td>[]</td>\n",
       "      <td>[]</td>\n",
       "      <td>[]</td>\n",
       "      <td>[]</td>\n",
       "      <td>[]</td>\n",
       "      <td>[]</td>\n",
       "      <td>[]</td>\n",
       "      <td>[]</td>\n",
       "      <td>[]</td>\n",
       "      <td>[]</td>\n",
       "    </tr>\n",
       "  </tbody>\n",
       "</table>\n",
       "<p>386957 rows × 29 columns</p>\n",
       "</div>"
      ],
      "text/plain": [
       "         index V2_forward V2_reverse V3_forward V3_reverse V4_forward  \\\n",
       "0            0         []         []      [297]         []         []   \n",
       "1            1         []         []      [317]         []         []   \n",
       "2            2         []         []      [342]         []         []   \n",
       "3            3         []         []      [286]         []         []   \n",
       "4            4         []         []      [295]         []         []   \n",
       "...        ...        ...        ...        ...        ...        ...   \n",
       "386952  386952         []         []         []         []         []   \n",
       "386953  386953         []         []         []         []         []   \n",
       "386954  386954         []         []         []         []         []   \n",
       "386955  386955         []         []         []         []         []   \n",
       "386956  386956         []         []         []         []         []   \n",
       "\n",
       "       V4_reverse V5_forward V5_reverse V6_forward  ... V35_forward  \\\n",
       "0              []      [713]         []         []  ...       [297]   \n",
       "1              []      [750]         []         []  ...       [317]   \n",
       "2              []      [778]         []         []  ...       [342]   \n",
       "3              []         []         []         []  ...       [286]   \n",
       "4              []      [736]         []      [916]  ...       [295]   \n",
       "...           ...        ...        ...        ...  ...         ...   \n",
       "386952         []         []         []         []  ...          []   \n",
       "386953         []         []         []         []  ...          []   \n",
       "386954         []         []         []         []  ...          []   \n",
       "386955         []         []         []         []  ...          []   \n",
       "386956         []         []         []         []  ...          []   \n",
       "\n",
       "       V35_reverse V45_forward V45_reverse V56_forward V56_reverse  \\\n",
       "0               []          []          []       [721]          []   \n",
       "1               []          []          []       [758]          []   \n",
       "2               []          []          []       [786]          []   \n",
       "3               []          []          []          []          []   \n",
       "4               []          []          []       [744]          []   \n",
       "...            ...         ...         ...         ...         ...   \n",
       "386952          []          []          []          []          []   \n",
       "386953          []          []          []          []          []   \n",
       "386954          []          []          []          []          []   \n",
       "386955          []          []          []          []          []   \n",
       "386956          []          []          []          []          []   \n",
       "\n",
       "       V67_forward V67_reverse V78_forward V78_reverse  \n",
       "0               []          []       [978]          []  \n",
       "1            [938]          []      [1015]          []  \n",
       "2               []          []          []          []  \n",
       "3               []          []       [967]          []  \n",
       "4            [923]          []       [999]          []  \n",
       "...            ...         ...         ...         ...  \n",
       "386952          []          []          []          []  \n",
       "386953          []          []          []          []  \n",
       "386954          []          []          []          []  \n",
       "386955          []          []          []          []  \n",
       "386956          []          []          []          []  \n",
       "\n",
       "[386957 rows x 29 columns]"
      ]
     },
     "execution_count": 179,
     "metadata": {},
     "output_type": "execute_result"
    }
   ],
   "source": [
    "df"
   ]
  },
  {
   "cell_type": "markdown",
   "metadata": {},
   "source": [
    "## DairyDB"
   ]
  },
  {
   "cell_type": "code",
   "execution_count": 291,
   "metadata": {},
   "outputs": [],
   "source": [
    "from loading.loading_dairydb import extract_data_from_dairydb"
   ]
  },
  {
   "cell_type": "code",
   "execution_count": 292,
   "metadata": {},
   "outputs": [],
   "source": [
    "db = extract_data_from_dairydb()"
   ]
  },
  {
   "cell_type": "code",
   "execution_count": 293,
   "metadata": {},
   "outputs": [
    {
     "data": {
      "text/html": [
       "<div>\n",
       "<style scoped>\n",
       "    .dataframe tbody tr th:only-of-type {\n",
       "        vertical-align: middle;\n",
       "    }\n",
       "\n",
       "    .dataframe tbody tr th {\n",
       "        vertical-align: top;\n",
       "    }\n",
       "\n",
       "    .dataframe thead th {\n",
       "        text-align: right;\n",
       "    }\n",
       "</style>\n",
       "<table border=\"1\" class=\"dataframe\">\n",
       "  <thead>\n",
       "    <tr style=\"text-align: right;\">\n",
       "      <th></th>\n",
       "      <th>sequence</th>\n",
       "      <th>sequence_size</th>\n",
       "      <th>kingdom</th>\n",
       "      <th>phylum</th>\n",
       "      <th>class</th>\n",
       "      <th>order</th>\n",
       "      <th>family</th>\n",
       "      <th>genus</th>\n",
       "      <th>species</th>\n",
       "    </tr>\n",
       "  </thead>\n",
       "  <tbody>\n",
       "    <tr>\n",
       "      <td>0</td>\n",
       "      <td>GATGAACGCTGGCGGCGCGCCTAACACATGCAAGTCGAACGATTAA...</td>\n",
       "      <td>1464</td>\n",
       "      <td>BACTERIA</td>\n",
       "      <td>ACTINOBACTERIA</td>\n",
       "      <td>CORIOBACTERIIA</td>\n",
       "      <td>CORIOBACTERIALES</td>\n",
       "      <td>CORIOBACTERIACEAE</td>\n",
       "      <td>SLACKIA</td>\n",
       "      <td>SLACKIA_HELIOTRINIREDUCEN</td>\n",
       "    </tr>\n",
       "    <tr>\n",
       "      <td>1</td>\n",
       "      <td>AGAGTTTGATCATGGCTCAGATTGAACGCTGGCGGCAGGCCTAATA...</td>\n",
       "      <td>1444</td>\n",
       "      <td>BACTERIA</td>\n",
       "      <td>PROTEOBACTERIA</td>\n",
       "      <td>GAMMAPROTEOBACTERIA</td>\n",
       "      <td>CELLVIBRIONALES</td>\n",
       "      <td>CELLVIBRIONACEAE</td>\n",
       "      <td>GILVIMARINUS</td>\n",
       "      <td>GILVIMARINUS_POLYSACCHAROLYTICU</td>\n",
       "    </tr>\n",
       "    <tr>\n",
       "      <td>2</td>\n",
       "      <td>AGAGTTTGATTATGGCTCAGGATGAACGCTAGCGGGAGGCTTAACA...</td>\n",
       "      <td>1477</td>\n",
       "      <td>BACTERIA</td>\n",
       "      <td>BACTEROIDETES</td>\n",
       "      <td>BACTEROIDIA</td>\n",
       "      <td>BACTEROIDALES</td>\n",
       "      <td>PROLIXIBACTERACEAE</td>\n",
       "      <td>DRACONIBACTERIUM</td>\n",
       "      <td>DRACONIBACTERIUM_SPECIE</td>\n",
       "    </tr>\n",
       "    <tr>\n",
       "      <td>3</td>\n",
       "      <td>GATGAACGCTAGCGGCAGGCCTAACACATGCAAGTCGAGGGGTAAC...</td>\n",
       "      <td>1468</td>\n",
       "      <td>BACTERIA</td>\n",
       "      <td>BACTEROIDETES</td>\n",
       "      <td>FLAVOBACTERIIA</td>\n",
       "      <td>FLAVOBACTERIALES</td>\n",
       "      <td>FLAVOBACTERIACEAE</td>\n",
       "      <td>YEOSUANA</td>\n",
       "      <td>YEOSUANA_AROMATIVORAN</td>\n",
       "    </tr>\n",
       "    <tr>\n",
       "      <td>4</td>\n",
       "      <td>AGAGTTTGATCCTGGCTCAGAGTGAACGCTGGCGGCGTGCTTAAGA...</td>\n",
       "      <td>1473</td>\n",
       "      <td>BACTERIA</td>\n",
       "      <td>PROTEOBACTERIA</td>\n",
       "      <td>DELTAPROTEOBACTERIA</td>\n",
       "      <td>SYNTROPHOBACTERALES</td>\n",
       "      <td>SYNTROPHACEAE</td>\n",
       "      <td>DESULFOMONILE</td>\n",
       "      <td>DESULFOMONILE_LIMIMARI</td>\n",
       "    </tr>\n",
       "    <tr>\n",
       "      <td>...</td>\n",
       "      <td>...</td>\n",
       "      <td>...</td>\n",
       "      <td>...</td>\n",
       "      <td>...</td>\n",
       "      <td>...</td>\n",
       "      <td>...</td>\n",
       "      <td>...</td>\n",
       "      <td>...</td>\n",
       "      <td>...</td>\n",
       "    </tr>\n",
       "    <tr>\n",
       "      <td>10384</td>\n",
       "      <td>CCTGGCTCAGGATGAACGCTGGCGGCGTGCCAATACATGCAAGTCG...</td>\n",
       "      <td>1526</td>\n",
       "      <td>BACTERIA</td>\n",
       "      <td>FIRMICUTES</td>\n",
       "      <td>BACILLI</td>\n",
       "      <td>LACTOBACILLALES</td>\n",
       "      <td>LEUCONOSTOCACEAE</td>\n",
       "      <td>WEISSELLA</td>\n",
       "      <td>WEISSELLA_HELLENIC</td>\n",
       "    </tr>\n",
       "    <tr>\n",
       "      <td>10385</td>\n",
       "      <td>AGAGTTTGATTNNGGCTCAGGATGAACGCTGGCGGCGTGCCTAATA...</td>\n",
       "      <td>1543</td>\n",
       "      <td>BACTERIA</td>\n",
       "      <td>FIRMICUTES</td>\n",
       "      <td>BACILLI</td>\n",
       "      <td>BACILLALES</td>\n",
       "      <td>STAPHYLOCOCCACEAE</td>\n",
       "      <td>STAPHYLOCOCCUS</td>\n",
       "      <td>STAPHYLOCOCCUS_HAEMOLYTICU</td>\n",
       "    </tr>\n",
       "    <tr>\n",
       "      <td>10386</td>\n",
       "      <td>AGAGTTTGATNNTGGCTCAGGATGAACGCTGGCGGCGTGCCTAATA...</td>\n",
       "      <td>1543</td>\n",
       "      <td>BACTERIA</td>\n",
       "      <td>FIRMICUTES</td>\n",
       "      <td>BACILLI</td>\n",
       "      <td>BACILLALES</td>\n",
       "      <td>STAPHYLOCOCCACEAE</td>\n",
       "      <td>STAPHYLOCOCCUS</td>\n",
       "      <td>STAPHYLOCOCCUS_HOMINI</td>\n",
       "    </tr>\n",
       "    <tr>\n",
       "      <td>10387</td>\n",
       "      <td>AACGCTGGCGGCGTGCCTAATACATGCAAGTCGAGCGAACAGACGA...</td>\n",
       "      <td>1469</td>\n",
       "      <td>BACTERIA</td>\n",
       "      <td>FIRMICUTES</td>\n",
       "      <td>BACILLI</td>\n",
       "      <td>BACILLALES</td>\n",
       "      <td>STAPHYLOCOCCACEAE</td>\n",
       "      <td>STAPHYLOCOCCUS</td>\n",
       "      <td>STAPHYLOCOCCUS_CAPRA</td>\n",
       "    </tr>\n",
       "    <tr>\n",
       "      <td>10388</td>\n",
       "      <td>AGAGTTTGATNNTGGCTCAGGATGAACGCTGGCGGCGTGCCTAATA...</td>\n",
       "      <td>1542</td>\n",
       "      <td>BACTERIA</td>\n",
       "      <td>FIRMICUTES</td>\n",
       "      <td>BACILLI</td>\n",
       "      <td>BACILLALES</td>\n",
       "      <td>STAPHYLOCOCCACEAE</td>\n",
       "      <td>STAPHYLOCOCCUS</td>\n",
       "      <td>STAPHYLOCOCCUS_PISCIFERMENTAN</td>\n",
       "    </tr>\n",
       "  </tbody>\n",
       "</table>\n",
       "<p>10389 rows × 9 columns</p>\n",
       "</div>"
      ],
      "text/plain": [
       "                                                sequence  sequence_size  \\\n",
       "0      GATGAACGCTGGCGGCGCGCCTAACACATGCAAGTCGAACGATTAA...           1464   \n",
       "1      AGAGTTTGATCATGGCTCAGATTGAACGCTGGCGGCAGGCCTAATA...           1444   \n",
       "2      AGAGTTTGATTATGGCTCAGGATGAACGCTAGCGGGAGGCTTAACA...           1477   \n",
       "3      GATGAACGCTAGCGGCAGGCCTAACACATGCAAGTCGAGGGGTAAC...           1468   \n",
       "4      AGAGTTTGATCCTGGCTCAGAGTGAACGCTGGCGGCGTGCTTAAGA...           1473   \n",
       "...                                                  ...            ...   \n",
       "10384  CCTGGCTCAGGATGAACGCTGGCGGCGTGCCAATACATGCAAGTCG...           1526   \n",
       "10385  AGAGTTTGATTNNGGCTCAGGATGAACGCTGGCGGCGTGCCTAATA...           1543   \n",
       "10386  AGAGTTTGATNNTGGCTCAGGATGAACGCTGGCGGCGTGCCTAATA...           1543   \n",
       "10387  AACGCTGGCGGCGTGCCTAATACATGCAAGTCGAGCGAACAGACGA...           1469   \n",
       "10388  AGAGTTTGATNNTGGCTCAGGATGAACGCTGGCGGCGTGCCTAATA...           1542   \n",
       "\n",
       "        kingdom          phylum                class                order  \\\n",
       "0      BACTERIA  ACTINOBACTERIA       CORIOBACTERIIA     CORIOBACTERIALES   \n",
       "1      BACTERIA  PROTEOBACTERIA  GAMMAPROTEOBACTERIA      CELLVIBRIONALES   \n",
       "2      BACTERIA   BACTEROIDETES          BACTEROIDIA        BACTEROIDALES   \n",
       "3      BACTERIA   BACTEROIDETES       FLAVOBACTERIIA     FLAVOBACTERIALES   \n",
       "4      BACTERIA  PROTEOBACTERIA  DELTAPROTEOBACTERIA  SYNTROPHOBACTERALES   \n",
       "...         ...             ...                  ...                  ...   \n",
       "10384  BACTERIA      FIRMICUTES              BACILLI      LACTOBACILLALES   \n",
       "10385  BACTERIA      FIRMICUTES              BACILLI           BACILLALES   \n",
       "10386  BACTERIA      FIRMICUTES              BACILLI           BACILLALES   \n",
       "10387  BACTERIA      FIRMICUTES              BACILLI           BACILLALES   \n",
       "10388  BACTERIA      FIRMICUTES              BACILLI           BACILLALES   \n",
       "\n",
       "                   family             genus                          species  \n",
       "0       CORIOBACTERIACEAE           SLACKIA        SLACKIA_HELIOTRINIREDUCEN  \n",
       "1        CELLVIBRIONACEAE      GILVIMARINUS  GILVIMARINUS_POLYSACCHAROLYTICU  \n",
       "2      PROLIXIBACTERACEAE  DRACONIBACTERIUM          DRACONIBACTERIUM_SPECIE  \n",
       "3       FLAVOBACTERIACEAE          YEOSUANA            YEOSUANA_AROMATIVORAN  \n",
       "4           SYNTROPHACEAE     DESULFOMONILE           DESULFOMONILE_LIMIMARI  \n",
       "...                   ...               ...                              ...  \n",
       "10384    LEUCONOSTOCACEAE         WEISSELLA               WEISSELLA_HELLENIC  \n",
       "10385   STAPHYLOCOCCACEAE    STAPHYLOCOCCUS       STAPHYLOCOCCUS_HAEMOLYTICU  \n",
       "10386   STAPHYLOCOCCACEAE    STAPHYLOCOCCUS            STAPHYLOCOCCUS_HOMINI  \n",
       "10387   STAPHYLOCOCCACEAE    STAPHYLOCOCCUS             STAPHYLOCOCCUS_CAPRA  \n",
       "10388   STAPHYLOCOCCACEAE    STAPHYLOCOCCUS    STAPHYLOCOCCUS_PISCIFERMENTAN  \n",
       "\n",
       "[10389 rows x 9 columns]"
      ]
     },
     "execution_count": 293,
     "metadata": {},
     "output_type": "execute_result"
    }
   ],
   "source": [
    "db"
   ]
  },
  {
   "cell_type": "code",
   "execution_count": 282,
   "metadata": {},
   "outputs": [
    {
     "data": {
      "text/plain": [
       "Index(['sequence', 'sequence_size', 'kingdom', 'phylum', 'class', 'order',\n",
       "       'family', 'genus', 'species'],\n",
       "      dtype='object')"
      ]
     },
     "execution_count": 282,
     "metadata": {},
     "output_type": "execute_result"
    }
   ],
   "source": [
    "db.columns"
   ]
  },
  {
   "cell_type": "code",
   "execution_count": 290,
   "metadata": {},
   "outputs": [
    {
     "data": {
      "text/plain": [
       "Ruminococcaceae_Specie                  354\n",
       "Christensenellaceae_R-7_group_Specie    193\n",
       "Lachnospiraceae_Specie                  186\n",
       "Anaerobacterium_chartisolven            129\n",
       "Saccharibacteria_Specie                 108\n",
       "                                       ... \n",
       "Ornithinibacter_aureu                     1\n",
       "Paenibacillus_xylanilyticu                1\n",
       "Marihabitans_asiaticu                     1\n",
       "Alcanivorax_indicu                        1\n",
       "Sarcina_ventricul                         1\n",
       "Name: species, Length: 4026, dtype: int64"
      ]
     },
     "execution_count": 290,
     "metadata": {},
     "output_type": "execute_result"
    }
   ],
   "source": [
    "db['species'].value_counts()"
   ]
  },
  {
   "cell_type": "code",
   "execution_count": 262,
   "metadata": {},
   "outputs": [],
   "source": [
    "from utils.utils import get_list_of_related_primers, get_searchable_reverse_primer"
   ]
  },
  {
   "cell_type": "code",
   "execution_count": 198,
   "metadata": {},
   "outputs": [],
   "source": [
    "V2 = 'AGYGGCGNACGGGTGAGTAA'"
   ]
  },
  {
   "cell_type": "code",
   "execution_count": 242,
   "metadata": {},
   "outputs": [],
   "source": [
    "V2_list = get_list_of_related_primers(V2)"
   ]
  },
  {
   "cell_type": "code",
   "execution_count": 253,
   "metadata": {},
   "outputs": [
    {
     "data": {
      "text/plain": [
       "['AGYGGCGNACGGGTGAGTAA',\n",
       " 'AGCGGCGNACGGGTGAGTAA',\n",
       " 'AGTGGCGNACGGGTGAGTAA',\n",
       " 'AGYGGCGAACGGGTGAGTAA',\n",
       " 'AGCGGCGAACGGGTGAGTAA',\n",
       " 'AGTGGCGAACGGGTGAGTAA',\n",
       " 'AGYGGCGTACGGGTGAGTAA',\n",
       " 'AGCGGCGTACGGGTGAGTAA',\n",
       " 'AGTGGCGTACGGGTGAGTAA',\n",
       " 'AGYGGCGCACGGGTGAGTAA',\n",
       " 'AGCGGCGCACGGGTGAGTAA',\n",
       " 'AGTGGCGCACGGGTGAGTAA',\n",
       " 'AGYGGCGGACGGGTGAGTAA',\n",
       " 'AGCGGCGGACGGGTGAGTAA',\n",
       " 'AGTGGCGGACGGGTGAGTAA']"
      ]
     },
     "execution_count": 253,
     "metadata": {},
     "output_type": "execute_result"
    }
   ],
   "source": [
    "V2_list"
   ]
  },
  {
   "cell_type": "code",
   "execution_count": 263,
   "metadata": {},
   "outputs": [],
   "source": [
    "V2_rev = 'GCWGCCTCCCGTAGGAGT'\n",
    "V2_rev_list = get_searchable_reverse_primer(get_list_of_related_primers(V2_rev))"
   ]
  },
  {
   "cell_type": "code",
   "execution_count": 264,
   "metadata": {},
   "outputs": [
    {
     "data": {
      "text/plain": [
       "['ACTCCTACGGGAGGCSGC', 'ACTCCTACGGGAGGCTGC', 'ACTCCTACGGGAGGCAGC']"
      ]
     },
     "execution_count": 264,
     "metadata": {},
     "output_type": "execute_result"
    }
   ],
   "source": [
    "V2_rev_list"
   ]
  },
  {
   "cell_type": "code",
   "execution_count": 265,
   "metadata": {},
   "outputs": [],
   "source": [
    "def get_V2_primers(seq):\n",
    "    list_of_occurences = []\n",
    "    for V2_opt in V2_list:\n",
    "        list_of_occurences.append([m.start() for m in re.finditer(V2_opt, seq)])\n",
    "    return list_of_occurences\n",
    "\n",
    "def get_V2_rev_primers(seq):\n",
    "    list_of_occurences = []\n",
    "    for V2_opt in V2_rev_list:\n",
    "        list_of_occurences.append([m.start() for m in re.finditer(V2_opt, seq)])\n",
    "    return list_of_occurences\n"
   ]
  },
  {
   "cell_type": "code",
   "execution_count": 272,
   "metadata": {},
   "outputs": [
    {
     "data": {
      "text/plain": [
       "10389"
      ]
     },
     "execution_count": 272,
     "metadata": {},
     "output_type": "execute_result"
    }
   ],
   "source": [
    "len(db)"
   ]
  },
  {
   "cell_type": "code",
   "execution_count": 276,
   "metadata": {},
   "outputs": [
    {
     "data": {
      "text/plain": [
       "20"
      ]
     },
     "execution_count": 276,
     "metadata": {},
     "output_type": "execute_result"
    }
   ],
   "source": [
    "len('AGTGGCGGACGGGTGAGTAA')"
   ]
  },
  {
   "cell_type": "code",
   "execution_count": 274,
   "metadata": {},
   "outputs": [
    {
     "data": {
      "text/plain": [
       "'AGTGGCGGACGGGTGAGTAATTAGTGGCGGACGGGTGAGTAATACATGAGCAACCTGCCTTAAAGAGGG'"
      ]
     },
     "execution_count": 274,
     "metadata": {},
     "output_type": "execute_result"
    }
   ],
   "source": [
    "db.sequence[8367][81:150]"
   ]
  },
  {
   "cell_type": "code",
   "execution_count": 267,
   "metadata": {},
   "outputs": [
    {
     "name": "stdout",
     "output_type": "stream",
     "text": [
      "8367 [[], [], [], [], [], [], [], [], [], [], [], [], [], [], [81, 103]] [[], [], [345]]\n"
     ]
    },
    {
     "ename": "KeyError",
     "evalue": "10389",
     "output_type": "error",
     "traceback": [
      "\u001b[1;31m---------------------------------------------------------------------------\u001b[0m",
      "\u001b[1;31mKeyError\u001b[0m                                  Traceback (most recent call last)",
      "\u001b[1;32m<ipython-input-267-d528d4c1db17>\u001b[0m in \u001b[0;36m<module>\u001b[1;34m\u001b[0m\n\u001b[0;32m      1\u001b[0m \u001b[1;32mfor\u001b[0m \u001b[0mi\u001b[0m \u001b[1;32min\u001b[0m \u001b[0mrange\u001b[0m\u001b[1;33m(\u001b[0m\u001b[0mlen\u001b[0m\u001b[1;33m(\u001b[0m\u001b[0mdf\u001b[0m\u001b[1;33m)\u001b[0m\u001b[1;33m)\u001b[0m\u001b[1;33m:\u001b[0m\u001b[1;33m\u001b[0m\u001b[1;33m\u001b[0m\u001b[0m\n\u001b[1;32m----> 2\u001b[1;33m     \u001b[1;32mif\u001b[0m \u001b[0msum\u001b[0m\u001b[1;33m(\u001b[0m\u001b[1;33m[\u001b[0m\u001b[0mlen\u001b[0m\u001b[1;33m(\u001b[0m\u001b[0mget_V2_primers\u001b[0m\u001b[1;33m(\u001b[0m\u001b[0mdb\u001b[0m\u001b[1;33m.\u001b[0m\u001b[0msequence\u001b[0m\u001b[1;33m[\u001b[0m\u001b[0mi\u001b[0m\u001b[1;33m]\u001b[0m\u001b[1;33m)\u001b[0m\u001b[1;33m[\u001b[0m\u001b[0mk\u001b[0m\u001b[1;33m]\u001b[0m\u001b[1;33m)\u001b[0m \u001b[1;32mfor\u001b[0m \u001b[0mk\u001b[0m \u001b[1;32min\u001b[0m \u001b[0mrange\u001b[0m\u001b[1;33m(\u001b[0m\u001b[1;36m15\u001b[0m\u001b[1;33m)\u001b[0m\u001b[1;33m]\u001b[0m\u001b[1;33m)\u001b[0m \u001b[1;33m>\u001b[0m \u001b[1;36m1\u001b[0m\u001b[1;33m:\u001b[0m\u001b[1;33m\u001b[0m\u001b[1;33m\u001b[0m\u001b[0m\n\u001b[0m\u001b[0;32m      3\u001b[0m         \u001b[0mprint\u001b[0m\u001b[1;33m(\u001b[0m\u001b[0mstr\u001b[0m\u001b[1;33m(\u001b[0m\u001b[0mi\u001b[0m\u001b[1;33m)\u001b[0m\u001b[1;33m,\u001b[0m \u001b[0mend\u001b[0m\u001b[1;33m=\u001b[0m\u001b[1;34m' '\u001b[0m\u001b[1;33m)\u001b[0m\u001b[1;33m\u001b[0m\u001b[1;33m\u001b[0m\u001b[0m\n\u001b[0;32m      4\u001b[0m         \u001b[0mprint\u001b[0m\u001b[1;33m(\u001b[0m\u001b[0mget_V2_primers\u001b[0m\u001b[1;33m(\u001b[0m\u001b[0mdb\u001b[0m\u001b[1;33m.\u001b[0m\u001b[0msequence\u001b[0m\u001b[1;33m[\u001b[0m\u001b[0mi\u001b[0m\u001b[1;33m]\u001b[0m\u001b[1;33m)\u001b[0m\u001b[1;33m,\u001b[0m \u001b[0mend\u001b[0m\u001b[1;33m=\u001b[0m\u001b[1;34m' '\u001b[0m\u001b[1;33m)\u001b[0m\u001b[1;33m\u001b[0m\u001b[1;33m\u001b[0m\u001b[0m\n\u001b[0;32m      5\u001b[0m         \u001b[0mprint\u001b[0m\u001b[1;33m(\u001b[0m\u001b[0mget_V2_rev_primers\u001b[0m\u001b[1;33m(\u001b[0m\u001b[0mdb\u001b[0m\u001b[1;33m.\u001b[0m\u001b[0msequence\u001b[0m\u001b[1;33m[\u001b[0m\u001b[0mi\u001b[0m\u001b[1;33m]\u001b[0m\u001b[1;33m)\u001b[0m\u001b[1;33m)\u001b[0m\u001b[1;33m\u001b[0m\u001b[1;33m\u001b[0m\u001b[0m\n",
      "\u001b[1;32m<ipython-input-267-d528d4c1db17>\u001b[0m in \u001b[0;36m<listcomp>\u001b[1;34m(.0)\u001b[0m\n\u001b[0;32m      1\u001b[0m \u001b[1;32mfor\u001b[0m \u001b[0mi\u001b[0m \u001b[1;32min\u001b[0m \u001b[0mrange\u001b[0m\u001b[1;33m(\u001b[0m\u001b[0mlen\u001b[0m\u001b[1;33m(\u001b[0m\u001b[0mdf\u001b[0m\u001b[1;33m)\u001b[0m\u001b[1;33m)\u001b[0m\u001b[1;33m:\u001b[0m\u001b[1;33m\u001b[0m\u001b[1;33m\u001b[0m\u001b[0m\n\u001b[1;32m----> 2\u001b[1;33m     \u001b[1;32mif\u001b[0m \u001b[0msum\u001b[0m\u001b[1;33m(\u001b[0m\u001b[1;33m[\u001b[0m\u001b[0mlen\u001b[0m\u001b[1;33m(\u001b[0m\u001b[0mget_V2_primers\u001b[0m\u001b[1;33m(\u001b[0m\u001b[0mdb\u001b[0m\u001b[1;33m.\u001b[0m\u001b[0msequence\u001b[0m\u001b[1;33m[\u001b[0m\u001b[0mi\u001b[0m\u001b[1;33m]\u001b[0m\u001b[1;33m)\u001b[0m\u001b[1;33m[\u001b[0m\u001b[0mk\u001b[0m\u001b[1;33m]\u001b[0m\u001b[1;33m)\u001b[0m \u001b[1;32mfor\u001b[0m \u001b[0mk\u001b[0m \u001b[1;32min\u001b[0m \u001b[0mrange\u001b[0m\u001b[1;33m(\u001b[0m\u001b[1;36m15\u001b[0m\u001b[1;33m)\u001b[0m\u001b[1;33m]\u001b[0m\u001b[1;33m)\u001b[0m \u001b[1;33m>\u001b[0m \u001b[1;36m1\u001b[0m\u001b[1;33m:\u001b[0m\u001b[1;33m\u001b[0m\u001b[1;33m\u001b[0m\u001b[0m\n\u001b[0m\u001b[0;32m      3\u001b[0m         \u001b[0mprint\u001b[0m\u001b[1;33m(\u001b[0m\u001b[0mstr\u001b[0m\u001b[1;33m(\u001b[0m\u001b[0mi\u001b[0m\u001b[1;33m)\u001b[0m\u001b[1;33m,\u001b[0m \u001b[0mend\u001b[0m\u001b[1;33m=\u001b[0m\u001b[1;34m' '\u001b[0m\u001b[1;33m)\u001b[0m\u001b[1;33m\u001b[0m\u001b[1;33m\u001b[0m\u001b[0m\n\u001b[0;32m      4\u001b[0m         \u001b[0mprint\u001b[0m\u001b[1;33m(\u001b[0m\u001b[0mget_V2_primers\u001b[0m\u001b[1;33m(\u001b[0m\u001b[0mdb\u001b[0m\u001b[1;33m.\u001b[0m\u001b[0msequence\u001b[0m\u001b[1;33m[\u001b[0m\u001b[0mi\u001b[0m\u001b[1;33m]\u001b[0m\u001b[1;33m)\u001b[0m\u001b[1;33m,\u001b[0m \u001b[0mend\u001b[0m\u001b[1;33m=\u001b[0m\u001b[1;34m' '\u001b[0m\u001b[1;33m)\u001b[0m\u001b[1;33m\u001b[0m\u001b[1;33m\u001b[0m\u001b[0m\n\u001b[0;32m      5\u001b[0m         \u001b[0mprint\u001b[0m\u001b[1;33m(\u001b[0m\u001b[0mget_V2_rev_primers\u001b[0m\u001b[1;33m(\u001b[0m\u001b[0mdb\u001b[0m\u001b[1;33m.\u001b[0m\u001b[0msequence\u001b[0m\u001b[1;33m[\u001b[0m\u001b[0mi\u001b[0m\u001b[1;33m]\u001b[0m\u001b[1;33m)\u001b[0m\u001b[1;33m)\u001b[0m\u001b[1;33m\u001b[0m\u001b[1;33m\u001b[0m\u001b[0m\n",
      "\u001b[1;32m~\\Anaconda3\\lib\\site-packages\\pandas\\core\\series.py\u001b[0m in \u001b[0;36m__getitem__\u001b[1;34m(self, key)\u001b[0m\n\u001b[0;32m   1066\u001b[0m         \u001b[0mkey\u001b[0m \u001b[1;33m=\u001b[0m \u001b[0mcom\u001b[0m\u001b[1;33m.\u001b[0m\u001b[0mapply_if_callable\u001b[0m\u001b[1;33m(\u001b[0m\u001b[0mkey\u001b[0m\u001b[1;33m,\u001b[0m \u001b[0mself\u001b[0m\u001b[1;33m)\u001b[0m\u001b[1;33m\u001b[0m\u001b[1;33m\u001b[0m\u001b[0m\n\u001b[0;32m   1067\u001b[0m         \u001b[1;32mtry\u001b[0m\u001b[1;33m:\u001b[0m\u001b[1;33m\u001b[0m\u001b[1;33m\u001b[0m\u001b[0m\n\u001b[1;32m-> 1068\u001b[1;33m             \u001b[0mresult\u001b[0m \u001b[1;33m=\u001b[0m \u001b[0mself\u001b[0m\u001b[1;33m.\u001b[0m\u001b[0mindex\u001b[0m\u001b[1;33m.\u001b[0m\u001b[0mget_value\u001b[0m\u001b[1;33m(\u001b[0m\u001b[0mself\u001b[0m\u001b[1;33m,\u001b[0m \u001b[0mkey\u001b[0m\u001b[1;33m)\u001b[0m\u001b[1;33m\u001b[0m\u001b[1;33m\u001b[0m\u001b[0m\n\u001b[0m\u001b[0;32m   1069\u001b[0m \u001b[1;33m\u001b[0m\u001b[0m\n\u001b[0;32m   1070\u001b[0m             \u001b[1;32mif\u001b[0m \u001b[1;32mnot\u001b[0m \u001b[0mis_scalar\u001b[0m\u001b[1;33m(\u001b[0m\u001b[0mresult\u001b[0m\u001b[1;33m)\u001b[0m\u001b[1;33m:\u001b[0m\u001b[1;33m\u001b[0m\u001b[1;33m\u001b[0m\u001b[0m\n",
      "\u001b[1;32m~\\Anaconda3\\lib\\site-packages\\pandas\\core\\indexes\\base.py\u001b[0m in \u001b[0;36mget_value\u001b[1;34m(self, series, key)\u001b[0m\n\u001b[0;32m   4728\u001b[0m         \u001b[0mk\u001b[0m \u001b[1;33m=\u001b[0m \u001b[0mself\u001b[0m\u001b[1;33m.\u001b[0m\u001b[0m_convert_scalar_indexer\u001b[0m\u001b[1;33m(\u001b[0m\u001b[0mk\u001b[0m\u001b[1;33m,\u001b[0m \u001b[0mkind\u001b[0m\u001b[1;33m=\u001b[0m\u001b[1;34m\"getitem\"\u001b[0m\u001b[1;33m)\u001b[0m\u001b[1;33m\u001b[0m\u001b[1;33m\u001b[0m\u001b[0m\n\u001b[0;32m   4729\u001b[0m         \u001b[1;32mtry\u001b[0m\u001b[1;33m:\u001b[0m\u001b[1;33m\u001b[0m\u001b[1;33m\u001b[0m\u001b[0m\n\u001b[1;32m-> 4730\u001b[1;33m             \u001b[1;32mreturn\u001b[0m \u001b[0mself\u001b[0m\u001b[1;33m.\u001b[0m\u001b[0m_engine\u001b[0m\u001b[1;33m.\u001b[0m\u001b[0mget_value\u001b[0m\u001b[1;33m(\u001b[0m\u001b[0ms\u001b[0m\u001b[1;33m,\u001b[0m \u001b[0mk\u001b[0m\u001b[1;33m,\u001b[0m \u001b[0mtz\u001b[0m\u001b[1;33m=\u001b[0m\u001b[0mgetattr\u001b[0m\u001b[1;33m(\u001b[0m\u001b[0mseries\u001b[0m\u001b[1;33m.\u001b[0m\u001b[0mdtype\u001b[0m\u001b[1;33m,\u001b[0m \u001b[1;34m\"tz\"\u001b[0m\u001b[1;33m,\u001b[0m \u001b[1;32mNone\u001b[0m\u001b[1;33m)\u001b[0m\u001b[1;33m)\u001b[0m\u001b[1;33m\u001b[0m\u001b[1;33m\u001b[0m\u001b[0m\n\u001b[0m\u001b[0;32m   4731\u001b[0m         \u001b[1;32mexcept\u001b[0m \u001b[0mKeyError\u001b[0m \u001b[1;32mas\u001b[0m \u001b[0me1\u001b[0m\u001b[1;33m:\u001b[0m\u001b[1;33m\u001b[0m\u001b[1;33m\u001b[0m\u001b[0m\n\u001b[0;32m   4732\u001b[0m             \u001b[1;32mif\u001b[0m \u001b[0mlen\u001b[0m\u001b[1;33m(\u001b[0m\u001b[0mself\u001b[0m\u001b[1;33m)\u001b[0m \u001b[1;33m>\u001b[0m \u001b[1;36m0\u001b[0m \u001b[1;32mand\u001b[0m \u001b[1;33m(\u001b[0m\u001b[0mself\u001b[0m\u001b[1;33m.\u001b[0m\u001b[0mholds_integer\u001b[0m\u001b[1;33m(\u001b[0m\u001b[1;33m)\u001b[0m \u001b[1;32mor\u001b[0m \u001b[0mself\u001b[0m\u001b[1;33m.\u001b[0m\u001b[0mis_boolean\u001b[0m\u001b[1;33m(\u001b[0m\u001b[1;33m)\u001b[0m\u001b[1;33m)\u001b[0m\u001b[1;33m:\u001b[0m\u001b[1;33m\u001b[0m\u001b[1;33m\u001b[0m\u001b[0m\n",
      "\u001b[1;32mpandas\\_libs\\index.pyx\u001b[0m in \u001b[0;36mpandas._libs.index.IndexEngine.get_value\u001b[1;34m()\u001b[0m\n",
      "\u001b[1;32mpandas\\_libs\\index.pyx\u001b[0m in \u001b[0;36mpandas._libs.index.IndexEngine.get_value\u001b[1;34m()\u001b[0m\n",
      "\u001b[1;32mpandas\\_libs\\index.pyx\u001b[0m in \u001b[0;36mpandas._libs.index.IndexEngine.get_loc\u001b[1;34m()\u001b[0m\n",
      "\u001b[1;32mpandas\\_libs\\hashtable_class_helper.pxi\u001b[0m in \u001b[0;36mpandas._libs.hashtable.Int64HashTable.get_item\u001b[1;34m()\u001b[0m\n",
      "\u001b[1;32mpandas\\_libs\\hashtable_class_helper.pxi\u001b[0m in \u001b[0;36mpandas._libs.hashtable.Int64HashTable.get_item\u001b[1;34m()\u001b[0m\n",
      "\u001b[1;31mKeyError\u001b[0m: 10389"
     ]
    }
   ],
   "source": [
    "for i in range(len(df)):\n",
    "    if sum([len(get_V2_primers(db.sequence[i])[k]) for k in range(15)]) > 1:\n",
    "        print(str(i), end=' ')\n",
    "        print(get_V2_primers(db.sequence[i]), end=' ')\n",
    "        print(get_V2_rev_primers(db.sequence[i]))"
   ]
  },
  {
   "cell_type": "code",
   "execution_count": 254,
   "metadata": {},
   "outputs": [],
   "source": [
    "total_occurences_of_V2 = 0\n",
    "for i in range(len(db)):\n",
    "    occu = sum([len(get_V2_primers(db.sequence[i])[k]) for k in range(15)])\n",
    "    total_occurences_of_V2 += occu"
   ]
  },
  {
   "cell_type": "code",
   "execution_count": 255,
   "metadata": {},
   "outputs": [
    {
     "data": {
      "text/plain": [
       "6242"
      ]
     },
     "execution_count": 255,
     "metadata": {},
     "output_type": "execute_result"
    }
   ],
   "source": [
    "total_occurences_of_V2"
   ]
  },
  {
   "cell_type": "code",
   "execution_count": 256,
   "metadata": {},
   "outputs": [
    {
     "data": {
      "text/plain": [
       "['KGGABCACCGCYCGYC',\n",
       " 'GGGABCACCGCYCGYC',\n",
       " 'TGGABCACCGCYCGYC',\n",
       " 'KGGATCACCGCYCGYC',\n",
       " 'GGGATCACCGCYCGYC',\n",
       " 'TGGATCACCGCYCGYC',\n",
       " 'KGGACCACCGCYCGYC',\n",
       " 'GGGACCACCGCYCGYC',\n",
       " 'TGGACCACCGCYCGYC',\n",
       " 'KGGAGCACCGCYCGYC',\n",
       " 'GGGAGCACCGCYCGYC',\n",
       " 'TGGAGCACCGCYCGYC',\n",
       " 'KGGABCACCGCCCGYC',\n",
       " 'GGGABCACCGCCCGYC',\n",
       " 'TGGABCACCGCCCGYC',\n",
       " 'KGGATCACCGCCCGYC',\n",
       " 'GGGATCACCGCCCGYC',\n",
       " 'TGGATCACCGCCCGYC',\n",
       " 'KGGACCACCGCCCGYC',\n",
       " 'GGGACCACCGCCCGYC',\n",
       " 'TGGACCACCGCCCGYC',\n",
       " 'KGGAGCACCGCCCGYC',\n",
       " 'GGGAGCACCGCCCGYC',\n",
       " 'TGGAGCACCGCCCGYC',\n",
       " 'KGGABCACCGCTCGYC',\n",
       " 'GGGABCACCGCTCGYC',\n",
       " 'TGGABCACCGCTCGYC',\n",
       " 'KGGATCACCGCTCGYC',\n",
       " 'GGGATCACCGCTCGYC',\n",
       " 'TGGATCACCGCTCGYC',\n",
       " 'KGGACCACCGCTCGYC',\n",
       " 'GGGACCACCGCTCGYC',\n",
       " 'TGGACCACCGCTCGYC',\n",
       " 'KGGAGCACCGCTCGYC',\n",
       " 'GGGAGCACCGCTCGYC',\n",
       " 'TGGAGCACCGCTCGYC',\n",
       " 'KGGABCACCGCYCGCC',\n",
       " 'GGGABCACCGCYCGCC',\n",
       " 'TGGABCACCGCYCGCC',\n",
       " 'KGGATCACCGCYCGCC',\n",
       " 'GGGATCACCGCYCGCC',\n",
       " 'TGGATCACCGCYCGCC',\n",
       " 'KGGACCACCGCYCGCC',\n",
       " 'GGGACCACCGCYCGCC',\n",
       " 'TGGACCACCGCYCGCC',\n",
       " 'KGGAGCACCGCYCGCC',\n",
       " 'GGGAGCACCGCYCGCC',\n",
       " 'TGGAGCACCGCYCGCC',\n",
       " 'KGGABCACCGCCCGCC',\n",
       " 'GGGABCACCGCCCGCC',\n",
       " 'TGGABCACCGCCCGCC',\n",
       " 'KGGATCACCGCCCGCC',\n",
       " 'GGGATCACCGCCCGCC',\n",
       " 'TGGATCACCGCCCGCC',\n",
       " 'KGGACCACCGCCCGCC',\n",
       " 'GGGACCACCGCCCGCC',\n",
       " 'TGGACCACCGCCCGCC',\n",
       " 'KGGAGCACCGCCCGCC',\n",
       " 'GGGAGCACCGCCCGCC',\n",
       " 'TGGAGCACCGCCCGCC',\n",
       " 'KGGABCACCGCTCGCC',\n",
       " 'GGGABCACCGCTCGCC',\n",
       " 'TGGABCACCGCTCGCC',\n",
       " 'KGGATCACCGCTCGCC',\n",
       " 'GGGATCACCGCTCGCC',\n",
       " 'TGGATCACCGCTCGCC',\n",
       " 'KGGACCACCGCTCGCC',\n",
       " 'GGGACCACCGCTCGCC',\n",
       " 'TGGACCACCGCTCGCC',\n",
       " 'KGGAGCACCGCTCGCC',\n",
       " 'GGGAGCACCGCTCGCC',\n",
       " 'TGGAGCACCGCTCGCC',\n",
       " 'KGGABCACCGCYCGTC',\n",
       " 'GGGABCACCGCYCGTC',\n",
       " 'TGGABCACCGCYCGTC',\n",
       " 'KGGATCACCGCYCGTC',\n",
       " 'GGGATCACCGCYCGTC',\n",
       " 'TGGATCACCGCYCGTC',\n",
       " 'KGGACCACCGCYCGTC',\n",
       " 'GGGACCACCGCYCGTC',\n",
       " 'TGGACCACCGCYCGTC',\n",
       " 'KGGAGCACCGCYCGTC',\n",
       " 'GGGAGCACCGCYCGTC',\n",
       " 'TGGAGCACCGCYCGTC',\n",
       " 'KGGABCACCGCCCGTC',\n",
       " 'GGGABCACCGCCCGTC',\n",
       " 'TGGABCACCGCCCGTC',\n",
       " 'KGGATCACCGCCCGTC',\n",
       " 'GGGATCACCGCCCGTC',\n",
       " 'TGGATCACCGCCCGTC',\n",
       " 'KGGACCACCGCCCGTC',\n",
       " 'GGGACCACCGCCCGTC',\n",
       " 'TGGACCACCGCCCGTC',\n",
       " 'KGGAGCACCGCCCGTC',\n",
       " 'GGGAGCACCGCCCGTC',\n",
       " 'TGGAGCACCGCCCGTC',\n",
       " 'KGGABCACCGCTCGTC',\n",
       " 'GGGABCACCGCTCGTC',\n",
       " 'TGGABCACCGCTCGTC',\n",
       " 'KGGATCACCGCTCGTC',\n",
       " 'GGGATCACCGCTCGTC',\n",
       " 'TGGATCACCGCTCGTC',\n",
       " 'KGGACCACCGCTCGTC',\n",
       " 'GGGACCACCGCTCGTC',\n",
       " 'TGGACCACCGCTCGTC',\n",
       " 'KGGAGCACCGCTCGTC',\n",
       " 'GGGAGCACCGCTCGTC',\n",
       " 'TGGAGCACCGCTCGTC']"
      ]
     },
     "execution_count": 256,
     "metadata": {},
     "output_type": "execute_result"
    }
   ],
   "source": [
    "V8 = 'KGGABCACCGCYCGYC'\n",
    "get_list_of_related_primers(V8)"
   ]
  }
 ],
 "metadata": {
  "kernelspec": {
   "display_name": "Python 3",
   "language": "python",
   "name": "python3"
  },
  "language_info": {
   "codemirror_mode": {
    "name": "ipython",
    "version": 3
   },
   "file_extension": ".py",
   "mimetype": "text/x-python",
   "name": "python",
   "nbconvert_exporter": "python",
   "pygments_lexer": "ipython3",
   "version": "3.7.4"
  },
  "pycharm": {
   "stem_cell": {
    "cell_type": "raw",
    "metadata": {
     "collapsed": false
    },
    "source": []
   }
  },
  "toc": {
   "base_numbering": 1,
   "nav_menu": {},
   "number_sections": true,
   "sideBar": true,
   "skip_h1_title": true,
   "title_cell": "Table of Contents",
   "title_sidebar": "Contents",
   "toc_cell": true,
   "toc_position": {},
   "toc_section_display": true,
   "toc_window_display": false
  }
 },
 "nbformat": 4,
 "nbformat_minor": 2
}
