{
 "cells": [
  {
   "cell_type": "markdown",
   "metadata": {
    "toc": true
   },
   "source": [
    "<h1>Table of Contents<span class=\"tocSkip\"></span></h1>\n",
    "<div class=\"toc\"><ul class=\"toc-item\"><li><span><a href=\"#Packages\" data-toc-modified-id=\"Packages-1\"><span class=\"toc-item-num\">1&nbsp;&nbsp;</span>Packages</a></span><ul class=\"toc-item\"><li><span><a href=\"#Related-to-CAM\" data-toc-modified-id=\"Related-to-CAM-1.1\"><span class=\"toc-item-num\">1.1&nbsp;&nbsp;</span>Related to CAM</a></span></li><li><span><a href=\"#Specific-to-our-model\" data-toc-modified-id=\"Specific-to-our-model-1.2\"><span class=\"toc-item-num\">1.2&nbsp;&nbsp;</span>Specific to our model</a></span></li></ul></li><li><span><a href=\"#Load-and-train-a-model\" data-toc-modified-id=\"Load-and-train-a-model-2\"><span class=\"toc-item-num\">2&nbsp;&nbsp;</span>Load and train a model</a></span></li></ul></div>"
   ]
  },
  {
   "cell_type": "markdown",
   "metadata": {
    "colab_type": "text",
    "id": "view-in-github"
   },
   "source": [
    "<a href=\"https://colab.research.google.com/github/mlelarge/dataflowr/blob/master/CEA_EDF_INRIA/CAM_colab.ipynb\" target=\"_parent\"><img src=\"https://colab.research.google.com/assets/colab-badge.svg\" alt=\"Open In Colab\"/></a>"
   ]
  },
  {
   "cell_type": "markdown",
   "metadata": {
    "colab_type": "text",
    "id": "EZBwDI7xiVu5"
   },
   "source": [
    "# Class Activation Map - adapted from Marc Lelarge course at Ecole polytechnique\n",
    "\n",
    "\n",
    "http://cnnlocalization.csail.mit.edu/\n",
    "\n",
    "\n",
    "https://github.com/metalbubble/CAM"
   ]
  },
  {
   "cell_type": "markdown",
   "metadata": {},
   "source": [
    "## Packages"
   ]
  },
  {
   "cell_type": "markdown",
   "metadata": {},
   "source": [
    "### Related to CAM"
   ]
  },
  {
   "cell_type": "code",
   "execution_count": 1,
   "metadata": {
    "colab": {},
    "colab_type": "code",
    "id": "DNUU0eixiVvB"
   },
   "outputs": [],
   "source": [
    "import io\n",
    "import requests\n",
    "from PIL import Image\n",
    "import torch\n",
    "from torchvision import models, transforms\n",
    "from torch.autograd import Variable\n",
    "from torch.nn import functional as F\n",
    "import numpy as np\n",
    "import cv2\n",
    "import pdb\n",
    "from matplotlib.pyplot import imshow\n",
    "from torchviz import make_dot"
   ]
  },
  {
   "cell_type": "markdown",
   "metadata": {},
   "source": [
    "### Specific to our model"
   ]
  },
  {
   "cell_type": "code",
   "execution_count": 2,
   "metadata": {},
   "outputs": [],
   "source": [
    "from models.cnn_preprocessing import main_preprocessing_cnn\n",
    "from models.cnn_train_test import train, test\n",
    "from models.cnn_model_statistics import main_cnn_stats_model\n",
    "from models.loading_model_data import main_loading_model_data\n",
    "\n",
    "import torch.nn as nn \n",
    "import torch.nn.functional as F\n",
    "import torch\n",
    "import numpy as np\n",
    "from utils.utils import save_update_cnn"
   ]
  },
  {
   "cell_type": "code",
   "execution_count": 6,
   "metadata": {},
   "outputs": [],
   "source": [
    "class conv_module(nn.Module):\n",
    "    def __init__(self, k_mer: int = 1, max_size: int = 300):\n",
    "        super(conv_module, self).__init__()\n",
    "        self.k_mer = k_mer\n",
    "        self.max_size = max_size\n",
    "        # PARAMETERS\n",
    "        self.out_channel_1 = kernel_size_1_W\n",
    "        self.out_channel_2 = kernel_size_2_W\n",
    "        self.kernel_size_1_W = max_pool_stride_1_W\n",
    "        self.kernel_size_2_W = max_pool_stride_2_W\n",
    "        self.ratio_fc_1 = ratio_fc_1\n",
    "        # FIXED PARAMETERS\n",
    "        self.kernel_size_1_H = 4 ** k_mer\n",
    "        self.padding_conv_1_H = 0\n",
    "        self.padding_conv_1_W = 0\n",
    "        self.kernel_size_max_pool_1_H = 1\n",
    "        self.max_pool_stride_1_H = 1\n",
    "        self.max_pool_stride_1_W = 8\n",
    "        self.kernel_size_2_H = 1\n",
    "        self.padding_conv_2_H = 0\n",
    "        self.padding_conv_2_W = 0\n",
    "        self.kernel_size_max_pool_2_H = 1\n",
    "        self.max_pool_stride_2_H = 1\n",
    "        self.max_pool_stride_2_W = 8\n",
    "        # COPIED PARAMETERS\n",
    "        self.kernel_size_max_pool_1_W = self.kernel_size_1_W  # 7\n",
    "        self.kernel_size_max_pool_2_W = self.kernel_size_2_W  # 7\n",
    "        # SIZE COMPUTATION\n",
    "        self.L_out_conv_1_H = 4 ** k_mer - self.kernel_size_1_H + 2 * self.padding_conv_1_H + 1  # 1\n",
    "        self.L_out_conv_1_W = max_size - self.kernel_size_1_W + 2 * self.padding_conv_1_W + 1  # 294\n",
    "        self.L_out_max_pool_1_H = int((self.L_out_conv_1_H - self.kernel_size_max_pool_1_H) // self.max_pool_stride_1_H) + 1  # 1\n",
    "        self.L_out_max_pool_1_W = int((self.L_out_conv_1_W - self.kernel_size_max_pool_1_W) // self.max_pool_stride_1_W) + 1  # 36\n",
    "        self.L_out_conv_2_H = self.L_out_max_pool_1_H - self.kernel_size_2_H + 2 * self.padding_conv_2_H + 1  # 1\n",
    "        self.L_out_conv_2_W = self.L_out_max_pool_1_W - self.kernel_size_2_W + 2 * self.padding_conv_2_W + 1  # 30\n",
    "        self.L_out_max_pool_2_H = int((self.L_out_conv_2_H - self.kernel_size_max_pool_2_H) // self.max_pool_stride_2_H) + 1  # 1\n",
    "        self.L_out_max_pool_2_W = int((self.L_out_conv_2_W - self.kernel_size_max_pool_2_W) // self.max_pool_stride_2_W) + 1  # 4\n",
    "        self.L_in_fc_1 = int(self.out_channel_2 * self.L_out_max_pool_2_H * self.L_out_max_pool_2_W)  # 80\n",
    "        self.L_out_fc_1 = int(self.out_channel_2 * self.L_out_max_pool_2_H * self.L_out_max_pool_2_W * self.ratio_fc_1)  # 40\n",
    "        # Layers\n",
    "        self.conv1 = nn.Conv2d(in_channels=1, out_channels=self.out_channel_1,\n",
    "                               kernel_size=(self.kernel_size_1_H, self.kernel_size_1_W),\n",
    "                               padding=(self.padding_conv_1_H, self.padding_conv_1_W))\n",
    "        self.bn1 = nn.BatchNorm2d(self.out_channel_1)\n",
    "        self.ReLU1 = nn.ReLU()\n",
    "        # Layers\n",
    "        self.conv2 = nn.Conv2d(in_channels=self.out_channel_1, out_channels=self.out_channel_2,\n",
    "                               kernel_size=(self.kernel_size_2_H, self.kernel_size_2_W),\n",
    "                               padding=(self.padding_conv_2_H, self.padding_conv_2_W))\n",
    "        self.bn2 = nn.BatchNorm2d(self.out_channel_2)\n",
    "        self.ReLU2 = nn.ReLU()\n",
    "        \n",
    "    def forward(self, x):\n",
    "        x = x.view(-1, 1, 4 ** self.k_mer, self.max_size)\n",
    "        x = self.conv1(x)\n",
    "        x = self.bn1(x)\n",
    "        x = self.ReLU1(x)\n",
    "        x = F.max_pool2d(x,\n",
    "                         kernel_size=(self.kernel_size_max_pool_1_H, self.kernel_size_max_pool_1_W),\n",
    "                         stride=(self.max_pool_stride_1_H, self.max_pool_stride_1_W))\n",
    "        x = self.conv2(x)\n",
    "        x = self.bn2(x)\n",
    "        x = self.ReLU2(x)\n",
    "        x = F.max_pool2d(x,\n",
    "                         kernel_size=(self.kernel_size_max_pool_2_H, self.kernel_size_max_pool_2_W),\n",
    "                         stride=(self.max_pool_stride_2_H, self.max_pool_stride_2_W))        \n",
    "        return x\n",
    "\n",
    "class fc_module(nn.Module):\n",
    "    def __init__(self, n_out_features: int, k_mer: int = 1, max_size: int = 300):\n",
    "        super(fc_module, self).__init__()\n",
    "        self.k_mer = k_mer\n",
    "        self.max_size = max_size\n",
    "        # PARAMETERS\n",
    "        self.out_channel_1 = kernel_size_1_W\n",
    "        self.out_channel_2 = kernel_size_2_W\n",
    "        self.kernel_size_1_W = max_pool_stride_1_W\n",
    "        self.kernel_size_2_W = max_pool_stride_2_W\n",
    "        self.ratio_fc_1 = ratio_fc_1\n",
    "        # FIXED PARAMETERS\n",
    "        self.kernel_size_1_H = 4 ** k_mer\n",
    "        self.padding_conv_1_H = 0\n",
    "        self.padding_conv_1_W = 0\n",
    "        self.kernel_size_max_pool_1_H = 1\n",
    "        self.max_pool_stride_1_H = 1\n",
    "        self.max_pool_stride_1_W = 8\n",
    "        self.kernel_size_2_H = 1\n",
    "        self.padding_conv_2_H = 0\n",
    "        self.padding_conv_2_W = 0\n",
    "        self.kernel_size_max_pool_2_H = 1\n",
    "        self.max_pool_stride_2_H = 1\n",
    "        self.max_pool_stride_2_W = 8\n",
    "        # COPIED PARAMETERS\n",
    "        self.kernel_size_max_pool_1_W = self.kernel_size_1_W  # 7\n",
    "        self.kernel_size_max_pool_2_W = self.kernel_size_2_W  # 7\n",
    "        # SIZE COMPUTATION\n",
    "        self.L_out_conv_1_H = 4 ** k_mer - self.kernel_size_1_H + 2 * self.padding_conv_1_H + 1  # 1\n",
    "        self.L_out_conv_1_W = max_size - self.kernel_size_1_W + 2 * self.padding_conv_1_W + 1  # 294\n",
    "        self.L_out_max_pool_1_H = int((self.L_out_conv_1_H - self.kernel_size_max_pool_1_H) // self.max_pool_stride_1_H) + 1  # 1\n",
    "        self.L_out_max_pool_1_W = int((self.L_out_conv_1_W - self.kernel_size_max_pool_1_W) // self.max_pool_stride_1_W) + 1  # 36\n",
    "        self.L_out_conv_2_H = self.L_out_max_pool_1_H - self.kernel_size_2_H + 2 * self.padding_conv_2_H + 1  # 1\n",
    "        self.L_out_conv_2_W = self.L_out_max_pool_1_W - self.kernel_size_2_W + 2 * self.padding_conv_2_W + 1  # 30\n",
    "        self.L_out_max_pool_2_H = int((self.L_out_conv_2_H - self.kernel_size_max_pool_2_H) // self.max_pool_stride_2_H) + 1  # 1\n",
    "        self.L_out_max_pool_2_W = int((self.L_out_conv_2_W - self.kernel_size_max_pool_2_W) // self.max_pool_stride_2_W) + 1  # 4\n",
    "        self.L_in_fc_1 = int(self.out_channel_2)  \n",
    "        # FC part\n",
    "        self.avgpool = nn.AdaptiveAvgPool2d(output_size=(1, 1))\n",
    "        self.fc1 = nn.Linear(in_features=self.L_in_fc_1,\n",
    "                             out_features=n_out_features)\n",
    "\n",
    "        \n",
    "    def forward(self, x):\n",
    "        x = F.dropout(x, p=0.5)\n",
    "        x = self.avgpool(x)\n",
    "        x = x.view(-1, self.L_in_fc_1)\n",
    "        x = self.fc1(x)\n",
    "        return x\n",
    "\n",
    "class classifier_GD_2(nn.Module):\n",
    "\n",
    "    def __init__(self, n_out_features: int, k_mer: int = 1, max_size: int = 300):\n",
    "        super(classifier_GD_2, self).__init__()\n",
    "        self.conv = conv_module(k_mer=k_mer, max_size=max_size)\n",
    "        self.fully_connected = fc_module(n_out_features=n_out_features, k_mer=k_mer, max_size=max_size)\n",
    "\n",
    "    def forward(self, x):\n",
    "        x = self.conv(x)\n",
    "        x = self.fully_connected(x)\n",
    "        return x\n"
   ]
  },
  {
   "cell_type": "markdown",
   "metadata": {},
   "source": [
    "## Load and train a model"
   ]
  },
  {
   "cell_type": "code",
   "execution_count": 7,
   "metadata": {},
   "outputs": [],
   "source": [
    "parameter_config = {'sequence_origin':'DairyDB', 'primers_origin':'DairyDB', 'selected_primer':'V4', 'taxonomy_level':1, 'dimension':2, 'k_mer':1, 'vector_max_size':300, 'out_channel_1':32, 'out_channel_2':64, 'kernel_size_1_W':12, 'kernel_size_2_W':12, 'max_pool_stride_1_W':2, 'max_pool_stride_2_W':2, 'ratio_fc_1':2/3, 'n_epochs':10, 'learning_rate':1e-3}"
   ]
  },
  {
   "cell_type": "code",
   "execution_count": 8,
   "metadata": {
    "scrolled": true
   },
   "outputs": [
    {
     "name": "stdout",
     "output_type": "stream",
     "text": [
      "Epoch 1 over 10\n",
      "Train - Loss: 0.0486 Acc: 0.2583\n",
      "Test - Loss: 0.0346 Acc: 0.4356\n",
      "Epoch 2 over 10\n",
      "Train - Loss: 0.0281 Acc: 0.4907\n",
      "Test - Loss: 0.0273 Acc: 0.4995\n",
      "Epoch 3 over 10\n",
      "Train - Loss: 0.0254 Acc: 0.5488\n",
      "Test - Loss: 0.0257 Acc: 0.5484\n",
      "Epoch 4 over 10\n",
      "Train - Loss: 0.0242 Acc: 0.5715\n",
      "Test - Loss: 0.0249 Acc: 0.5830\n",
      "Epoch 5 over 10\n",
      "Train - Loss: 0.0232 Acc: 0.5984\n",
      "Test - Loss: 0.0242 Acc: 0.5894\n",
      "Epoch 6 over 10\n",
      "Train - Loss: 0.0224 Acc: 0.6138\n",
      "Test - Loss: 0.0239 Acc: 0.6037\n",
      "Epoch 7 over 10\n",
      "Train - Loss: 0.0220 Acc: 0.6232\n",
      "Test - Loss: 0.0230 Acc: 0.6138\n",
      "Epoch 8 over 10\n",
      "Train - Loss: 0.0217 Acc: 0.6280\n",
      "Test - Loss: 0.0231 Acc: 0.6096\n",
      "Epoch 9 over 10\n",
      "Train - Loss: 0.0213 Acc: 0.6388\n",
      "Test - Loss: 0.0223 Acc: 0.6234\n",
      "Epoch 10 over 10\n",
      "Train - Loss: 0.0211 Acc: 0.6394\n",
      "Test - Loss: 0.0219 Acc: 0.6324\n",
      "Test - Loss: 0.0221 Acc: 0.6394\n"
     ]
    }
   ],
   "source": [
    "dim = parameter_config['dimension']\n",
    "k_mer = parameter_config['k_mer']\n",
    "max_size = parameter_config['vector_max_size']\n",
    "file_path = 'results/models/CNN {}D - CNN({}) - accuracies.csv'.format(\n",
    "    dim, k_mer\n",
    ")\n",
    "\n",
    "train_loader, test_loader, dict_class_to_id, dict_id_to_class = main_preprocessing_cnn(\n",
    "    sequence_origin=parameter_config['sequence_origin'], \n",
    "    primers_origin=parameter_config['primers_origin'],\n",
    "    selected_primer=parameter_config['selected_primer'], \n",
    "    taxonomy_level=parameter_config['taxonomy_level'],\n",
    "    max_size=max_size,\n",
    "    k_mer=k_mer\n",
    ")\n",
    "X_train, X_test, y_train, y_test = main_loading_model_data(sequence_origin=parameter_config['sequence_origin'], \n",
    "                                                           primers_origin=parameter_config['primers_origin'], \n",
    "                                                           selected_primer=parameter_config['selected_primer'], \n",
    "                                                           taxonomy_level=parameter_config['taxonomy_level'])\n",
    "n_out_features = len(dict_class_to_id)\n",
    "\n",
    "kernel_size_1_W = parameter_config['kernel_size_1_W']\n",
    "kernel_size_2_W = parameter_config['kernel_size_2_W']\n",
    "max_pool_stride_1_W = parameter_config['max_pool_stride_1_W']\n",
    "max_pool_stride_2_W = parameter_config['max_pool_stride_2_W']\n",
    "ratio_fc_1 = parameter_config['ratio_fc_1']\n",
    "\n",
    "n_epochs = parameter_config['n_epochs']\n",
    "\n",
    "\n",
    "\n",
    "conv_class = classifier_GD_2(n_out_features, k_mer, max_size)\n",
    "\n",
    "loss_fn = nn.CrossEntropyLoss()\n",
    "learning_rate = parameter_config['learning_rate']\n",
    "optimizer_cl = torch.optim.Adam(conv_class.parameters(), lr=learning_rate)\n",
    "\n",
    "loss_train, acc_train, loss_test, acc_test = train(conv_class, train_loader, test_loader, loss_fn, optimizer_cl, n_epochs=n_epochs)\n",
    "\n",
    "final_test_loss, accuracy, y_test_torch, y_pred_torch = test(conv_class, test_loader, loss_fn)\n",
    "\n",
    "parameter_config['accuracy'] = accuracy\n",
    "\n",
    "main_cnn_stats_model(y_train, y_test_torch, y_pred_torch, dict_id_to_class, loss_train, loss_test, acc_train, acc_test,\n",
    "                 make_plot=True,\n",
    "                 model_name='CNN - Aoki - {}D'.format(dim),\n",
    "                 model_class=conv_class,\n",
    "                 model_preprocessing='OHE of letters in {} dimensions (k={}) - max size = {}'.format(4**k_mer, k_mer, max_size),\n",
    "                 sequence_origin=parameter_config['sequence_origin'],\n",
    "                 primers_origin=parameter_config['primers_origin'],\n",
    "                 taxonomy_level=parameter_config['taxonomy_level'],\n",
    "                 selected_primer=parameter_config['selected_primer'])\n",
    "\n",
    "#save_update_cnn(file_path, parameter_config.keys(), parameter_config.values())"
   ]
  },
  {
   "cell_type": "code",
   "execution_count": 9,
   "metadata": {},
   "outputs": [
    {
     "data": {
      "text/plain": [
       "classifier_GD_2(\n",
       "  (conv): conv_module(\n",
       "    (conv1): Conv2d(1, 12, kernel_size=(4, 2), stride=(1, 1))\n",
       "    (bn1): BatchNorm2d(12, eps=1e-05, momentum=0.1, affine=True, track_running_stats=True)\n",
       "    (ReLU1): ReLU()\n",
       "    (conv2): Conv2d(12, 12, kernel_size=(1, 2), stride=(1, 1))\n",
       "    (bn2): BatchNorm2d(12, eps=1e-05, momentum=0.1, affine=True, track_running_stats=True)\n",
       "    (ReLU2): ReLU()\n",
       "  )\n",
       "  (fully_connected): fc_module(\n",
       "    (fc1): Linear(in_features=12, out_features=44, bias=True)\n",
       "    (avgpool): AdaptiveAvgPool2d(output_size=(1, 1))\n",
       "  )\n",
       ")"
      ]
     },
     "execution_count": 9,
     "metadata": {},
     "output_type": "execute_result"
    }
   ],
   "source": [
    "conv_class"
   ]
  },
  {
   "cell_type": "code",
   "execution_count": 10,
   "metadata": {
    "colab": {},
    "colab_type": "code",
    "id": "cMgoA17fiVvT"
   },
   "outputs": [],
   "source": [
    "net = conv_class\n",
    "\n",
    "finalconv_name = 'conv'"
   ]
  },
  {
   "cell_type": "code",
   "execution_count": 11,
   "metadata": {},
   "outputs": [],
   "source": [
    "H_init_dim = 4 ** parameter_config['k_mer']\n",
    "W_init_dim = parameter_config['vector_max_size']"
   ]
  },
  {
   "cell_type": "code",
   "execution_count": 12,
   "metadata": {
    "colab": {},
    "colab_type": "code",
    "id": "xtavlPdDiVvz"
   },
   "outputs": [
    {
     "data": {
      "image/svg+xml": [
       "<?xml version=\"1.0\" encoding=\"UTF-8\" standalone=\"no\"?>\r\n",
       "<!DOCTYPE svg PUBLIC \"-//W3C//DTD SVG 1.1//EN\"\r\n",
       " \"http://www.w3.org/Graphics/SVG/1.1/DTD/svg11.dtd\">\r\n",
       "<!-- Generated by graphviz version 2.38.0 (20140413.2041)\r\n",
       " -->\r\n",
       "<!-- Title: %3 Pages: 1 -->\r\n",
       "<svg width=\"685pt\" height=\"864pt\"\r\n",
       " viewBox=\"0.00 0.00 684.55 864.00\" xmlns=\"http://www.w3.org/2000/svg\" xmlns:xlink=\"http://www.w3.org/1999/xlink\">\r\n",
       "<g id=\"graph0\" class=\"graph\" transform=\"scale(0.886154 0.886154) rotate(0) translate(4 971)\">\r\n",
       "<title>%3</title>\r\n",
       "<polygon fill=\"white\" stroke=\"none\" points=\"-4,4 -4,-971 768.5,-971 768.5,4 -4,4\"/>\r\n",
       "<!-- 1942161846152 -->\r\n",
       "<g id=\"node1\" class=\"node\"><title>1942161846152</title>\r\n",
       "<polygon fill=\"#caff70\" stroke=\"black\" points=\"623.5,-21 522.5,-21 522.5,-0 623.5,-0 623.5,-21\"/>\r\n",
       "<text text-anchor=\"middle\" x=\"573\" y=\"-7.4\" font-family=\"Times New Roman,serif\" font-size=\"12.00\">AddmmBackward</text>\r\n",
       "</g>\r\n",
       "<!-- 1942161843016 -->\r\n",
       "<g id=\"node2\" class=\"node\"><title>1942161843016</title>\r\n",
       "<polygon fill=\"lightblue\" stroke=\"black\" points=\"510.5,-91 385.5,-91 385.5,-57 510.5,-57 510.5,-91\"/>\r\n",
       "<text text-anchor=\"middle\" x=\"448\" y=\"-77.4\" font-family=\"Times New Roman,serif\" font-size=\"12.00\">fully_connected.fc1.bias</text>\r\n",
       "<text text-anchor=\"middle\" x=\"448\" y=\"-64.4\" font-family=\"Times New Roman,serif\" font-size=\"12.00\"> (44)</text>\r\n",
       "</g>\r\n",
       "<!-- 1942161843016&#45;&gt;1942161846152 -->\r\n",
       "<g id=\"edge1\" class=\"edge\"><title>1942161843016&#45;&gt;1942161846152</title>\r\n",
       "<path fill=\"none\" stroke=\"black\" d=\"M480.842,-56.8416C500.644,-47.0992 525.616,-34.8129 544.569,-25.4881\"/>\r\n",
       "<polygon fill=\"black\" stroke=\"black\" points=\"546.178,-28.5971 553.606,-21.0419 543.088,-22.3161 546.178,-28.5971\"/>\r\n",
       "</g>\r\n",
       "<!-- 1942145713672 -->\r\n",
       "<g id=\"node3\" class=\"node\"><title>1942145713672</title>\r\n",
       "<polygon fill=\"lightgrey\" stroke=\"black\" points=\"617,-84.5 529,-84.5 529,-63.5 617,-63.5 617,-84.5\"/>\r\n",
       "<text text-anchor=\"middle\" x=\"573\" y=\"-70.9\" font-family=\"Times New Roman,serif\" font-size=\"12.00\">ViewBackward</text>\r\n",
       "</g>\r\n",
       "<!-- 1942145713672&#45;&gt;1942161846152 -->\r\n",
       "<g id=\"edge2\" class=\"edge\"><title>1942145713672&#45;&gt;1942161846152</title>\r\n",
       "<path fill=\"none\" stroke=\"black\" d=\"M573,-63.3906C573,-54.8657 573,-42.1392 573,-31.4235\"/>\r\n",
       "<polygon fill=\"black\" stroke=\"black\" points=\"576.5,-31.2448 573,-21.2449 569.5,-31.2449 576.5,-31.2448\"/>\r\n",
       "</g>\r\n",
       "<!-- 1942160565192 -->\r\n",
       "<g id=\"node4\" class=\"node\"><title>1942160565192</title>\r\n",
       "<polygon fill=\"lightgrey\" stroke=\"black\" points=\"609,-154.5 521,-154.5 521,-133.5 609,-133.5 609,-154.5\"/>\r\n",
       "<text text-anchor=\"middle\" x=\"565\" y=\"-140.9\" font-family=\"Times New Roman,serif\" font-size=\"12.00\">ViewBackward</text>\r\n",
       "</g>\r\n",
       "<!-- 1942160565192&#45;&gt;1942145713672 -->\r\n",
       "<g id=\"edge3\" class=\"edge\"><title>1942160565192&#45;&gt;1942145713672</title>\r\n",
       "<path fill=\"none\" stroke=\"black\" d=\"M566.146,-133.257C567.322,-123.259 569.186,-107.422 570.673,-94.7821\"/>\r\n",
       "<polygon fill=\"black\" stroke=\"black\" points=\"574.163,-95.0652 571.856,-84.7247 567.211,-94.2472 574.163,-95.0652\"/>\r\n",
       "</g>\r\n",
       "<!-- 1942160566856 -->\r\n",
       "<g id=\"node5\" class=\"node\"><title>1942160566856</title>\r\n",
       "<polygon fill=\"lightgrey\" stroke=\"black\" points=\"613,-218 517,-218 517,-197 613,-197 613,-218\"/>\r\n",
       "<text text-anchor=\"middle\" x=\"565\" y=\"-204.4\" font-family=\"Times New Roman,serif\" font-size=\"12.00\">MeanBackward1</text>\r\n",
       "</g>\r\n",
       "<!-- 1942160566856&#45;&gt;1942160565192 -->\r\n",
       "<g id=\"edge4\" class=\"edge\"><title>1942160566856&#45;&gt;1942160565192</title>\r\n",
       "<path fill=\"none\" stroke=\"black\" d=\"M565,-196.891C565,-188.366 565,-175.639 565,-164.923\"/>\r\n",
       "<polygon fill=\"black\" stroke=\"black\" points=\"568.5,-164.745 565,-154.745 561.5,-164.745 568.5,-164.745\"/>\r\n",
       "</g>\r\n",
       "<!-- 1942160566216 -->\r\n",
       "<g id=\"node6\" class=\"node\"><title>1942160566216</title>\r\n",
       "<polygon fill=\"lightgrey\" stroke=\"black\" points=\"609,-275 521,-275 521,-254 609,-254 609,-275\"/>\r\n",
       "<text text-anchor=\"middle\" x=\"565\" y=\"-261.4\" font-family=\"Times New Roman,serif\" font-size=\"12.00\">ViewBackward</text>\r\n",
       "</g>\r\n",
       "<!-- 1942160566216&#45;&gt;1942160566856 -->\r\n",
       "<g id=\"edge5\" class=\"edge\"><title>1942160566216&#45;&gt;1942160566856</title>\r\n",
       "<path fill=\"none\" stroke=\"black\" d=\"M565,-253.92C565,-246.908 565,-237.144 565,-228.465\"/>\r\n",
       "<polygon fill=\"black\" stroke=\"black\" points=\"568.5,-228.341 565,-218.341 561.5,-228.341 568.5,-228.341\"/>\r\n",
       "</g>\r\n",
       "<!-- 1942145616584 -->\r\n",
       "<g id=\"node7\" class=\"node\"><title>1942145616584</title>\r\n",
       "<polygon fill=\"lightgrey\" stroke=\"black\" points=\"609,-332 521,-332 521,-311 609,-311 609,-332\"/>\r\n",
       "<text text-anchor=\"middle\" x=\"565\" y=\"-318.4\" font-family=\"Times New Roman,serif\" font-size=\"12.00\">MulBackward0</text>\r\n",
       "</g>\r\n",
       "<!-- 1942145616584&#45;&gt;1942160566216 -->\r\n",
       "<g id=\"edge6\" class=\"edge\"><title>1942145616584&#45;&gt;1942160566216</title>\r\n",
       "<path fill=\"none\" stroke=\"black\" d=\"M565,-310.92C565,-303.908 565,-294.144 565,-285.465\"/>\r\n",
       "<polygon fill=\"black\" stroke=\"black\" points=\"568.5,-285.341 565,-275.341 561.5,-285.341 568.5,-285.341\"/>\r\n",
       "</g>\r\n",
       "<!-- 1942145614152 -->\r\n",
       "<g id=\"node8\" class=\"node\"><title>1942145614152</title>\r\n",
       "<polygon fill=\"lightgrey\" stroke=\"black\" points=\"652,-389 478,-389 478,-368 652,-368 652,-389\"/>\r\n",
       "<text text-anchor=\"middle\" x=\"565\" y=\"-375.4\" font-family=\"Times New Roman,serif\" font-size=\"12.00\">MaxPool2DWithIndicesBackward</text>\r\n",
       "</g>\r\n",
       "<!-- 1942145614152&#45;&gt;1942145616584 -->\r\n",
       "<g id=\"edge7\" class=\"edge\"><title>1942145614152&#45;&gt;1942145616584</title>\r\n",
       "<path fill=\"none\" stroke=\"black\" d=\"M565,-367.92C565,-360.908 565,-351.144 565,-342.465\"/>\r\n",
       "<polygon fill=\"black\" stroke=\"black\" points=\"568.5,-342.341 565,-332.341 561.5,-342.341 568.5,-342.341\"/>\r\n",
       "</g>\r\n",
       "<!-- 1942145615432 -->\r\n",
       "<g id=\"node9\" class=\"node\"><title>1942145615432</title>\r\n",
       "<polygon fill=\"lightgrey\" stroke=\"black\" points=\"610,-446 520,-446 520,-425 610,-425 610,-446\"/>\r\n",
       "<text text-anchor=\"middle\" x=\"565\" y=\"-432.4\" font-family=\"Times New Roman,serif\" font-size=\"12.00\">ReluBackward0</text>\r\n",
       "</g>\r\n",
       "<!-- 1942145615432&#45;&gt;1942145614152 -->\r\n",
       "<g id=\"edge8\" class=\"edge\"><title>1942145615432&#45;&gt;1942145614152</title>\r\n",
       "<path fill=\"none\" stroke=\"black\" d=\"M565,-424.92C565,-417.908 565,-408.144 565,-399.465\"/>\r\n",
       "<polygon fill=\"black\" stroke=\"black\" points=\"568.5,-399.341 565,-389.341 561.5,-399.341 568.5,-399.341\"/>\r\n",
       "</g>\r\n",
       "<!-- 1942161928072 -->\r\n",
       "<g id=\"node10\" class=\"node\"><title>1942161928072</title>\r\n",
       "<polygon fill=\"lightgrey\" stroke=\"black\" points=\"638.5,-503 491.5,-503 491.5,-482 638.5,-482 638.5,-503\"/>\r\n",
       "<text text-anchor=\"middle\" x=\"565\" y=\"-489.4\" font-family=\"Times New Roman,serif\" font-size=\"12.00\">NativeBatchNormBackward</text>\r\n",
       "</g>\r\n",
       "<!-- 1942161928072&#45;&gt;1942145615432 -->\r\n",
       "<g id=\"edge9\" class=\"edge\"><title>1942161928072&#45;&gt;1942145615432</title>\r\n",
       "<path fill=\"none\" stroke=\"black\" d=\"M565,-481.92C565,-474.908 565,-465.144 565,-456.465\"/>\r\n",
       "<polygon fill=\"black\" stroke=\"black\" points=\"568.5,-456.341 565,-446.341 561.5,-456.341 568.5,-456.341\"/>\r\n",
       "</g>\r\n",
       "<!-- 1942161924232 -->\r\n",
       "<g id=\"node11\" class=\"node\"><title>1942161924232</title>\r\n",
       "<polygon fill=\"lightgrey\" stroke=\"black\" points=\"501.5,-566.5 376.5,-566.5 376.5,-545.5 501.5,-545.5 501.5,-566.5\"/>\r\n",
       "<text text-anchor=\"middle\" x=\"439\" y=\"-552.9\" font-family=\"Times New Roman,serif\" font-size=\"12.00\">ThnnConv2DBackward</text>\r\n",
       "</g>\r\n",
       "<!-- 1942161924232&#45;&gt;1942161928072 -->\r\n",
       "<g id=\"edge10\" class=\"edge\"><title>1942161924232&#45;&gt;1942161928072</title>\r\n",
       "<path fill=\"none\" stroke=\"black\" d=\"M458.688,-545.391C479.492,-535.236 512.511,-519.12 536.232,-507.542\"/>\r\n",
       "<polygon fill=\"black\" stroke=\"black\" points=\"537.999,-510.574 545.451,-503.042 534.929,-504.283 537.999,-510.574\"/>\r\n",
       "</g>\r\n",
       "<!-- 1942161490504 -->\r\n",
       "<g id=\"node12\" class=\"node\"><title>1942161490504</title>\r\n",
       "<polygon fill=\"lightgrey\" stroke=\"black\" points=\"370,-636.5 196,-636.5 196,-615.5 370,-615.5 370,-636.5\"/>\r\n",
       "<text text-anchor=\"middle\" x=\"283\" y=\"-622.9\" font-family=\"Times New Roman,serif\" font-size=\"12.00\">MaxPool2DWithIndicesBackward</text>\r\n",
       "</g>\r\n",
       "<!-- 1942161490504&#45;&gt;1942161924232 -->\r\n",
       "<g id=\"edge11\" class=\"edge\"><title>1942161490504&#45;&gt;1942161924232</title>\r\n",
       "<path fill=\"none\" stroke=\"black\" d=\"M305.02,-615.401C331.848,-603.707 377.35,-583.873 407.783,-570.607\"/>\r\n",
       "<polygon fill=\"black\" stroke=\"black\" points=\"409.323,-573.754 417.092,-566.55 406.526,-567.337 409.323,-573.754\"/>\r\n",
       "</g>\r\n",
       "<!-- 1942165544392 -->\r\n",
       "<g id=\"node13\" class=\"node\"><title>1942165544392</title>\r\n",
       "<polygon fill=\"lightgrey\" stroke=\"black\" points=\"328,-700 238,-700 238,-679 328,-679 328,-700\"/>\r\n",
       "<text text-anchor=\"middle\" x=\"283\" y=\"-686.4\" font-family=\"Times New Roman,serif\" font-size=\"12.00\">ReluBackward0</text>\r\n",
       "</g>\r\n",
       "<!-- 1942165544392&#45;&gt;1942161490504 -->\r\n",
       "<g id=\"edge12\" class=\"edge\"><title>1942165544392&#45;&gt;1942161490504</title>\r\n",
       "<path fill=\"none\" stroke=\"black\" d=\"M283,-678.891C283,-670.366 283,-657.639 283,-646.923\"/>\r\n",
       "<polygon fill=\"black\" stroke=\"black\" points=\"286.5,-646.745 283,-636.745 279.5,-646.745 286.5,-646.745\"/>\r\n",
       "</g>\r\n",
       "<!-- 1942161947400 -->\r\n",
       "<g id=\"node14\" class=\"node\"><title>1942161947400</title>\r\n",
       "<polygon fill=\"lightgrey\" stroke=\"black\" points=\"356.5,-757 209.5,-757 209.5,-736 356.5,-736 356.5,-757\"/>\r\n",
       "<text text-anchor=\"middle\" x=\"283\" y=\"-743.4\" font-family=\"Times New Roman,serif\" font-size=\"12.00\">NativeBatchNormBackward</text>\r\n",
       "</g>\r\n",
       "<!-- 1942161947400&#45;&gt;1942165544392 -->\r\n",
       "<g id=\"edge13\" class=\"edge\"><title>1942161947400&#45;&gt;1942165544392</title>\r\n",
       "<path fill=\"none\" stroke=\"black\" d=\"M283,-735.92C283,-728.908 283,-719.144 283,-710.465\"/>\r\n",
       "<polygon fill=\"black\" stroke=\"black\" points=\"286.5,-710.341 283,-700.341 279.5,-710.341 286.5,-710.341\"/>\r\n",
       "</g>\r\n",
       "<!-- 1942161945224 -->\r\n",
       "<g id=\"node15\" class=\"node\"><title>1942161945224</title>\r\n",
       "<polygon fill=\"lightgrey\" stroke=\"black\" points=\"219.5,-820.5 94.5,-820.5 94.5,-799.5 219.5,-799.5 219.5,-820.5\"/>\r\n",
       "<text text-anchor=\"middle\" x=\"157\" y=\"-806.9\" font-family=\"Times New Roman,serif\" font-size=\"12.00\">ThnnConv2DBackward</text>\r\n",
       "</g>\r\n",
       "<!-- 1942161945224&#45;&gt;1942161947400 -->\r\n",
       "<g id=\"edge14\" class=\"edge\"><title>1942161945224&#45;&gt;1942161947400</title>\r\n",
       "<path fill=\"none\" stroke=\"black\" d=\"M176.688,-799.391C197.492,-789.236 230.511,-773.12 254.232,-761.542\"/>\r\n",
       "<polygon fill=\"black\" stroke=\"black\" points=\"255.999,-764.574 263.451,-757.042 252.929,-758.283 255.999,-764.574\"/>\r\n",
       "</g>\r\n",
       "<!-- 1942161704264 -->\r\n",
       "<g id=\"node16\" class=\"node\"><title>1942161704264</title>\r\n",
       "<polygon fill=\"lightgrey\" stroke=\"black\" points=\"88,-890.5 0,-890.5 0,-869.5 88,-869.5 88,-890.5\"/>\r\n",
       "<text text-anchor=\"middle\" x=\"44\" y=\"-876.9\" font-family=\"Times New Roman,serif\" font-size=\"12.00\">ViewBackward</text>\r\n",
       "</g>\r\n",
       "<!-- 1942161704264&#45;&gt;1942161945224 -->\r\n",
       "<g id=\"edge15\" class=\"edge\"><title>1942161704264&#45;&gt;1942161945224</title>\r\n",
       "<path fill=\"none\" stroke=\"black\" d=\"M60.1901,-869.257C79.0931,-857.882 110.557,-838.948 132.465,-825.765\"/>\r\n",
       "<polygon fill=\"black\" stroke=\"black\" points=\"134.441,-828.66 141.204,-820.505 130.831,-822.663 134.441,-828.66\"/>\r\n",
       "</g>\r\n",
       "<!-- 1942161704520 -->\r\n",
       "<g id=\"node17\" class=\"node\"><title>1942161704520</title>\r\n",
       "<polygon fill=\"lightblue\" stroke=\"black\" points=\"78.5,-967 9.5,-967 9.5,-933 78.5,-933 78.5,-967\"/>\r\n",
       "<text text-anchor=\"middle\" x=\"44\" y=\"-953.4\" font-family=\"Times New Roman,serif\" font-size=\"12.00\">x</text>\r\n",
       "<text text-anchor=\"middle\" x=\"44\" y=\"-940.4\" font-family=\"Times New Roman,serif\" font-size=\"12.00\"> (1, 4, 300)</text>\r\n",
       "</g>\r\n",
       "<!-- 1942161704520&#45;&gt;1942161704264 -->\r\n",
       "<g id=\"edge16\" class=\"edge\"><title>1942161704520&#45;&gt;1942161704264</title>\r\n",
       "<path fill=\"none\" stroke=\"black\" d=\"M44,-932.885C44,-923.309 44,-911.088 44,-900.912\"/>\r\n",
       "<polygon fill=\"black\" stroke=\"black\" points=\"47.5001,-900.895 44,-890.895 40.5001,-900.895 47.5001,-900.895\"/>\r\n",
       "</g>\r\n",
       "<!-- 1942161706184 -->\r\n",
       "<g id=\"node18\" class=\"node\"><title>1942161706184</title>\r\n",
       "<polygon fill=\"lightblue\" stroke=\"black\" points=\"207.5,-897 106.5,-897 106.5,-863 207.5,-863 207.5,-897\"/>\r\n",
       "<text text-anchor=\"middle\" x=\"157\" y=\"-883.4\" font-family=\"Times New Roman,serif\" font-size=\"12.00\">conv.conv1.weight</text>\r\n",
       "<text text-anchor=\"middle\" x=\"157\" y=\"-870.4\" font-family=\"Times New Roman,serif\" font-size=\"12.00\"> (12, 1, 4, 2)</text>\r\n",
       "</g>\r\n",
       "<!-- 1942161706184&#45;&gt;1942161945224 -->\r\n",
       "<g id=\"edge17\" class=\"edge\"><title>1942161706184&#45;&gt;1942161945224</title>\r\n",
       "<path fill=\"none\" stroke=\"black\" d=\"M157,-862.885C157,-853.309 157,-841.088 157,-830.912\"/>\r\n",
       "<polygon fill=\"black\" stroke=\"black\" points=\"160.5,-830.895 157,-820.895 153.5,-830.895 160.5,-830.895\"/>\r\n",
       "</g>\r\n",
       "<!-- 1942161704584 -->\r\n",
       "<g id=\"node19\" class=\"node\"><title>1942161704584</title>\r\n",
       "<polygon fill=\"lightblue\" stroke=\"black\" points=\"316,-897 226,-897 226,-863 316,-863 316,-897\"/>\r\n",
       "<text text-anchor=\"middle\" x=\"271\" y=\"-883.4\" font-family=\"Times New Roman,serif\" font-size=\"12.00\">conv.conv1.bias</text>\r\n",
       "<text text-anchor=\"middle\" x=\"271\" y=\"-870.4\" font-family=\"Times New Roman,serif\" font-size=\"12.00\"> (12)</text>\r\n",
       "</g>\r\n",
       "<!-- 1942161704584&#45;&gt;1942161945224 -->\r\n",
       "<g id=\"edge18\" class=\"edge\"><title>1942161704584&#45;&gt;1942161945224</title>\r\n",
       "<path fill=\"none\" stroke=\"black\" d=\"M243.984,-862.885C225.171,-851.663 200.266,-836.808 181.927,-825.869\"/>\r\n",
       "<polygon fill=\"black\" stroke=\"black\" points=\"183.637,-822.813 173.256,-820.696 180.051,-828.825 183.637,-822.813\"/>\r\n",
       "</g>\r\n",
       "<!-- 1942161948296 -->\r\n",
       "<g id=\"node20\" class=\"node\"><title>1942161948296</title>\r\n",
       "<polygon fill=\"lightblue\" stroke=\"black\" points=\"328.5,-827 237.5,-827 237.5,-793 328.5,-793 328.5,-827\"/>\r\n",
       "<text text-anchor=\"middle\" x=\"283\" y=\"-813.4\" font-family=\"Times New Roman,serif\" font-size=\"12.00\">conv.bn1.weight</text>\r\n",
       "<text text-anchor=\"middle\" x=\"283\" y=\"-800.4\" font-family=\"Times New Roman,serif\" font-size=\"12.00\"> (12)</text>\r\n",
       "</g>\r\n",
       "<!-- 1942161948296&#45;&gt;1942161947400 -->\r\n",
       "<g id=\"edge19\" class=\"edge\"><title>1942161948296&#45;&gt;1942161947400</title>\r\n",
       "<path fill=\"none\" stroke=\"black\" d=\"M283,-792.842C283,-785.012 283,-775.54 283,-767.282\"/>\r\n",
       "<polygon fill=\"black\" stroke=\"black\" points=\"286.5,-767.042 283,-757.042 279.5,-767.042 286.5,-767.042\"/>\r\n",
       "</g>\r\n",
       "<!-- 1942161947784 -->\r\n",
       "<g id=\"node21\" class=\"node\"><title>1942161947784</title>\r\n",
       "<polygon fill=\"lightblue\" stroke=\"black\" points=\"427,-827 347,-827 347,-793 427,-793 427,-827\"/>\r\n",
       "<text text-anchor=\"middle\" x=\"387\" y=\"-813.4\" font-family=\"Times New Roman,serif\" font-size=\"12.00\">conv.bn1.bias</text>\r\n",
       "<text text-anchor=\"middle\" x=\"387\" y=\"-800.4\" font-family=\"Times New Roman,serif\" font-size=\"12.00\"> (12)</text>\r\n",
       "</g>\r\n",
       "<!-- 1942161947784&#45;&gt;1942161947400 -->\r\n",
       "<g id=\"edge20\" class=\"edge\"><title>1942161947784&#45;&gt;1942161947400</title>\r\n",
       "<path fill=\"none\" stroke=\"black\" d=\"M359.675,-792.842C343.727,-783.411 323.747,-771.596 308.182,-762.391\"/>\r\n",
       "<polygon fill=\"black\" stroke=\"black\" points=\"309.525,-759.119 299.136,-757.042 305.962,-765.145 309.525,-759.119\"/>\r\n",
       "</g>\r\n",
       "<!-- 1942161490568 -->\r\n",
       "<g id=\"node22\" class=\"node\"><title>1942161490568</title>\r\n",
       "<polygon fill=\"lightblue\" stroke=\"black\" points=\"489.5,-643 388.5,-643 388.5,-609 489.5,-609 489.5,-643\"/>\r\n",
       "<text text-anchor=\"middle\" x=\"439\" y=\"-629.4\" font-family=\"Times New Roman,serif\" font-size=\"12.00\">conv.conv2.weight</text>\r\n",
       "<text text-anchor=\"middle\" x=\"439\" y=\"-616.4\" font-family=\"Times New Roman,serif\" font-size=\"12.00\"> (12, 12, 1, 2)</text>\r\n",
       "</g>\r\n",
       "<!-- 1942161490568&#45;&gt;1942161924232 -->\r\n",
       "<g id=\"edge21\" class=\"edge\"><title>1942161490568&#45;&gt;1942161924232</title>\r\n",
       "<path fill=\"none\" stroke=\"black\" d=\"M439,-608.885C439,-599.309 439,-587.088 439,-576.912\"/>\r\n",
       "<polygon fill=\"black\" stroke=\"black\" points=\"442.5,-576.895 439,-566.895 435.5,-576.895 442.5,-576.895\"/>\r\n",
       "</g>\r\n",
       "<!-- 1942165541704 -->\r\n",
       "<g id=\"node23\" class=\"node\"><title>1942165541704</title>\r\n",
       "<polygon fill=\"lightblue\" stroke=\"black\" points=\"598,-643 508,-643 508,-609 598,-609 598,-643\"/>\r\n",
       "<text text-anchor=\"middle\" x=\"553\" y=\"-629.4\" font-family=\"Times New Roman,serif\" font-size=\"12.00\">conv.conv2.bias</text>\r\n",
       "<text text-anchor=\"middle\" x=\"553\" y=\"-616.4\" font-family=\"Times New Roman,serif\" font-size=\"12.00\"> (12)</text>\r\n",
       "</g>\r\n",
       "<!-- 1942165541704&#45;&gt;1942161924232 -->\r\n",
       "<g id=\"edge22\" class=\"edge\"><title>1942165541704&#45;&gt;1942161924232</title>\r\n",
       "<path fill=\"none\" stroke=\"black\" d=\"M525.984,-608.885C507.171,-597.663 482.266,-582.808 463.927,-571.869\"/>\r\n",
       "<polygon fill=\"black\" stroke=\"black\" points=\"465.637,-568.813 455.256,-566.696 462.051,-574.825 465.637,-568.813\"/>\r\n",
       "</g>\r\n",
       "<!-- 1942161491464 -->\r\n",
       "<g id=\"node24\" class=\"node\"><title>1942161491464</title>\r\n",
       "<polygon fill=\"lightblue\" stroke=\"black\" points=\"610.5,-573 519.5,-573 519.5,-539 610.5,-539 610.5,-573\"/>\r\n",
       "<text text-anchor=\"middle\" x=\"565\" y=\"-559.4\" font-family=\"Times New Roman,serif\" font-size=\"12.00\">conv.bn2.weight</text>\r\n",
       "<text text-anchor=\"middle\" x=\"565\" y=\"-546.4\" font-family=\"Times New Roman,serif\" font-size=\"12.00\"> (12)</text>\r\n",
       "</g>\r\n",
       "<!-- 1942161491464&#45;&gt;1942161928072 -->\r\n",
       "<g id=\"edge23\" class=\"edge\"><title>1942161491464&#45;&gt;1942161928072</title>\r\n",
       "<path fill=\"none\" stroke=\"black\" d=\"M565,-538.842C565,-531.012 565,-521.54 565,-513.282\"/>\r\n",
       "<polygon fill=\"black\" stroke=\"black\" points=\"568.5,-513.042 565,-503.042 561.5,-513.042 568.5,-513.042\"/>\r\n",
       "</g>\r\n",
       "<!-- 1942161490632 -->\r\n",
       "<g id=\"node25\" class=\"node\"><title>1942161490632</title>\r\n",
       "<polygon fill=\"lightblue\" stroke=\"black\" points=\"709,-573 629,-573 629,-539 709,-539 709,-573\"/>\r\n",
       "<text text-anchor=\"middle\" x=\"669\" y=\"-559.4\" font-family=\"Times New Roman,serif\" font-size=\"12.00\">conv.bn2.bias</text>\r\n",
       "<text text-anchor=\"middle\" x=\"669\" y=\"-546.4\" font-family=\"Times New Roman,serif\" font-size=\"12.00\"> (12)</text>\r\n",
       "</g>\r\n",
       "<!-- 1942161490632&#45;&gt;1942161928072 -->\r\n",
       "<g id=\"edge24\" class=\"edge\"><title>1942161490632&#45;&gt;1942161928072</title>\r\n",
       "<path fill=\"none\" stroke=\"black\" d=\"M641.675,-538.842C625.727,-529.411 605.747,-517.596 590.182,-508.391\"/>\r\n",
       "<polygon fill=\"black\" stroke=\"black\" points=\"591.525,-505.119 581.136,-503.042 587.962,-511.145 591.525,-505.119\"/>\r\n",
       "</g>\r\n",
       "<!-- 1942145712328 -->\r\n",
       "<g id=\"node26\" class=\"node\"><title>1942145712328</title>\r\n",
       "<polygon fill=\"lightgrey\" stroke=\"black\" points=\"722.5,-84.5 651.5,-84.5 651.5,-63.5 722.5,-63.5 722.5,-84.5\"/>\r\n",
       "<text text-anchor=\"middle\" x=\"687\" y=\"-70.9\" font-family=\"Times New Roman,serif\" font-size=\"12.00\">TBackward</text>\r\n",
       "</g>\r\n",
       "<!-- 1942145712328&#45;&gt;1942161846152 -->\r\n",
       "<g id=\"edge25\" class=\"edge\"><title>1942145712328&#45;&gt;1942161846152</title>\r\n",
       "<path fill=\"none\" stroke=\"black\" d=\"M669.188,-63.3906C650.532,-53.3262 621.02,-37.4057 599.603,-25.8514\"/>\r\n",
       "<polygon fill=\"black\" stroke=\"black\" points=\"601.15,-22.7095 590.687,-21.0419 597.827,-28.8702 601.15,-22.7095\"/>\r\n",
       "</g>\r\n",
       "<!-- 1942145614344 -->\r\n",
       "<g id=\"node27\" class=\"node\"><title>1942145614344</title>\r\n",
       "<polygon fill=\"lightblue\" stroke=\"black\" points=\"764.5,-161 627.5,-161 627.5,-127 764.5,-127 764.5,-161\"/>\r\n",
       "<text text-anchor=\"middle\" x=\"696\" y=\"-147.4\" font-family=\"Times New Roman,serif\" font-size=\"12.00\">fully_connected.fc1.weight</text>\r\n",
       "<text text-anchor=\"middle\" x=\"696\" y=\"-134.4\" font-family=\"Times New Roman,serif\" font-size=\"12.00\"> (44, 12)</text>\r\n",
       "</g>\r\n",
       "<!-- 1942145614344&#45;&gt;1942145712328 -->\r\n",
       "<g id=\"edge26\" class=\"edge\"><title>1942145614344&#45;&gt;1942145712328</title>\r\n",
       "<path fill=\"none\" stroke=\"black\" d=\"M693.867,-126.885C692.6,-117.309 690.982,-105.088 689.635,-94.9119\"/>\r\n",
       "<polygon fill=\"black\" stroke=\"black\" points=\"693.091,-94.3489 688.31,-84.8946 686.152,-95.2674 693.091,-94.3489\"/>\r\n",
       "</g>\r\n",
       "</g>\r\n",
       "</svg>\r\n"
      ],
      "text/plain": [
       "<graphviz.dot.Digraph at 0x1c431dde808>"
      ]
     },
     "execution_count": 12,
     "metadata": {},
     "output_type": "execute_result"
    }
   ],
   "source": [
    "x = torch.randn(1, H_init_dim, W_init_dim).requires_grad_(True)\n",
    "y = net(x)\n",
    "make_dot(y, params=dict(list(net.named_parameters()) + [('x', x)]))"
   ]
  },
  {
   "cell_type": "code",
   "execution_count": 13,
   "metadata": {
    "colab": {},
    "colab_type": "code",
    "id": "t6zoBApLiVwD"
   },
   "outputs": [],
   "source": [
    "net.eval()\n",
    "\n",
    "# hook the feature extractor\n",
    "# see https://pytorch.org/tutorials/beginner/former_torchies/nn_tutorial.html\n",
    "# for more explanations\n",
    "features_blobs = []\n",
    "def hook_feature(module, input, output):\n",
    "    print('Inside ' + module.__class__.__name__ + ' forward')\n",
    "    print('')\n",
    "    print('input: ', type(input))\n",
    "    print('input[0]: ', type(input[0]))\n",
    "    print('output: ', type(output))\n",
    "    print('')\n",
    "    print('input size:', input[0].size())\n",
    "    print('output size:', output.data.size())\n",
    "    features_blobs.append(output.data.cpu().numpy())\n",
    "\n",
    "net._modules.get(finalconv_name).register_forward_hook(hook_feature);"
   ]
  },
  {
   "cell_type": "code",
   "execution_count": 14,
   "metadata": {
    "colab": {},
    "colab_type": "code",
    "id": "d_5ItJNciVwe"
   },
   "outputs": [],
   "source": [
    "# get the softmax weight\n",
    "params = list(net.parameters())\n",
    "weight_softmax = np.squeeze(params[-2].data.numpy())"
   ]
  },
  {
   "cell_type": "code",
   "execution_count": 15,
   "metadata": {},
   "outputs": [
    {
     "data": {
      "text/plain": [
       "(44, 12)"
      ]
     },
     "execution_count": 15,
     "metadata": {},
     "output_type": "execute_result"
    }
   ],
   "source": [
    "weight_softmax.shape"
   ]
  },
  {
   "cell_type": "markdown",
   "metadata": {
    "colab_type": "text",
    "id": "RQ1Ap4EmiVwm"
   },
   "source": [
    "the last parameter is the bias"
   ]
  },
  {
   "cell_type": "code",
   "execution_count": 16,
   "metadata": {},
   "outputs": [
    {
     "data": {
      "text/plain": [
       "torch.Size([44])"
      ]
     },
     "execution_count": 16,
     "metadata": {},
     "output_type": "execute_result"
    }
   ],
   "source": [
    "params[-1].shape"
   ]
  },
  {
   "cell_type": "markdown",
   "metadata": {
    "colab_type": "text",
    "id": "q8S8vLosiVw4"
   },
   "source": [
    "and the before last parameter is the last matrix from the fc layer"
   ]
  },
  {
   "cell_type": "code",
   "execution_count": 17,
   "metadata": {
    "colab": {},
    "colab_type": "code",
    "id": "quQMxt1-iVxL"
   },
   "outputs": [],
   "source": [
    "def returnCAM(feature_conv, weight_softmax, class_idx):\n",
    "    # generate the class activation maps upsample to 256x256 - TODO CHANGE\n",
    "    size_upsample = (H_init_dim, W_init_dim)\n",
    "    bz, nc, h, w = feature_conv.shape\n",
    "    output_cam = []\n",
    "    for idx in class_idx:\n",
    "        cam = weight_softmax[idx].dot(feature_conv.reshape((nc, h*w)))\n",
    "        cam = cam.reshape(h, w)\n",
    "        cam = cam - np.min(cam)\n",
    "        cam_img = cam / np.max(cam)\n",
    "        cam_img = np.uint8(255 * cam_img)\n",
    "        output_cam.append(cv2.resize(cam_img, size_upsample))\n",
    "    return output_cam\n",
    "\n",
    "\n",
    "#response = requests.get(IMG_URL)\n",
    "#img_pil = Image.open(io.BytesIO(response.content))\n",
    "#img_pil.save('test.jpg')\n",
    "#imshow(img_pil);"
   ]
  },
  {
   "cell_type": "code",
   "execution_count": 18,
   "metadata": {},
   "outputs": [],
   "source": [
    "for inputs, label in test_loader:\n",
    "    X_sample = inputs[0]\n",
    "    y_sample = label[0]\n",
    "    break"
   ]
  },
  {
   "cell_type": "code",
   "execution_count": 19,
   "metadata": {},
   "outputs": [
    {
     "data": {
      "text/plain": [
       "tensor([[1., 0., 1.,  ..., 0., 0., 0.],\n",
       "        [0., 1., 0.,  ..., 0., 0., 0.],\n",
       "        [0., 0., 0.,  ..., 0., 0., 0.],\n",
       "        [0., 0., 0.,  ..., 0., 0., 0.]])"
      ]
     },
     "execution_count": 19,
     "metadata": {},
     "output_type": "execute_result"
    }
   ],
   "source": [
    "X_sample"
   ]
  },
  {
   "cell_type": "code",
   "execution_count": 20,
   "metadata": {},
   "outputs": [
    {
     "data": {
      "text/plain": [
       "tensor(21)"
      ]
     },
     "execution_count": 20,
     "metadata": {},
     "output_type": "execute_result"
    }
   ],
   "source": [
    "y_sample"
   ]
  },
  {
   "cell_type": "code",
   "execution_count": 21,
   "metadata": {
    "colab": {},
    "colab_type": "code",
    "id": "NPO1QO43iVxU"
   },
   "outputs": [
    {
     "name": "stdout",
     "output_type": "stream",
     "text": [
      "Inside conv_module forward\n",
      "\n",
      "input:  <class 'tuple'>\n",
      "input[0]:  <class 'torch.Tensor'>\n",
      "output:  <class 'torch.Tensor'>\n",
      "\n",
      "input size: torch.Size([1, 4, 300])\n",
      "output size: torch.Size([1, 12, 1, 5])\n"
     ]
    }
   ],
   "source": [
    "seq_variable = Variable(X_sample.unsqueeze(0))\n",
    "logit = net(seq_variable)"
   ]
  },
  {
   "cell_type": "code",
   "execution_count": 22,
   "metadata": {
    "colab": {},
    "colab_type": "code",
    "id": "xsf9lConiVxg"
   },
   "outputs": [],
   "source": [
    "classes = dict_id_to_class\n",
    "\n",
    "h_x = F.softmax(logit, dim=1).data.squeeze()\n",
    "probs, idx = h_x.sort(0, True)\n",
    "probs = probs.numpy()\n",
    "idx = idx.numpy()"
   ]
  },
  {
   "cell_type": "code",
   "execution_count": 23,
   "metadata": {
    "colab": {},
    "colab_type": "code",
    "id": "xa_B5bQuiVxq"
   },
   "outputs": [
    {
     "name": "stdout",
     "output_type": "stream",
     "text": [
      "0.799 -> FIRMICUTES\n",
      "0.087 -> PROTEOBACTERIA\n",
      "0.027 -> ACTINOBACTERIA\n",
      "0.024 -> ACIDOBACTERIA\n",
      "0.014 -> CHLOROFLEXI\n"
     ]
    }
   ],
   "source": [
    "# output the prediction\n",
    "for i in range(0, 5):\n",
    "    print('{:.3f} -> {}'.format(probs[i], classes[idx[i]]))"
   ]
  },
  {
   "cell_type": "code",
   "execution_count": 24,
   "metadata": {},
   "outputs": [],
   "source": [
    "# generate class activation mapping for the top1 prediction\n",
    "CAMs = returnCAM(features_blobs[0], weight_softmax, [idx[0]])"
   ]
  },
  {
   "cell_type": "code",
   "execution_count": 25,
   "metadata": {
    "colab": {},
    "colab_type": "code",
    "id": "s25z8IRHiVx7"
   },
   "outputs": [
    {
     "name": "stdout",
     "output_type": "stream",
     "text": [
      "output CAM.jpg for the top1 prediction: FIRMICUTES\n"
     ]
    },
    {
     "data": {
      "text/plain": [
       "True"
      ]
     },
     "execution_count": 25,
     "metadata": {},
     "output_type": "execute_result"
    }
   ],
   "source": [
    "# render the CAM and output\n",
    "print('output CAM.jpg for the top1 prediction: %s'%classes[idx[0]])\n",
    "#img = cv2.imread('test.jpg')\n",
    "height, width, _ = 4, 300, 1\n",
    "heatmap = cv2.applyColorMap(cv2.resize(CAMs[0],(width, height)), cv2.COLORMAP_JET)\n",
    "result = heatmap * 0.3 #+ img * 0.5\n",
    "cv2.imwrite('CAM_SEQ.jpg', result)"
   ]
  },
  {
   "cell_type": "code",
   "execution_count": null,
   "metadata": {
    "colab": {},
    "colab_type": "code",
    "id": "3_gSTzumiVyS"
   },
   "outputs": [],
   "source": [
    "from IPython.display import Image\n",
    "Image(\"CAM.jpg\")"
   ]
  },
  {
   "cell_type": "code",
   "execution_count": null,
   "metadata": {
    "colab": {},
    "colab_type": "code",
    "id": "a9eAJWl8iVyf"
   },
   "outputs": [],
   "source": [
    "# generate class activation mapping for the top1 prediction\n",
    "CAM1s = returnCAM(features_blobs[0], weight_softmax, [idx[2]])\n",
    "\n",
    "# render the CAM and output\n",
    "print('output CAM1.jpg for the top3 prediction: %s'%classes[idx[2]])\n",
    "img = cv2.imread('test.jpg')\n",
    "height, width, _ = img.shape\n",
    "heatmap = cv2.applyColorMap(cv2.resize(CAM1s[0],(width, height)), cv2.COLORMAP_JET)\n",
    "result = heatmap * 0.3 + img * 0.5\n",
    "cv2.imwrite('CAM1.jpg', result)"
   ]
  },
  {
   "cell_type": "code",
   "execution_count": null,
   "metadata": {
    "colab": {},
    "colab_type": "code",
    "id": "Lm0KdthciVy5"
   },
   "outputs": [],
   "source": [
    "Image(\"CAM1.jpg\")"
   ]
  },
  {
   "cell_type": "code",
   "execution_count": null,
   "metadata": {
    "colab": {},
    "colab_type": "code",
    "id": "4pgd_jZwjO1w"
   },
   "outputs": [],
   "source": []
  }
 ],
 "metadata": {
  "accelerator": "GPU",
  "colab": {
   "include_colab_link": true,
   "name": "CAM_colab.ipynb",
   "provenance": [],
   "version": "0.3.2"
  },
  "kernelspec": {
   "display_name": "Python 3",
   "language": "python",
   "name": "python3"
  },
  "language_info": {
   "codemirror_mode": {
    "name": "ipython",
    "version": 3
   },
   "file_extension": ".py",
   "mimetype": "text/x-python",
   "name": "python",
   "nbconvert_exporter": "python",
   "pygments_lexer": "ipython3",
   "version": "3.7.4"
  },
  "toc": {
   "base_numbering": 1,
   "nav_menu": {},
   "number_sections": true,
   "sideBar": true,
   "skip_h1_title": true,
   "title_cell": "Table of Contents",
   "title_sidebar": "Contents",
   "toc_cell": true,
   "toc_position": {},
   "toc_section_display": true,
   "toc_window_display": false
  }
 },
 "nbformat": 4,
 "nbformat_minor": 1
}
